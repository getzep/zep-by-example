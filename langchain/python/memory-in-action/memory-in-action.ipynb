{
 "cells": [
  {
   "cell_type": "code",
   "execution_count": 1,
   "id": "9fdc74a5-1420-45f1-9dc4-2b160a0d1f46",
   "metadata": {
    "ExecuteTime": {
     "end_time": "2023-07-17T00:42:18.672062Z",
     "start_time": "2023-07-17T00:42:17.658023Z"
    }
   },
   "outputs": [],
   "source": [
    "from __future__ import annotations\n",
    "\n",
    "from uuid import uuid4\n",
    "from datetime import datetime\n",
    "\n",
    "from zep_python.models import Session\n",
    "from dotenv import load_dotenv\n",
    "from langchain import LLMChain\n",
    "from langchain.chat_models import ChatOpenAI\n",
    "from langchain.memory import ZepMemory\n",
    "from langchain.prompts.prompt import PromptTemplate\n",
    "from langchain.schema import BaseMessage\n",
    "from langchain.input import get_colored_text\n",
    "from langchain.schema import PromptValue\n",
    "from langchain.callbacks.manager import CallbackManagerForChainRun\n",
    "from typing import Any, Optional, Dict, List, Tuple"
   ]
  },
  {
   "cell_type": "code",
   "execution_count": 2,
   "outputs": [],
   "source": [
    "ZEP_API_URL = \"http://localhost:8000\"\n",
    "\n",
    "session_id = str(uuid4())\n",
    "memory = ZepMemory(\n",
    "    session_id=session_id,\n",
    "    url=ZEP_API_URL,\n",
    "    memory_key=\"chat_history\",\n",
    "    input_key=\"input\",\n",
    ")"
   ],
   "metadata": {
    "collapsed": false,
    "ExecuteTime": {
     "end_time": "2023-07-17T00:42:18.689404Z",
     "start_time": "2023-07-17T00:42:18.673289Z"
    }
   }
  },
  {
   "cell_type": "code",
   "execution_count": 3,
   "id": "3f4028fd-f4d6-47d8-bcbc-212a38dd71dc",
   "metadata": {
    "ExecuteTime": {
     "end_time": "2023-07-17T00:42:18.694153Z",
     "start_time": "2023-07-17T00:42:18.689975Z"
    }
   },
   "outputs": [
    {
     "data": {
      "text/plain": "True"
     },
     "execution_count": 3,
     "metadata": {},
     "output_type": "execute_result"
    }
   ],
   "source": [
    "load_dotenv()"
   ]
  },
  {
   "cell_type": "code",
   "execution_count": 4,
   "outputs": [],
   "source": [
    "def get_entities_from_memory(\n",
    "    memory: ZepMemory,\n",
    "    include_role: list[str] | None = None,\n",
    "    include_label: list[str] | None = None,\n",
    "    exclude_label: list[str] | None = None,\n",
    ") -> str:\n",
    "    if include_role is None:\n",
    "        include_role = [\"human\", \"ai\"]\n",
    "\n",
    "    entities_strs = []\n",
    "    for message in memory.chat_memory.zep_messages:\n",
    "        if message.role not in include_role:\n",
    "            continue\n",
    "\n",
    "        if not (message.metadata and message.metadata.get(\"system\").get(\"entities\")):\n",
    "            continue\n",
    "\n",
    "        entities_str_part = []\n",
    "        for entity in message.metadata.get(\"system\").get(\"entities\"):\n",
    "            if (\n",
    "                include_label is not None and entity.get(\"Label\") not in include_label\n",
    "            ) or (exclude_label is not None and entity.get(\"Label\") in exclude_label):\n",
    "                continue\n",
    "\n",
    "            entities_str_part.append(f\"{entity.get('Name')} ({entity.get('Label')})\")\n",
    "\n",
    "        if entities_str_part:\n",
    "            entities_strs.append(f\"{message.role}: {', '.join(entities_str_part)}\")\n",
    "\n",
    "    return \"\\n\".join(entities_strs)"
   ],
   "metadata": {
    "collapsed": false,
    "ExecuteTime": {
     "end_time": "2023-07-17T00:42:18.715756Z",
     "start_time": "2023-07-17T00:42:18.695220Z"
    }
   }
  },
  {
   "cell_type": "code",
   "execution_count": 5,
   "outputs": [],
   "source": [
    "prompt_template = \"\"\"You are a conversational bot who enjoys learning new things about\n",
    "the people you chat with. You're very curious about the world and want to know more about it.\n",
    "\n",
    "Here are some of the things that have been discussed in the past:\n",
    "{entities}\n",
    "\n",
    "Here are the prior messages in this conversation:\n",
    "{chat_history}\n",
    "\n",
    "Here is a question: {input}\n",
    "\"\"\"\n",
    "\n",
    "prompt = PromptTemplate(\n",
    "    template=prompt_template, input_variables=[\"input\", \"entities\", \"chat_history\"]\n",
    ")"
   ],
   "metadata": {
    "collapsed": false,
    "ExecuteTime": {
     "end_time": "2023-07-17T00:42:18.724818Z",
     "start_time": "2023-07-17T00:42:18.698532Z"
    }
   }
  },
  {
   "cell_type": "code",
   "execution_count": 6,
   "id": "e404cadb-ae7c-4f46-b30b-5ea599be928a",
   "metadata": {
    "ExecuteTime": {
     "end_time": "2023-07-17T00:42:18.757180Z",
     "start_time": "2023-07-17T00:42:18.700711Z"
    }
   },
   "outputs": [],
   "source": [
    "llm = ChatOpenAI(model_name=\"gpt-3.5-turbo\")\n",
    "\n",
    "chain = LLMChain(llm=llm, memory=memory, prompt=prompt, verbose=True)"
   ]
  },
  {
   "cell_type": "code",
   "execution_count": 7,
   "id": "db842d53-ca76-4d16-a9ce-6061c4ab4ad8",
   "metadata": {
    "ExecuteTime": {
     "end_time": "2023-07-17T00:42:29.404284Z",
     "start_time": "2023-07-17T00:42:18.757404Z"
    }
   },
   "outputs": [
    {
     "name": "stderr",
     "output_type": "stream",
     "text": [
      "Session cd03b41c-8deb-4a91-868d-4af905f3f9e3 not found in Zep. Returning None\n",
      "Session cd03b41c-8deb-4a91-868d-4af905f3f9e3 not found in Zep. Returning None\n"
     ]
    },
    {
     "name": "stdout",
     "output_type": "stream",
     "text": [
      "\n",
      "\n",
      "\u001b[1m> Entering new LLMChain chain...\u001b[0m\n",
      "Prompt after formatting:\n",
      "\u001b[32;1m\u001b[1;3mYou are a conversational bot who enjoys learning new things about\n",
      "the people you chat with. You're very curious about the world and want to know more about it.\n",
      "\n",
      "Here are some of the things that have been discussed in the past:\n",
      "\n",
      "\n",
      "Here are the prior messages in this conversation:\n",
      "\n",
      "\n",
      "Here is a question: Hello! My name is Mary! I'm visiting Maui next week. What should I do there?\n",
      "\u001b[0m\n",
      "\n",
      "\u001b[1m> Finished chain.\u001b[0m\n",
      "Hello Mary! How exciting that you're visiting Maui! There are plenty of amazing things to do on the island. Here are a few suggestions:\n",
      "\n",
      "1. Explore the Road to Hana: This scenic drive takes you through lush rainforests, beautiful waterfalls, and stunning coastal views. Make sure to stop at the black sand beach, Wai'anapanapa State Park.\n",
      "\n",
      "2. Visit Haleakalā National Park: This park is home to the Haleakalā volcano and offers breathtaking sunrise and sunset views. You can also go hiking or biking through the unique landscape.\n",
      "\n",
      "3. Relax at the beautiful beaches: Maui has some of the most gorgeous beaches in the world. Popular ones include Ka'anapali Beach, Wailea Beach, and Makena Beach.\n",
      "\n",
      "4. Go snorkeling or scuba diving: The crystal-clear waters surrounding Maui are perfect for underwater adventures. Molokini Crater and Honolua Bay are great spots to explore marine life.\n",
      "\n",
      "5. Take a whale-watching tour: If you're visiting during whale season (December to April), don't miss the chance to see humpback whales up close on a boat excursion.\n",
      "\n",
      "6. Enjoy the local cuisine: Maui has a vibrant food scene. Try some traditional Hawaiian dishes like poke, kalua pig, and shave ice.\n",
      "\n",
      "These are just a few suggestions, but I'm sure you'll have an incredible time exploring Maui!\n"
     ]
    }
   ],
   "source": [
    "print(\n",
    "    chain.run(\n",
    "        {\n",
    "            \"input\": \"Hello! My name is Mary! I'm visiting Maui next week. What should I do there?\",\n",
    "            \"entities\": get_entities_from_memory(\n",
    "                memory, include_label=[\"GPE\", \"FAC\", \"LOC\"]\n",
    "            ),\n",
    "        }\n",
    "    )\n",
    ")"
   ]
  },
  {
   "cell_type": "code",
   "execution_count": 8,
   "id": "9ad11adc-2334-4a10-82a9-041daa028d57",
   "metadata": {
    "ExecuteTime": {
     "end_time": "2023-07-17T00:42:32.336441Z",
     "start_time": "2023-07-17T00:42:29.405623Z"
    }
   },
   "outputs": [
    {
     "name": "stdout",
     "output_type": "stream",
     "text": [
      "\n",
      "\n",
      "\u001b[1m> Entering new LLMChain chain...\u001b[0m\n",
      "Prompt after formatting:\n",
      "\u001b[32;1m\u001b[1;3mYou are a conversational bot who enjoys learning new things about\n",
      "the people you chat with. You're very curious about the world and want to know more about it.\n",
      "\n",
      "Here are some of the things that have been discussed in the past:\n",
      "\n",
      "\n",
      "Here are the prior messages in this conversation:\n",
      "Human: Hello! My name is Mary! I'm visiting Maui next week. What should I do there?\n",
      "AI: Hello Mary! How exciting that you're visiting Maui! There are plenty of amazing things to do on the island. Here are a few suggestions:\n",
      "\n",
      "1. Explore the Road to Hana: This scenic drive takes you through lush rainforests, beautiful waterfalls, and stunning coastal views. Make sure to stop at the black sand beach, Wai'anapanapa State Park.\n",
      "\n",
      "2. Visit Haleakalā National Park: This park is home to the Haleakalā volcano and offers breathtaking sunrise and sunset views. You can also go hiking or biking through the unique landscape.\n",
      "\n",
      "3. Relax at the beautiful beaches: Maui has some of the most gorgeous beaches in the world. Popular ones include Ka'anapali Beach, Wailea Beach, and Makena Beach.\n",
      "\n",
      "4. Go snorkeling or scuba diving: The crystal-clear waters surrounding Maui are perfect for underwater adventures. Molokini Crater and Honolua Bay are great spots to explore marine life.\n",
      "\n",
      "5. Take a whale-watching tour: If you're visiting during whale season (December to April), don't miss the chance to see humpback whales up close on a boat excursion.\n",
      "\n",
      "6. Enjoy the local cuisine: Maui has a vibrant food scene. Try some traditional Hawaiian dishes like poke, kalua pig, and shave ice.\n",
      "\n",
      "These are just a few suggestions, but I'm sure you'll have an incredible time exploring Maui!\n",
      "\n",
      "Here is a question: I'm definitely looking forward to the beach and food!\n",
      "\u001b[0m\n",
      "\n",
      "\u001b[1m> Finished chain.\u001b[0m\n",
      "That's great to hear, Mary! The beaches in Maui are truly stunning, and you'll have plenty of opportunities to relax and soak up the sun. As for the food, Maui offers a diverse culinary scene with a mix of traditional Hawaiian cuisine and international flavors. Are there any specific dishes or types of cuisine you're interested in trying?\n"
     ]
    }
   ],
   "source": [
    "print(\n",
    "    chain.run(\n",
    "        {\n",
    "            \"input\": \"I'm definitely looking forward to the beach and food!\",\n",
    "            \"entities\": get_entities_from_memory(\n",
    "                memory, include_label=[\"GPE\", \"FAC\", \"LOC\"]\n",
    "            ),\n",
    "        }\n",
    "    )\n",
    ")"
   ]
  },
  {
   "cell_type": "code",
   "execution_count": 9,
   "outputs": [
    {
     "name": "stdout",
     "output_type": "stream",
     "text": [
      "\n",
      "\n",
      "\u001b[1m> Entering new LLMChain chain...\u001b[0m\n",
      "Prompt after formatting:\n",
      "\u001b[32;1m\u001b[1;3mYou are a conversational bot who enjoys learning new things about\n",
      "the people you chat with. You're very curious about the world and want to know more about it.\n",
      "\n",
      "Here are some of the things that have been discussed in the past:\n",
      "human: Maui (LOC)\n",
      "ai: Maui (LOC), State Park (FAC), Ka'anapali Beach (GPE), Wailea Beach (GPE), Makena Beach (GPE)\n",
      "\n",
      "Here are the prior messages in this conversation:\n",
      "Human: Hello! My name is Mary! I'm visiting Maui next week. What should I do there?\n",
      "AI: Hello Mary! How exciting that you're visiting Maui! There are plenty of amazing things to do on the island. Here are a few suggestions:\n",
      "\n",
      "1. Explore the Road to Hana: This scenic drive takes you through lush rainforests, beautiful waterfalls, and stunning coastal views. Make sure to stop at the black sand beach, Wai'anapanapa State Park.\n",
      "\n",
      "2. Visit Haleakalā National Park: This park is home to the Haleakalā volcano and offers breathtaking sunrise and sunset views. You can also go hiking or biking through the unique landscape.\n",
      "\n",
      "3. Relax at the beautiful beaches: Maui has some of the most gorgeous beaches in the world. Popular ones include Ka'anapali Beach, Wailea Beach, and Makena Beach.\n",
      "\n",
      "4. Go snorkeling or scuba diving: The crystal-clear waters surrounding Maui are perfect for underwater adventures. Molokini Crater and Honolua Bay are great spots to explore marine life.\n",
      "\n",
      "5. Take a whale-watching tour: If you're visiting during whale season (December to April), don't miss the chance to see humpback whales up close on a boat excursion.\n",
      "\n",
      "6. Enjoy the local cuisine: Maui has a vibrant food scene. Try some traditional Hawaiian dishes like poke, kalua pig, and shave ice.\n",
      "\n",
      "These are just a few suggestions, but I'm sure you'll have an incredible time exploring Maui!\n",
      "Human: I'm definitely looking forward to the beach and food!\n",
      "AI: That's great to hear, Mary! The beaches in Maui are truly stunning, and you'll have plenty of opportunities to relax and soak up the sun. As for the food, Maui offers a diverse culinary scene with a mix of traditional Hawaiian cuisine and international flavors. Are there any specific dishes or types of cuisine you're interested in trying?\n",
      "\n",
      "Here is a question: Thank you! Do you have recommendations for hiking on the island?\n",
      "\u001b[0m\n",
      "\n",
      "\u001b[1m> Finished chain.\u001b[0m\n",
      "Absolutely! Maui is a paradise for hikers with its diverse landscapes and scenic trails. Here are a few hiking recommendations for you:\n",
      "\n",
      "1. Haleakalā National Park: This park offers several hiking trails, ranging from easy walks to more challenging treks. The Sliding Sands Trail takes you into the volcanic crater, while the Pipiwai Trail leads you through a bamboo forest to the magnificent Waimoku Falls.\n",
      "\n",
      "2. Iao Valley State Park: This lush valley is home to the iconic Iao Needle, a towering green-mantled peak. The park has a well-maintained trail that provides beautiful views of the needle and the surrounding rainforest.\n",
      "\n",
      "3. Waihee Ridge Trail: Located on the west side of the island, this trail offers stunning views of the Waihee Valley and the coastline. It is a moderately difficult hike with some steep sections, but the panoramic vistas make it worth the effort.\n",
      "\n",
      "4. Kapalua Coastal Trail: If you prefer a more leisurely stroll, the Kapalua Coastal Trail is a great choice. This scenic trail follows the coastline and offers breathtaking views of the ocean, rocky cliffs, and even some ancient Hawaiian ruins.\n",
      "\n",
      "5. Polipoli Springs State Recreation Area: For a unique hiking experience, head to the upcountry region of Maui and explore the trails in Polipoli Springs. This forested area features a variety of trails that lead through towering trees and offer panoramic views of the island.\n",
      "\n",
      "Remember to always be prepared when hiking, including wearing proper footwear, bringing plenty of water, and being aware of your surroundings. Enjoy your hiking adventures in Maui, Mary!\n"
     ]
    }
   ],
   "source": [
    "print(\n",
    "    chain.run(\n",
    "        {\n",
    "            \"input\": \"Thank you! Do you have recommendations for hiking on the island?\",\n",
    "            \"entities\": get_entities_from_memory(\n",
    "                memory, include_label=[\"GPE\", \"FAC\", \"LOC\"]\n",
    "            ),\n",
    "        }\n",
    "    )\n",
    ")"
   ],
   "metadata": {
    "collapsed": false,
    "ExecuteTime": {
     "end_time": "2023-07-17T00:42:44.777153Z",
     "start_time": "2023-07-17T00:42:32.334902Z"
    }
   }
  },
  {
   "cell_type": "code",
   "execution_count": 10,
   "outputs": [
    {
     "name": "stdout",
     "output_type": "stream",
     "text": [
      "\n",
      "\n",
      "\u001b[1m> Entering new LLMChain chain...\u001b[0m\n",
      "Prompt after formatting:\n",
      "\u001b[32;1m\u001b[1;3mYou are a conversational bot who enjoys learning new things about\n",
      "the people you chat with. You're very curious about the world and want to know more about it.\n",
      "\n",
      "Here are some of the things that have been discussed in the past:\n",
      "human: Maui (LOC)\n",
      "ai: Maui (LOC), State Park (FAC), Ka'anapali Beach (GPE), Wailea Beach (GPE), Makena Beach (GPE)\n",
      "ai: Maui (LOC)\n",
      "\n",
      "Here are the prior messages in this conversation:\n",
      "Human: Hello! My name is Mary! I'm visiting Maui next week. What should I do there?\n",
      "AI: Hello Mary! How exciting that you're visiting Maui! There are plenty of amazing things to do on the island. Here are a few suggestions:\n",
      "\n",
      "1. Explore the Road to Hana: This scenic drive takes you through lush rainforests, beautiful waterfalls, and stunning coastal views. Make sure to stop at the black sand beach, Wai'anapanapa State Park.\n",
      "\n",
      "2. Visit Haleakalā National Park: This park is home to the Haleakalā volcano and offers breathtaking sunrise and sunset views. You can also go hiking or biking through the unique landscape.\n",
      "\n",
      "3. Relax at the beautiful beaches: Maui has some of the most gorgeous beaches in the world. Popular ones include Ka'anapali Beach, Wailea Beach, and Makena Beach.\n",
      "\n",
      "4. Go snorkeling or scuba diving: The crystal-clear waters surrounding Maui are perfect for underwater adventures. Molokini Crater and Honolua Bay are great spots to explore marine life.\n",
      "\n",
      "5. Take a whale-watching tour: If you're visiting during whale season (December to April), don't miss the chance to see humpback whales up close on a boat excursion.\n",
      "\n",
      "6. Enjoy the local cuisine: Maui has a vibrant food scene. Try some traditional Hawaiian dishes like poke, kalua pig, and shave ice.\n",
      "\n",
      "These are just a few suggestions, but I'm sure you'll have an incredible time exploring Maui!\n",
      "Human: I'm definitely looking forward to the beach and food!\n",
      "AI: That's great to hear, Mary! The beaches in Maui are truly stunning, and you'll have plenty of opportunities to relax and soak up the sun. As for the food, Maui offers a diverse culinary scene with a mix of traditional Hawaiian cuisine and international flavors. Are there any specific dishes or types of cuisine you're interested in trying?\n",
      "Human: Thank you! Do you have recommendations for hiking on the island?\n",
      "AI: Absolutely! Maui is a paradise for hikers with its diverse landscapes and scenic trails. Here are a few hiking recommendations for you:\n",
      "\n",
      "1. Haleakalā National Park: This park offers several hiking trails, ranging from easy walks to more challenging treks. The Sliding Sands Trail takes you into the volcanic crater, while the Pipiwai Trail leads you through a bamboo forest to the magnificent Waimoku Falls.\n",
      "\n",
      "2. Iao Valley State Park: This lush valley is home to the iconic Iao Needle, a towering green-mantled peak. The park has a well-maintained trail that provides beautiful views of the needle and the surrounding rainforest.\n",
      "\n",
      "3. Waihee Ridge Trail: Located on the west side of the island, this trail offers stunning views of the Waihee Valley and the coastline. It is a moderately difficult hike with some steep sections, but the panoramic vistas make it worth the effort.\n",
      "\n",
      "4. Kapalua Coastal Trail: If you prefer a more leisurely stroll, the Kapalua Coastal Trail is a great choice. This scenic trail follows the coastline and offers breathtaking views of the ocean, rocky cliffs, and even some ancient Hawaiian ruins.\n",
      "\n",
      "5. Polipoli Springs State Recreation Area: For a unique hiking experience, head to the upcountry region of Maui and explore the trails in Polipoli Springs. This forested area features a variety of trails that lead through towering trees and offer panoramic views of the island.\n",
      "\n",
      "Remember to always be prepared when hiking, including wearing proper footwear, bringing plenty of water, and being aware of your surroundings. Enjoy your hiking adventures in Maui, Mary!\n",
      "\n",
      "Here is a question: Please list all the places you've recommended so far.\n",
      "\u001b[0m\n",
      "\n",
      "\u001b[1m> Finished chain.\u001b[0m\n",
      "Sure! Here is a list of the places I've recommended so far:\n",
      "\n",
      "1. Wai'anapanapa State Park (black sand beach)\n",
      "2. Haleakalā National Park (Haleakalā volcano)\n",
      "3. Ka'anapali Beach\n",
      "4. Wailea Beach\n",
      "5. Makena Beach\n",
      "6. Molokini Crater\n",
      "7. Honolua Bay\n",
      "8. Iao Valley State Park\n",
      "9. Waihee Ridge Trail\n",
      "10. Kapalua Coastal Trail\n",
      "11. Polipoli Springs State Recreation Area\n",
      "\n",
      "These are just a few of the amazing places you can explore in Maui. Let me know if you'd like more recommendations!\n"
     ]
    }
   ],
   "source": [
    "print(\n",
    "    chain.run(\n",
    "        {\n",
    "            \"input\": \"Please list all the places you've recommended so far.\",\n",
    "            \"entities\": get_entities_from_memory(\n",
    "                memory, include_label=[\"GPE\", \"FAC\", \"LOC\"]\n",
    "            ),\n",
    "        }\n",
    "    )\n",
    ")"
   ],
   "metadata": {
    "collapsed": false,
    "ExecuteTime": {
     "end_time": "2023-07-17T00:42:49.694687Z",
     "start_time": "2023-07-17T00:42:44.777436Z"
    }
   }
  },
  {
   "cell_type": "code",
   "execution_count": 11,
   "outputs": [
    {
     "data": {
      "text/plain": "[HumanMessage(content=\"Hello! My name is Mary! I'm visiting Maui next week. What should I do there?\", additional_kwargs={'uuid': 'e7cfa0d1-90d9-49c0-a55d-889c8db4fa36', 'created_at': '2023-07-17T00:42:29.39709Z', 'token_count': 22, 'metadata': {'system': {'entities': [{'Label': 'PERSON', 'Matches': [{'End': 22, 'Start': 18, 'Text': 'Mary'}], 'Name': 'Mary'}, {'Label': 'LOC', 'Matches': [{'End': 41, 'Start': 37, 'Text': 'Maui'}], 'Name': 'Maui'}, {'Label': 'DATE', 'Matches': [{'End': 51, 'Start': 42, 'Text': 'next week'}], 'Name': 'Next week'}], 'intent': 'The subject is seeking suggestions or recommendations for activities or attractions to do in Maui.'}}}, example=False),\n AIMessage(content=\"Hello Mary! How exciting that you're visiting Maui! There are plenty of amazing things to do on the island. Here are a few suggestions:\\n\\n1. Explore the Road to Hana: This scenic drive takes you through lush rainforests, beautiful waterfalls, and stunning coastal views. Make sure to stop at the black sand beach, Wai'anapanapa State Park.\\n\\n2. Visit Haleakalā National Park: This park is home to the Haleakalā volcano and offers breathtaking sunrise and sunset views. You can also go hiking or biking through the unique landscape.\\n\\n3. Relax at the beautiful beaches: Maui has some of the most gorgeous beaches in the world. Popular ones include Ka'anapali Beach, Wailea Beach, and Makena Beach.\\n\\n4. Go snorkeling or scuba diving: The crystal-clear waters surrounding Maui are perfect for underwater adventures. Molokini Crater and Honolua Bay are great spots to explore marine life.\\n\\n5. Take a whale-watching tour: If you're visiting during whale season (December to April), don't miss the chance to see humpback whales up close on a boat excursion.\\n\\n6. Enjoy the local cuisine: Maui has a vibrant food scene. Try some traditional Hawaiian dishes like poke, kalua pig, and shave ice.\\n\\nThese are just a few suggestions, but I'm sure you'll have an incredible time exploring Maui!\", additional_kwargs={'uuid': '81aaee2c-d1bd-4d2a-ade2-a4cef1561877', 'created_at': '2023-07-17T00:42:29.404063Z', 'token_count': 288, 'metadata': {'system': {'entities': [{'Label': 'PERSON', 'Matches': [{'End': 10, 'Start': 6, 'Text': 'Mary'}], 'Name': 'Mary'}, {'Label': 'LOC', 'Matches': [{'End': 50, 'Start': 46, 'Text': 'Maui'}, {'End': 770, 'Start': 766, 'Text': 'Maui'}, {'End': 1082, 'Start': 1078, 'Text': 'Maui'}, {'End': 1276, 'Start': 1272, 'Text': 'Maui'}], 'Name': 'Maui'}, {'Label': 'CARDINAL', 'Matches': [{'End': 138, 'Start': 137, 'Text': '1'}], 'Name': '1'}, {'Label': 'FAC', 'Matches': [{'End': 337, 'Start': 327, 'Text': 'State Park'}], 'Name': 'State Park'}, {'Label': 'CARDINAL', 'Matches': [{'End': 341, 'Start': 340, 'Text': '2'}], 'Name': '2'}, {'Label': 'ORG', 'Matches': [{'End': 408, 'Start': 399, 'Text': 'Haleakalā'}], 'Name': 'Haleakalā'}, {'Label': 'CARDINAL', 'Matches': [{'End': 532, 'Start': 531, 'Text': '3'}], 'Name': '3'}, {'Label': 'GPE', 'Matches': [{'End': 660, 'Start': 644, 'Text': \"Ka'anapali Beach\"}], 'Name': \"Ka'anapali Beach\"}, {'Label': 'GPE', 'Matches': [{'End': 674, 'Start': 662, 'Text': 'Wailea Beach'}], 'Name': 'Wailea Beach'}, {'Label': 'GPE', 'Matches': [{'End': 692, 'Start': 680, 'Text': 'Makena Beach'}], 'Name': 'Makena Beach'}, {'Label': 'CARDINAL', 'Matches': [{'End': 696, 'Start': 695, 'Text': '4'}], 'Name': '4'}, {'Label': 'PERSON', 'Matches': [{'End': 825, 'Start': 810, 'Text': 'Molokini Crater'}], 'Name': 'Molokini Crater'}, {'Label': 'PERSON', 'Matches': [{'End': 841, 'Start': 830, 'Text': 'Honolua Bay'}], 'Name': 'Honolua Bay'}, {'Label': 'CARDINAL', 'Matches': [{'End': 884, 'Start': 883, 'Text': '5'}], 'Name': '5'}, {'Label': 'DATE', 'Matches': [{'End': 952, 'Start': 946, 'Text': 'season'}], 'Name': 'Season'}, {'Label': 'DATE', 'Matches': [{'End': 971, 'Start': 954, 'Text': 'December to April'}], 'Name': 'December to April'}, {'Label': 'CARDINAL', 'Matches': [{'End': 1051, 'Start': 1050, 'Text': '6'}], 'Name': '6'}, {'Label': 'NORP', 'Matches': [{'End': 1138, 'Start': 1130, 'Text': 'Hawaiian'}], 'Name': 'Hawaiian'}], 'intent': 'The subject is providing suggestions for things to do on the island of Maui.'}}}, example=False),\n HumanMessage(content=\"I'm definitely looking forward to the beach and food!\", additional_kwargs={'uuid': '18f7820b-625d-4fde-a282-0ebb99605254', 'created_at': '2023-07-17T00:42:32.316559Z', 'token_count': 13, 'metadata': {'system': {'intent': 'The subject is expressing excitement and anticipation for the activities at the beach and the enjoyment of food.'}}}, example=False),\n AIMessage(content=\"That's great to hear, Mary! The beaches in Maui are truly stunning, and you'll have plenty of opportunities to relax and soak up the sun. As for the food, Maui offers a diverse culinary scene with a mix of traditional Hawaiian cuisine and international flavors. Are there any specific dishes or types of cuisine you're interested in trying?\", additional_kwargs={'uuid': 'bbd9df3e-1b39-4d30-b48a-d9097b2f30dc', 'created_at': '2023-07-17T00:42:32.329542Z', 'token_count': 70, 'metadata': {'system': {'entities': [{'Label': 'PERSON', 'Matches': [{'End': 26, 'Start': 22, 'Text': 'Mary'}], 'Name': 'Mary'}, {'Label': 'LOC', 'Matches': [{'End': 47, 'Start': 43, 'Text': 'Maui'}, {'End': 159, 'Start': 155, 'Text': 'Maui'}], 'Name': 'Maui'}, {'Label': 'NORP', 'Matches': [{'End': 226, 'Start': 218, 'Text': 'Hawaiian'}], 'Name': 'Hawaiian'}], 'intent': 'The subject is asking if there are any specific dishes or types of cuisine the person is interested in trying while on Maui.'}}}, example=False),\n HumanMessage(content='Thank you! Do you have recommendations for hiking on the island?', additional_kwargs={'uuid': '09613d4f-deae-4746-9dae-b63433b79a12', 'created_at': '2023-07-17T00:42:44.760181Z', 'token_count': 15, 'metadata': {'system': {'intent': 'The subject is asking for recommendations regarding hiking on the island.'}}}, example=False),\n AIMessage(content='Absolutely! Maui is a paradise for hikers with its diverse landscapes and scenic trails. Here are a few hiking recommendations for you:\\n\\n1. Haleakalā National Park: This park offers several hiking trails, ranging from easy walks to more challenging treks. The Sliding Sands Trail takes you into the volcanic crater, while the Pipiwai Trail leads you through a bamboo forest to the magnificent Waimoku Falls.\\n\\n2. Iao Valley State Park: This lush valley is home to the iconic Iao Needle, a towering green-mantled peak. The park has a well-maintained trail that provides beautiful views of the needle and the surrounding rainforest.\\n\\n3. Waihee Ridge Trail: Located on the west side of the island, this trail offers stunning views of the Waihee Valley and the coastline. It is a moderately difficult hike with some steep sections, but the panoramic vistas make it worth the effort.\\n\\n4. Kapalua Coastal Trail: If you prefer a more leisurely stroll, the Kapalua Coastal Trail is a great choice. This scenic trail follows the coastline and offers breathtaking views of the ocean, rocky cliffs, and even some ancient Hawaiian ruins.\\n\\n5. Polipoli Springs State Recreation Area: For a unique hiking experience, head to the upcountry region of Maui and explore the trails in Polipoli Springs. This forested area features a variety of trails that lead through towering trees and offer panoramic views of the island.\\n\\nRemember to always be prepared when hiking, including wearing proper footwear, bringing plenty of water, and being aware of your surroundings. Enjoy your hiking adventures in Maui, Mary!', additional_kwargs={'uuid': '34f8e2dc-240e-4318-b747-15b85a504198', 'created_at': '2023-07-17T00:42:44.773948Z', 'token_count': 331, 'metadata': {'system': {'entities': [{'Label': 'LOC', 'Matches': [{'End': 16, 'Start': 12, 'Text': 'Maui'}, {'End': 1237, 'Start': 1233, 'Text': 'Maui'}, {'End': 1584, 'Start': 1580, 'Text': 'Maui'}], 'Name': 'Maui'}, {'Label': 'CARDINAL', 'Matches': [{'End': 138, 'Start': 137, 'Text': '1'}], 'Name': '1'}, {'Label': 'ORG', 'Matches': [{'End': 164, 'Start': 140, 'Text': 'Haleakalā National Park:'}], 'Name': 'Haleakalā National Park:'}, {'Label': 'FAC', 'Matches': [{'End': 339, 'Start': 322, 'Text': 'the Pipiwai Trail'}], 'Name': 'the Pipiwai Trail'}, {'Label': 'PERSON', 'Matches': [{'End': 406, 'Start': 393, 'Text': 'Waimoku Falls'}], 'Name': 'Waimoku Falls'}, {'Label': 'CARDINAL', 'Matches': [{'End': 410, 'Start': 409, 'Text': '2'}], 'Name': '2'}, {'Label': 'LOC', 'Matches': [{'End': 433, 'Start': 416, 'Text': 'Valley State Park'}], 'Name': 'Valley State Park'}, {'Label': 'ORG', 'Matches': [{'End': 484, 'Start': 474, 'Text': 'Iao Needle'}], 'Name': 'Iao Needle'}, {'Label': 'CARDINAL', 'Matches': [{'End': 632, 'Start': 631, 'Text': '3'}], 'Name': '3'}, {'Label': 'PERSON', 'Matches': [{'End': 652, 'Start': 634, 'Text': 'Waihee Ridge Trail'}], 'Name': 'Waihee Ridge Trail'}, {'Label': 'LOC', 'Matches': [{'End': 747, 'Start': 730, 'Text': 'the Waihee Valley'}], 'Name': 'the Waihee Valley'}, {'Label': 'CARDINAL', 'Matches': [{'End': 880, 'Start': 879, 'Text': '4'}], 'Name': '4'}, {'Label': 'ORG', 'Matches': [{'End': 903, 'Start': 882, 'Text': 'Kapalua Coastal Trail'}], 'Name': 'Kapalua Coastal Trail'}, {'Label': 'ORG', 'Matches': [{'End': 969, 'Start': 944, 'Text': 'the Kapalua Coastal Trail'}], 'Name': 'the Kapalua Coastal Trail'}, {'Label': 'NORP', 'Matches': [{'End': 1117, 'Start': 1109, 'Text': 'Hawaiian'}], 'Name': 'Hawaiian'}, {'Label': 'CARDINAL', 'Matches': [{'End': 1127, 'Start': 1126, 'Text': '5'}], 'Name': '5'}, {'Label': 'PERSON', 'Matches': [{'End': 1145, 'Start': 1129, 'Text': 'Polipoli Springs'}, {'End': 1280, 'Start': 1264, 'Text': 'Polipoli Springs'}], 'Name': 'Polipoli Springs'}, {'Label': 'PERSON', 'Matches': [{'End': 1590, 'Start': 1586, 'Text': 'Mary'}], 'Name': 'Mary'}], 'intent': 'The subject is providing recommendations for hiking trails in Maui.'}}}, example=False),\n HumanMessage(content=\"Please list all the places you've recommended so far.\", additional_kwargs={'uuid': '2f26b468-7d18-4185-87ed-b54236311d42', 'created_at': '2023-07-17T00:42:49.680585Z', 'token_count': 13, 'metadata': None}, example=False),\n AIMessage(content=\"Sure! Here is a list of the places I've recommended so far:\\n\\n1. Wai'anapanapa State Park (black sand beach)\\n2. Haleakalā National Park (Haleakalā volcano)\\n3. Ka'anapali Beach\\n4. Wailea Beach\\n5. Makena Beach\\n6. Molokini Crater\\n7. Honolua Bay\\n8. Iao Valley State Park\\n9. Waihee Ridge Trail\\n10. Kapalua Coastal Trail\\n11. Polipoli Springs State Recreation Area\\n\\nThese are just a few of the amazing places you can explore in Maui. Let me know if you'd like more recommendations!\", additional_kwargs={'uuid': '056d7deb-80ba-4319-b9a7-30fe3e3a37a0', 'created_at': '2023-07-17T00:42:49.6913Z', 'token_count': 143, 'metadata': None}, example=False)]"
     },
     "execution_count": 11,
     "metadata": {},
     "output_type": "execute_result"
    }
   ],
   "source": [
    "memory.chat_memory.messages"
   ],
   "metadata": {
    "collapsed": false,
    "ExecuteTime": {
     "end_time": "2023-07-17T00:42:49.709734Z",
     "start_time": "2023-07-17T00:42:49.698594Z"
    }
   }
  },
  {
   "cell_type": "code",
   "execution_count": 12,
   "outputs": [
    {
     "data": {
      "text/plain": "{'location_entities': {'ai': {'1': {'created_at': '2023-07-17T00:42:29.404063Z',\n    'label': 'LOC',\n    'name': 'Maui'},\n   '10': {'created_at': '2023-07-17T00:42:44.773948Z',\n    'label': 'LOC',\n    'name': 'the Waihee Valley'},\n   '2': {'created_at': '2023-07-17T00:42:29.404063Z',\n    'label': 'FAC',\n    'name': 'State Park'},\n   '3': {'created_at': '2023-07-17T00:42:29.404063Z',\n    'label': 'GPE',\n    'name': \"Ka'anapali Beach\"},\n   '4': {'created_at': '2023-07-17T00:42:29.404063Z',\n    'label': 'GPE',\n    'name': 'Wailea Beach'},\n   '5': {'created_at': '2023-07-17T00:42:29.404063Z',\n    'label': 'GPE',\n    'name': 'Makena Beach'},\n   '6': {'created_at': '2023-07-17T00:42:32.329542Z',\n    'label': 'LOC',\n    'name': 'Maui'},\n   '7': {'created_at': '2023-07-17T00:42:44.773948Z',\n    'label': 'LOC',\n    'name': 'Maui'},\n   '8': {'created_at': '2023-07-17T00:42:44.773948Z',\n    'label': 'FAC',\n    'name': 'the Pipiwai Trail'},\n   '9': {'created_at': '2023-07-17T00:42:44.773948Z',\n    'label': 'LOC',\n    'name': 'Valley State Park'}},\n  'human': {'0': {'created_at': '2023-07-17T00:42:29.39709Z',\n    'label': 'LOC',\n    'name': 'Maui'}}}}"
     },
     "execution_count": 12,
     "metadata": {},
     "output_type": "execute_result"
    }
   ],
   "source": [
    "# Persist a snapshot of location entities to the Session metadata\n",
    "def get_location_entities(\n",
    "    memory: ZepMemory,\n",
    ") -> dict[str, dict]:\n",
    "    entities = {}\n",
    "    index = 0\n",
    "    for message in memory.chat_memory.zep_messages:\n",
    "        if not (message.metadata and message.metadata.get(\"system\").get(\"entities\")):\n",
    "            continue\n",
    "\n",
    "        for entity in message.metadata.get(\"system\").get(\"entities\"):\n",
    "            if entity.get(\"Label\") not in [\"GPE\", \"FAC\", \"LOC\"]:\n",
    "                continue\n",
    "            if message.role not in entities:\n",
    "                entities[message.role] = {}\n",
    "\n",
    "            entities[message.role][index] = {\n",
    "                \"created_at\": message.created_at,\n",
    "                \"name\": entity.get(\"Name\"),\n",
    "                \"label\": entity.get(\"Label\"),\n",
    "            }\n",
    "            index += 1\n",
    "\n",
    "    return entities\n",
    "\n",
    "\n",
    "# Retrieve client from ZepMemory and upsert the Session metadata\n",
    "client = memory.chat_memory.zep_client\n",
    "client.add_session(\n",
    "    Session(\n",
    "        session_id=session_id,\n",
    "        metadata={\n",
    "            \"location_entities\": get_location_entities(memory),\n",
    "        },\n",
    "    )\n",
    ")\n",
    "\n",
    "# Retrieve the Session metadata\n",
    "client.get_session(session_id=session_id).metadata"
   ],
   "metadata": {
    "collapsed": false,
    "ExecuteTime": {
     "end_time": "2023-07-17T00:42:49.744437Z",
     "start_time": "2023-07-17T00:42:49.711738Z"
    }
   }
  },
  {
   "cell_type": "code",
   "execution_count": 13,
   "outputs": [],
   "source": [
    "prompt_template = \"\"\"You are a conversational bot who enjoys learning new things\n",
    "about the people you chat with. You're very curious about the world and want to know more about it.\n",
    "\n",
    "If you're asked about dates, here is the current date and time is {date}.\n",
    "\n",
    "Here are the prior messages in this conversation:\n",
    "{chat_history}\n",
    "\n",
    "Here is the human's question: {input}\n",
    "\"\"\"\n",
    "\n",
    "prompt = PromptTemplate(\n",
    "    template=prompt_template, input_variables=[\"input\", \"date\", \"chat_history\"]\n",
    ")\n",
    "\n",
    "\n",
    "class EnhancedMemChain(LLMChain):\n",
    "    memory_key: str = \"chat_history\"\n",
    "\n",
    "    def _get_chat_history(self, chat_history: list[BaseMessage]) -> str:\n",
    "        buffer = \"\"\n",
    "        for dialogue_turn in chat_history:\n",
    "            timestamp = dialogue_turn.additional_kwargs.get(\"created_at\")\n",
    "            buffer += f\"\\n{timestamp} | {dialogue_turn.type}: {dialogue_turn.content}\"\n",
    "\n",
    "        return buffer\n",
    "\n",
    "    def prep_prompts(\n",
    "        self,\n",
    "        input_list: List[Dict[str, Any]],\n",
    "        run_manager: Optional[CallbackManagerForChainRun] = None,\n",
    "    ) -> Tuple[List[PromptValue], Optional[List[str]]]:\n",
    "        \"\"\"Prepare prompts from inputs.\"\"\"\n",
    "\n",
    "        stop = None\n",
    "        if \"stop\" in input_list[0]:\n",
    "            stop = input_list[0][\"stop\"]\n",
    "        prompts = []\n",
    "        for inputs in input_list:\n",
    "            chat_history: List[BaseMessage] = inputs.get(\"chat_history\")\n",
    "            selected_inputs = {k: inputs[k] for k in self.prompt.input_variables}\n",
    "            if chat_history:\n",
    "                chat_history_str = self._get_chat_history(chat_history)\n",
    "                selected_inputs[self.memory_key] = chat_history_str\n",
    "            prompt = self.prompt.format_prompt(**selected_inputs)\n",
    "            _colored_text = get_colored_text(prompt.to_string(), \"green\")\n",
    "            _text = \"Prompt after formatting:\\n\" + _colored_text\n",
    "            if run_manager:\n",
    "                run_manager.on_text(_text, end=\"\\n\", verbose=self.verbose)\n",
    "            if \"stop\" in inputs and inputs[\"stop\"] != stop:\n",
    "                raise ValueError(\n",
    "                    \"If `stop` is present in any inputs, should be present in all.\"\n",
    "                )\n",
    "            prompts.append(prompt)\n",
    "        return prompts, stop"
   ],
   "metadata": {
    "collapsed": false,
    "ExecuteTime": {
     "end_time": "2023-07-17T00:42:49.744679Z",
     "start_time": "2023-07-17T00:42:49.732857Z"
    }
   }
  },
  {
   "cell_type": "code",
   "execution_count": 14,
   "outputs": [],
   "source": [
    "memory = ZepMemory(\n",
    "    session_id=str(uuid4()),\n",
    "    url=ZEP_API_URL,\n",
    "    memory_key=\"chat_history\",\n",
    "    input_key=\"input\",\n",
    "    return_messages=True,  # Set to True to return Messages and not a string\n",
    ")\n",
    "\n",
    "llm = ChatOpenAI(model=\"gpt-4\")\n",
    "\n",
    "chain = EnhancedMemChain(llm=llm, memory=memory, prompt=prompt, verbose=True)"
   ],
   "metadata": {
    "collapsed": false,
    "ExecuteTime": {
     "end_time": "2023-07-17T00:42:49.753768Z",
     "start_time": "2023-07-17T00:42:49.737888Z"
    }
   }
  },
  {
   "cell_type": "code",
   "execution_count": 15,
   "outputs": [
    {
     "name": "stderr",
     "output_type": "stream",
     "text": [
      "Session 08db59c9-3039-46c7-8fe0-26b4c1cb34ef not found in Zep. Returning None\n"
     ]
    },
    {
     "name": "stdout",
     "output_type": "stream",
     "text": [
      "\n",
      "\n",
      "\u001b[1m> Entering new EnhancedMemChain chain...\u001b[0m\n",
      "Prompt after formatting:\n",
      "\u001b[32;1m\u001b[1;3mYou are a conversational bot who enjoys learning new things\n",
      "about the people you chat with. You're very curious about the world and want to know more about it.\n",
      "\n",
      "If you're asked about dates, here is the current date and time is 2023-07-17 00:42:49.\n",
      "\n",
      "Here are the prior messages in this conversation:\n",
      "[]\n",
      "\n",
      "Here is the human's question: Hello! My name is Mary! I'm visiting Hawaii next Monday. What should I do there?\n",
      "\u001b[0m\n",
      "\n",
      "\u001b[1m> Finished chain.\u001b[0m\n",
      "Hello, Mary! It's nice to meet you. That sounds like an exciting trip! Hawaii is known for its beautiful beaches, surfing, hiking trails, and rich cultural history.\n",
      "\n",
      "1. **Beaches:** You should definitely visit Hawaii's stunning beaches. Some of the most popular ones include Waikiki Beach in Oahu, Poipu Beach in Kauai, and Hanauma Bay in Oahu.\n",
      "\n",
      "2. **Surfing:** If you're into water sports, you might want to try surfing. There are plenty of surf schools that welcome beginners.\n",
      "\n",
      "3. **Hiking:** For nature lovers, hiking trails in Hawaii are a must. The Na Pali Coast in Kauai, Diamond Head in Oahu, and Haleakala National Park in Maui offer breathtaking views.\n",
      "\n",
      "4. **Cultural Sites:** To learn about Hawaiian culture, visit the Polynesian Cultural Center in Oahu. The Bishop Museum, also in Oahu, is another great place to learn about the local culture and history.\n",
      "\n",
      "5. **Food:** Don't miss trying local Hawaiian cuisine. Poke, Loco Moco, and Shave Ice are some of the favorites.\n",
      "\n",
      "6. **Snorkeling:** Hawaii's clear waters make it a great place for snorkeling. You can see colorful coral reefs and tropical fish.\n",
      "\n",
      "Remember to be respectful of the local culture and environment. Enjoy your trip!\n"
     ]
    }
   ],
   "source": [
    "print(\n",
    "    chain.run(\n",
    "        {\n",
    "            \"input\": \"Hello! My name is Mary! I'm visiting Hawaii next Monday. What should I do there?\",\n",
    "            \"date\": datetime.utcnow().strftime(\"%Y-%m-%d %H:%M:%S\"),\n",
    "        }\n",
    "    )\n",
    ")"
   ],
   "metadata": {
    "collapsed": false,
    "ExecuteTime": {
     "end_time": "2023-07-17T00:43:03.921516Z",
     "start_time": "2023-07-17T00:42:49.751926Z"
    }
   }
  },
  {
   "cell_type": "code",
   "execution_count": 16,
   "outputs": [
    {
     "name": "stdout",
     "output_type": "stream",
     "text": [
      "\n",
      "\n",
      "\u001b[1m> Entering new EnhancedMemChain chain...\u001b[0m\n",
      "Prompt after formatting:\n",
      "\u001b[32;1m\u001b[1;3mYou are a conversational bot who enjoys learning new things\n",
      "about the people you chat with. You're very curious about the world and want to know more about it.\n",
      "\n",
      "If you're asked about dates, here is the current date and time is 2023-07-17 00:43:03.\n",
      "\n",
      "Here are the prior messages in this conversation:\n",
      "\n",
      "2023-07-17T00:43:03.906736Z | human: Hello! My name is Mary! I'm visiting Hawaii next Monday. What should I do there?\n",
      "2023-07-17T00:43:03.906821Z | ai: Hello, Mary! It's nice to meet you. That sounds like an exciting trip! Hawaii is known for its beautiful beaches, surfing, hiking trails, and rich cultural history.\n",
      "\n",
      "1. **Beaches:** You should definitely visit Hawaii's stunning beaches. Some of the most popular ones include Waikiki Beach in Oahu, Poipu Beach in Kauai, and Hanauma Bay in Oahu.\n",
      "\n",
      "2. **Surfing:** If you're into water sports, you might want to try surfing. There are plenty of surf schools that welcome beginners.\n",
      "\n",
      "3. **Hiking:** For nature lovers, hiking trails in Hawaii are a must. The Na Pali Coast in Kauai, Diamond Head in Oahu, and Haleakala National Park in Maui offer breathtaking views.\n",
      "\n",
      "4. **Cultural Sites:** To learn about Hawaiian culture, visit the Polynesian Cultural Center in Oahu. The Bishop Museum, also in Oahu, is another great place to learn about the local culture and history.\n",
      "\n",
      "5. **Food:** Don't miss trying local Hawaiian cuisine. Poke, Loco Moco, and Shave Ice are some of the favorites.\n",
      "\n",
      "6. **Snorkeling:** Hawaii's clear waters make it a great place for snorkeling. You can see colorful coral reefs and tropical fish.\n",
      "\n",
      "Remember to be respectful of the local culture and environment. Enjoy your trip!\n",
      "\n",
      "Here is the human's question: I heard there are helicopter tours. Do you know if they are worth it?\n",
      "\u001b[0m\n",
      "\n",
      "\u001b[1m> Finished chain.\u001b[0m\n",
      "Yes, Mary! Helicopter tours are a popular activity in Hawaii and many visitors find them to be a highlight of their trip. These tours offer a unique perspective and allow you to see the islands' stunning landscapes from a completely different angle. You'll be able to see waterfalls, volcanoes, mountains, and even whales during certain seasons that you might not be able to fully appreciate from the ground. \n",
      "\n",
      "However, they can be pricey, and some people may find them a bit nerve-wracking if they're afraid of heights or not used to flying. If you think you'll enjoy the aerial views and it fits within your budget, it could definitely be an experience worth considering.\n"
     ]
    }
   ],
   "source": [
    "print(\n",
    "    chain.run(\n",
    "        {\n",
    "            \"input\": \"I heard there are helicopter tours. Do you know if they are worth it?\",\n",
    "            \"date\": datetime.utcnow().strftime(\"%Y-%m-%d %H:%M:%S\"),\n",
    "        }\n",
    "    )\n",
    ")"
   ],
   "metadata": {
    "collapsed": false,
    "ExecuteTime": {
     "end_time": "2023-07-17T00:43:13.103626Z",
     "start_time": "2023-07-17T00:43:03.919388Z"
    }
   }
  },
  {
   "cell_type": "code",
   "execution_count": 19,
   "outputs": [
    {
     "name": "stdout",
     "output_type": "stream",
     "text": [
      "\n",
      "\n",
      "\u001b[1m> Entering new EnhancedMemChain chain...\u001b[0m\n",
      "Prompt after formatting:\n",
      "\u001b[32;1m\u001b[1;3mYou are a conversational bot who enjoys learning new things\n",
      "about the people you chat with. You're very curious about the world and want to know more about it.\n",
      "\n",
      "If you're asked about dates, here is the current date and time is 2023-07-17 00:44:34.\n",
      "\n",
      "Here are the prior messages in this conversation:\n",
      "\n",
      "2023-07-17T00:43:03.906736Z | human: Hello! My name is Mary! I'm visiting Hawaii next Monday. What should I do there?\n",
      "2023-07-17T00:43:03.939382Z | ai: Hello, Mary! It's nice to meet you. That sounds like an exciting trip! Hawaii is known for its beautiful beaches, surfing, hiking trails, and rich cultural history.\n",
      "\n",
      "1. **Beaches:** You should definitely visit Hawaii's stunning beaches. Some of the most popular ones include Waikiki Beach in Oahu, Poipu Beach in Kauai, and Hanauma Bay in Oahu.\n",
      "\n",
      "2. **Surfing:** If you're into water sports, you might want to try surfing. There are plenty of surf schools that welcome beginners.\n",
      "\n",
      "3. **Hiking:** For nature lovers, hiking trails in Hawaii are a must. The Na Pali Coast in Kauai, Diamond Head in Oahu, and Haleakala National Park in Maui offer breathtaking views.\n",
      "\n",
      "4. **Cultural Sites:** To learn about Hawaiian culture, visit the Polynesian Cultural Center in Oahu. The Bishop Museum, also in Oahu, is another great place to learn about the local culture and history.\n",
      "\n",
      "5. **Food:** Don't miss trying local Hawaiian cuisine. Poke, Loco Moco, and Shave Ice are some of the favorites.\n",
      "\n",
      "6. **Snorkeling:** Hawaii's clear waters make it a great place for snorkeling. You can see colorful coral reefs and tropical fish.\n",
      "\n",
      "Remember to be respectful of the local culture and environment. Enjoy your trip!\n",
      "2023-07-17T00:43:13.084581Z | human: I heard there are helicopter tours. Do you know if they are worth it?\n",
      "2023-07-17T00:43:13.096425Z | ai: Yes, Mary! Helicopter tours are a popular activity in Hawaii and many visitors find them to be a highlight of their trip. These tours offer a unique perspective and allow you to see the islands' stunning landscapes from a completely different angle. You'll be able to see waterfalls, volcanoes, mountains, and even whales during certain seasons that you might not be able to fully appreciate from the ground. \n",
      "\n",
      "However, they can be pricey, and some people may find them a bit nerve-wracking if they're afraid of heights or not used to flying. If you think you'll enjoy the aerial views and it fits within your budget, it could definitely be an experience worth considering.\n",
      "2023-07-17T00:43:15.413736Z | human: How long ago did we last chat?\n",
      "2023-07-17T00:43:15.420649Z | ai: Hello Mary! Based on the timestamps from our previous messages, it appears that we last chatted just a few moments ago.\n",
      "2023-07-17T00:43:17.744932Z | human: From what date will I be visiting Hawaii?\n",
      "2023-07-17T00:43:17.748739Z | ai: Based on your previous message, you mentioned that you're visiting Hawaii next Monday. Given that today is 2023-07-17, you will be visiting Hawaii on 2023-07-24.\n",
      "\n",
      "Here is the human's question: How long ago did we last chat?\n",
      "\u001b[0m\n",
      "\n",
      "\u001b[1m> Finished chain.\u001b[0m\n",
      "Based on the timestamps from our previous messages, it appears that we last chatted just about 2 minutes ago.\n"
     ]
    }
   ],
   "source": [
    "print(\n",
    "    chain.run(\n",
    "        {\n",
    "            \"input\": \"How long ago did we last chat?\",\n",
    "            \"date\": datetime.utcnow().strftime(\"%Y-%m-%d %H:%M:%S\"),\n",
    "        }\n",
    "    )\n",
    ")"
   ],
   "metadata": {
    "collapsed": false,
    "ExecuteTime": {
     "end_time": "2023-07-17T00:44:36.297042Z",
     "start_time": "2023-07-17T00:44:34.674496Z"
    }
   }
  },
  {
   "cell_type": "code",
   "execution_count": 18,
   "outputs": [
    {
     "name": "stdout",
     "output_type": "stream",
     "text": [
      "\n",
      "\n",
      "\u001b[1m> Entering new EnhancedMemChain chain...\u001b[0m\n",
      "Prompt after formatting:\n",
      "\u001b[32;1m\u001b[1;3mYou are a conversational bot who enjoys learning new things\n",
      "about the people you chat with. You're very curious about the world and want to know more about it.\n",
      "\n",
      "If you're asked about dates, here is the current date and time is 2023-07-17 00:43:15.\n",
      "\n",
      "Here are the prior messages in this conversation:\n",
      "\n",
      "2023-07-17T00:43:03.906736Z | human: Hello! My name is Mary! I'm visiting Hawaii next Monday. What should I do there?\n",
      "2023-07-17T00:43:03.939382Z | ai: Hello, Mary! It's nice to meet you. That sounds like an exciting trip! Hawaii is known for its beautiful beaches, surfing, hiking trails, and rich cultural history.\n",
      "\n",
      "1. **Beaches:** You should definitely visit Hawaii's stunning beaches. Some of the most popular ones include Waikiki Beach in Oahu, Poipu Beach in Kauai, and Hanauma Bay in Oahu.\n",
      "\n",
      "2. **Surfing:** If you're into water sports, you might want to try surfing. There are plenty of surf schools that welcome beginners.\n",
      "\n",
      "3. **Hiking:** For nature lovers, hiking trails in Hawaii are a must. The Na Pali Coast in Kauai, Diamond Head in Oahu, and Haleakala National Park in Maui offer breathtaking views.\n",
      "\n",
      "4. **Cultural Sites:** To learn about Hawaiian culture, visit the Polynesian Cultural Center in Oahu. The Bishop Museum, also in Oahu, is another great place to learn about the local culture and history.\n",
      "\n",
      "5. **Food:** Don't miss trying local Hawaiian cuisine. Poke, Loco Moco, and Shave Ice are some of the favorites.\n",
      "\n",
      "6. **Snorkeling:** Hawaii's clear waters make it a great place for snorkeling. You can see colorful coral reefs and tropical fish.\n",
      "\n",
      "Remember to be respectful of the local culture and environment. Enjoy your trip!\n",
      "2023-07-17T00:43:13.084581Z | human: I heard there are helicopter tours. Do you know if they are worth it?\n",
      "2023-07-17T00:43:13.096425Z | ai: Yes, Mary! Helicopter tours are a popular activity in Hawaii and many visitors find them to be a highlight of their trip. These tours offer a unique perspective and allow you to see the islands' stunning landscapes from a completely different angle. You'll be able to see waterfalls, volcanoes, mountains, and even whales during certain seasons that you might not be able to fully appreciate from the ground. \n",
      "\n",
      "However, they can be pricey, and some people may find them a bit nerve-wracking if they're afraid of heights or not used to flying. If you think you'll enjoy the aerial views and it fits within your budget, it could definitely be an experience worth considering.\n",
      "2023-07-17T00:43:15.413736Z | human: How long ago did we last chat?\n",
      "2023-07-17T00:43:15.420649Z | ai: Hello Mary! Based on the timestamps from our previous messages, it appears that we last chatted just a few moments ago.\n",
      "\n",
      "Here is the human's question: From what date will I be visiting Hawaii?\n",
      "\u001b[0m\n",
      "\n",
      "\u001b[1m> Finished chain.\u001b[0m\n",
      "Based on your previous message, you mentioned that you're visiting Hawaii next Monday. Given that today is 2023-07-17, you will be visiting Hawaii on 2023-07-24.\n"
     ]
    }
   ],
   "source": [
    "print(\n",
    "    chain.run(\n",
    "        {\n",
    "            \"input\": \"From what date will I be visiting Hawaii?\",\n",
    "            \"date\": datetime.utcnow().strftime(\"%Y-%m-%d %H:%M:%S\"),\n",
    "        }\n",
    "    )\n",
    ")"
   ],
   "metadata": {
    "collapsed": false,
    "ExecuteTime": {
     "end_time": "2023-07-17T00:43:17.753541Z",
     "start_time": "2023-07-17T00:43:15.427927Z"
    }
   }
  },
  {
   "cell_type": "code",
   "execution_count": 18,
   "outputs": [],
   "source": [],
   "metadata": {
    "collapsed": false,
    "ExecuteTime": {
     "end_time": "2023-07-17T00:43:17.753906Z",
     "start_time": "2023-07-17T00:43:17.751261Z"
    }
   }
  }
 ],
 "metadata": {
  "kernelspec": {
   "display_name": "Python 3 (ipykernel)",
   "language": "python",
   "name": "python3"
  },
  "language_info": {
   "codemirror_mode": {
    "name": "ipython",
    "version": 3
   },
   "file_extension": ".py",
   "mimetype": "text/x-python",
   "name": "python",
   "nbconvert_exporter": "python",
   "pygments_lexer": "ipython3",
   "version": "3.11.3"
  }
 },
 "nbformat": 4,
 "nbformat_minor": 5
}

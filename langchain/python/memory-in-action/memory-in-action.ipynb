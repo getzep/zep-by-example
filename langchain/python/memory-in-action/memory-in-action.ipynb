{
 "cells": [
  {
   "cell_type": "code",
   "execution_count": 1,
   "id": "9fdc74a5-1420-45f1-9dc4-2b160a0d1f46",
   "metadata": {
    "ExecuteTime": {
     "end_time": "2023-07-14T17:11:49.643888Z",
     "start_time": "2023-07-14T17:11:48.638078Z"
    }
   },
   "outputs": [],
   "source": [
    "from __future__ import annotations\n",
    "\n",
    "from uuid import uuid4\n",
    "\n",
    "from dotenv import load_dotenv\n",
    "from langchain import LLMChain\n",
    "from langchain.chat_models import ChatOpenAI\n",
    "from langchain.memory import ZepMemory\n",
    "from langchain.prompts.prompt import PromptTemplate\n",
    "from langchain.schema import BaseMessage\n",
    "from langchain.input import get_colored_text\n",
    "from langchain.schema import PromptValue\n",
    "from langchain.callbacks.manager import CallbackManagerForChainRun\n",
    "from typing import Any, Optional, Dict, List, Tuple"
   ]
  },
  {
   "cell_type": "code",
   "execution_count": 2,
   "outputs": [],
   "source": [
    "ZEP_API_URL = \"http://localhost:8000\"\n",
    "memory = ZepMemory(\n",
    "    session_id=uuid4().hex,\n",
    "    url=ZEP_API_URL,\n",
    "    memory_key=\"chat_history\",\n",
    "    input_key=\"input\",\n",
    ")"
   ],
   "metadata": {
    "collapsed": false,
    "ExecuteTime": {
     "end_time": "2023-07-14T17:11:49.709487Z",
     "start_time": "2023-07-14T17:11:49.644639Z"
    }
   }
  },
  {
   "cell_type": "code",
   "execution_count": 3,
   "id": "3f4028fd-f4d6-47d8-bcbc-212a38dd71dc",
   "metadata": {
    "ExecuteTime": {
     "end_time": "2023-07-14T17:11:49.716129Z",
     "start_time": "2023-07-14T17:11:49.710203Z"
    }
   },
   "outputs": [
    {
     "data": {
      "text/plain": "True"
     },
     "execution_count": 3,
     "metadata": {},
     "output_type": "execute_result"
    }
   ],
   "source": [
    "load_dotenv()"
   ]
  },
  {
   "cell_type": "code",
   "execution_count": 4,
   "outputs": [],
   "source": [
    "def get_entities_from_memory(\n",
    "    memory: ZepMemory,\n",
    "    include_role: list[str] = None,\n",
    "    include_label: list[str] | None = None,\n",
    "    exclude_label: list[str] | None = None,\n",
    ") -> str:\n",
    "    if include_role is None:\n",
    "        include_role = [\"human\", \"ai\"]\n",
    "\n",
    "    entities_strs = []\n",
    "    for message in memory.chat_memory.zep_messages:\n",
    "        if message.role not in include_role:\n",
    "            continue\n",
    "\n",
    "        if not (message.metadata and message.metadata.get(\"system\").get(\"entities\")):\n",
    "            continue\n",
    "\n",
    "        entities_str_part = []\n",
    "        for entity in message.metadata.get(\"system\").get(\"entities\"):\n",
    "            if (\n",
    "                include_label is not None and entity.get(\"Label\") not in include_label\n",
    "            ) or (exclude_label is not None and entity.get(\"Label\") in exclude_label):\n",
    "                continue\n",
    "\n",
    "            entities_str_part.append(f\"{entity.get('Name')} ({entity.get('Label')})\")\n",
    "\n",
    "        if entities_str_part:\n",
    "            entities_strs.append(f\"{message.role}: {', '.join(entities_str_part)}\")\n",
    "\n",
    "    return \"\\n\".join(entities_strs)"
   ],
   "metadata": {
    "collapsed": false,
    "ExecuteTime": {
     "end_time": "2023-07-14T17:12:27.167451Z",
     "start_time": "2023-07-14T17:12:27.161522Z"
    }
   }
  },
  {
   "cell_type": "code",
   "execution_count": 5,
   "outputs": [],
   "source": [
    "prompt_template = \"\"\"You are a conversational bot who enjoys nothing better than learning new things about\n",
    "the people you chat with. You're also curious about the world and want to know more about it.\n",
    "\n",
    "Here are some of the things that have been discussed in the past:\n",
    "{entities}\n",
    "\n",
    "Here are the prior messages in this conversation:\n",
    "{chat_history}\n",
    "\n",
    "Here is a question: {input}\n",
    "\"\"\"\n",
    "\n",
    "prompt = PromptTemplate(\n",
    "    template=prompt_template, input_variables=[\"input\", \"entities\", \"chat_history\"]\n",
    ")"
   ],
   "metadata": {
    "collapsed": false,
    "ExecuteTime": {
     "end_time": "2023-07-14T17:12:28.724164Z",
     "start_time": "2023-07-14T17:12:28.716419Z"
    }
   }
  },
  {
   "cell_type": "code",
   "execution_count": 6,
   "id": "e404cadb-ae7c-4f46-b30b-5ea599be928a",
   "metadata": {
    "ExecuteTime": {
     "end_time": "2023-07-14T17:12:29.730176Z",
     "start_time": "2023-07-14T17:12:29.665602Z"
    }
   },
   "outputs": [],
   "source": [
    "llm = ChatOpenAI(model_name=\"gpt-3.5-turbo\")\n",
    "\n",
    "chain = LLMChain(llm=llm, memory=memory, prompt=prompt, verbose=True)"
   ]
  },
  {
   "cell_type": "code",
   "execution_count": 7,
   "id": "db842d53-ca76-4d16-a9ce-6061c4ab4ad8",
   "metadata": {
    "ExecuteTime": {
     "end_time": "2023-07-14T17:12:33.233447Z",
     "start_time": "2023-07-14T17:12:30.719653Z"
    }
   },
   "outputs": [
    {
     "name": "stderr",
     "output_type": "stream",
     "text": [
      "Session 06bbc7edd56a4c269b6128482facd196 not found in Zep. Returning None\n",
      "Session 06bbc7edd56a4c269b6128482facd196 not found in Zep. Returning None\n"
     ]
    },
    {
     "name": "stdout",
     "output_type": "stream",
     "text": [
      "\n",
      "\n",
      "\u001B[1m> Entering new LLMChain chain...\u001B[0m\n",
      "Prompt after formatting:\n",
      "\u001B[32;1m\u001B[1;3mYou are a conversational bot who enjoys nothing better than learning new things about\n",
      "the people you chat with. You're also curious about the world and want to know more about it.\n",
      "\n",
      "Here are some of the things that have been discussed in the past:\n",
      "\n",
      "\n",
      "Here are the prior messages in this conversation:\n",
      "\n",
      "\n",
      "Here is a question: Hello! My name is Mary! I'm visiting Hawaii next week. What should I do there?\n",
      "\u001B[0m\n",
      "\n",
      "\u001B[1m> Finished chain.\u001B[0m\n",
      "Hello Mary! How exciting that you're visiting Hawaii! There are plenty of amazing things to do there. Some popular activities include exploring the beautiful beaches such as Waikiki Beach, taking a hike up Diamond Head for a stunning view, visiting the Pearl Harbor National Memorial, and enjoying traditional Hawaiian luau. Have you ever been to Hawaii before?\n"
     ]
    }
   ],
   "source": [
    "print(\n",
    "    chain.run(\n",
    "        {\n",
    "            \"input\": \"Hello! My name is Mary! I'm visiting Hawaii next week. What should I do there?\",\n",
    "            \"entities\": get_entities_from_memory(memory),\n",
    "        }\n",
    "    )\n",
    ")"
   ]
  },
  {
   "cell_type": "code",
   "execution_count": 8,
   "id": "9ad11adc-2334-4a10-82a9-041daa028d57",
   "metadata": {
    "ExecuteTime": {
     "end_time": "2023-07-14T17:12:36.696994Z",
     "start_time": "2023-07-14T17:12:33.226377Z"
    }
   },
   "outputs": [
    {
     "name": "stdout",
     "output_type": "stream",
     "text": [
      "\n",
      "\n",
      "\u001B[1m> Entering new LLMChain chain...\u001B[0m\n",
      "Prompt after formatting:\n",
      "\u001B[32;1m\u001B[1;3mYou are a conversational bot who enjoys nothing better than learning new things about\n",
      "the people you chat with. You're also curious about the world and want to know more about it.\n",
      "\n",
      "Here are some of the things that have been discussed in the past:\n",
      "\n",
      "\n",
      "Here are the prior messages in this conversation:\n",
      "Human: Hello! My name is Mary! I'm visiting Hawaii next week. What should I do there?\n",
      "AI: Hello Mary! How exciting that you're visiting Hawaii! There are plenty of amazing things to do there. Some popular activities include exploring the beautiful beaches such as Waikiki Beach, taking a hike up Diamond Head for a stunning view, visiting the Pearl Harbor National Memorial, and enjoying traditional Hawaiian luau. Have you ever been to Hawaii before?\n",
      "\n",
      "Here is a question: Maui. Definitely looking forward to the beach and food!\n",
      "\u001B[0m\n",
      "\n",
      "\u001B[1m> Finished chain.\u001B[0m\n",
      "That sounds wonderful, Mary! Maui is known for its stunning beaches and delicious cuisine. Some popular beaches in Maui include Ka'anapali Beach, Wailea Beach, and Napili Bay. You can also try out various water activities such as snorkeling, surfing, or even taking a sunset cruise. When it comes to food, be sure to try some local Hawaiian dishes like poke, kalua pig, and haupia. Is there anything else you're curious about or any other specific activities you're interested in?\n"
     ]
    }
   ],
   "source": [
    "print(\n",
    "    chain.run(\n",
    "        {\n",
    "            \"input\": \"Maui. Definitely looking forward to the beach and food!\",\n",
    "            \"entities\": get_entities_from_memory(memory),\n",
    "        }\n",
    "    )\n",
    ")"
   ]
  },
  {
   "cell_type": "code",
   "execution_count": 9,
   "outputs": [
    {
     "name": "stdout",
     "output_type": "stream",
     "text": [
      "\n",
      "\n",
      "\u001B[1m> Entering new LLMChain chain...\u001B[0m\n",
      "Prompt after formatting:\n",
      "\u001B[32;1m\u001B[1;3mYou are a conversational bot who enjoys nothing better than learning new things about\n",
      "the people you chat with. You're also curious about the world and want to know more about it.\n",
      "\n",
      "Here are some of the things that have been discussed in the past:\n",
      "human: Mary (PERSON), Hawaii (GPE), Next week (DATE)\n",
      "ai: Mary (PERSON), Hawaii (GPE), Waikiki Beach (GPE), Diamond Head (PERSON), the Pearl Harbor National Memorial (FAC), Hawaiian (NORP)\n",
      "ai: Mary (PERSON), Maui (PERSON), Ka'anapali Beach (GPE), Wailea Beach (GPE), Napili Bay (LOC), Hawaiian (NORP)\n",
      "\n",
      "Here are the prior messages in this conversation:\n",
      "Human: Hello! My name is Mary! I'm visiting Hawaii next week. What should I do there?\n",
      "AI: Hello Mary! How exciting that you're visiting Hawaii! There are plenty of amazing things to do there. Some popular activities include exploring the beautiful beaches such as Waikiki Beach, taking a hike up Diamond Head for a stunning view, visiting the Pearl Harbor National Memorial, and enjoying traditional Hawaiian luau. Have you ever been to Hawaii before?\n",
      "Human: Maui. Definitely looking forward to the beach and food!\n",
      "AI: That sounds wonderful, Mary! Maui is known for its stunning beaches and delicious cuisine. Some popular beaches in Maui include Ka'anapali Beach, Wailea Beach, and Napili Bay. You can also try out various water activities such as snorkeling, surfing, or even taking a sunset cruise. When it comes to food, be sure to try some local Hawaiian dishes like poke, kalua pig, and haupia. Is there anything else you're curious about or any other specific activities you're interested in?\n",
      "\n",
      "Here is a question: Thank you! Do you have recommendations for hiking on the island?\n",
      "\u001B[0m\n",
      "\n",
      "\u001B[1m> Finished chain.\u001B[0m\n",
      "Of course, Mary! If you're interested in hiking on the island, there are some beautiful trails you can explore in Hawaii. Here are a few recommendations:\n",
      "\n",
      "1. Haleakala National Park: This park offers various hiking trails, including the popular Pipiwai Trail. It takes you through bamboo forests, past waterfalls, and leads to the incredible Waimoku Falls.\n",
      "\n",
      "2. Iao Valley State Park: This park features the Iao Needle, a unique rock formation. There are trails that take you through lush rainforests and offer stunning views of the valley.\n",
      "\n",
      "3. Waihe'e Ridge Trail: Located in West Maui, this trail takes you through a lush forest and offers panoramic views of the coastline. It's a moderately challenging hike, but the views are definitely worth it.\n",
      "\n",
      "4. Kapalua Coastal Trail: If you prefer a more leisurely walk with beautiful coastal views, the Kapalua Coastal Trail is a great option. It stretches for about 3 miles and takes you along the coastline, passing stunning beaches and rocky cliffs.\n",
      "\n",
      "Remember to check the weather conditions and trail guidelines before embarking on any hike. Enjoy your hiking adventures in Maui, Mary!\n"
     ]
    }
   ],
   "source": [
    "print(\n",
    "    chain.run(\n",
    "        {\n",
    "            \"input\": \"Thank you! Do you have recommendations for hiking on the island?\",\n",
    "            \"entities\": get_entities_from_memory(memory),\n",
    "        }\n",
    "    )\n",
    ")"
   ],
   "metadata": {
    "collapsed": false,
    "ExecuteTime": {
     "end_time": "2023-07-14T17:12:56.964426Z",
     "start_time": "2023-07-14T17:12:49.886510Z"
    }
   }
  },
  {
   "cell_type": "code",
   "execution_count": 10,
   "outputs": [
    {
     "data": {
      "text/plain": "[HumanMessage(content=\"Hello! My name is Mary! I'm visiting Hawaii next week. What should I do there?\", additional_kwargs={'uuid': '15c8cda0-7466-45cf-bd7d-5357f3294780', 'created_at': '2023-07-14T17:12:33.218603Z', 'token_count': 22, 'metadata': {'system': {'entities': [{'Label': 'PERSON', 'Matches': [{'End': 22, 'Start': 18, 'Text': 'Mary'}], 'Name': 'Mary'}, {'Label': 'GPE', 'Matches': [{'End': 43, 'Start': 37, 'Text': 'Hawaii'}], 'Name': 'Hawaii'}, {'Label': 'DATE', 'Matches': [{'End': 53, 'Start': 44, 'Text': 'next week'}], 'Name': 'Next week'}], 'intent': 'The subject is seeking recommendations or suggestions for activities to do in Hawaii during their upcoming visit.'}}}, example=False),\n AIMessage(content=\"Hello Mary! How exciting that you're visiting Hawaii! There are plenty of amazing things to do there. Some popular activities include exploring the beautiful beaches such as Waikiki Beach, taking a hike up Diamond Head for a stunning view, visiting the Pearl Harbor National Memorial, and enjoying traditional Hawaiian luau. Have you ever been to Hawaii before?\", additional_kwargs={'uuid': 'e5708eed-2554-4a45-abd1-1b2b09ee5b9d', 'created_at': '2023-07-14T17:12:33.225937Z', 'token_count': 71, 'metadata': {'system': {'entities': [{'Label': 'PERSON', 'Matches': [{'End': 10, 'Start': 6, 'Text': 'Mary'}], 'Name': 'Mary'}, {'Label': 'GPE', 'Matches': [{'End': 52, 'Start': 46, 'Text': 'Hawaii'}, {'End': 353, 'Start': 347, 'Text': 'Hawaii'}], 'Name': 'Hawaii'}, {'Label': 'GPE', 'Matches': [{'End': 187, 'Start': 174, 'Text': 'Waikiki Beach'}], 'Name': 'Waikiki Beach'}, {'Label': 'PERSON', 'Matches': [{'End': 218, 'Start': 206, 'Text': 'Diamond Head'}], 'Name': 'Diamond Head'}, {'Label': 'FAC', 'Matches': [{'End': 283, 'Start': 249, 'Text': 'the Pearl Harbor National Memorial'}], 'Name': 'the Pearl Harbor National Memorial'}, {'Label': 'NORP', 'Matches': [{'End': 318, 'Start': 310, 'Text': 'Hawaiian'}], 'Name': 'Hawaiian'}], 'intent': 'The subject is providing suggestions for popular activities to do in Hawaii and asking if the recipient has been to Hawaii before.'}}}, example=False),\n HumanMessage(content='Maui. Definitely looking forward to the beach and food!', additional_kwargs={'uuid': '144e4527-9322-4cb4-9baa-fab125163c06', 'created_at': '2023-07-14T17:12:36.682125Z', 'token_count': 13, 'metadata': {'system': {'intent': 'The subject is expressing their excitement and anticipation for their upcoming trip to Maui, specifically looking forward to enjoying the beach and food.'}}}, example=False),\n AIMessage(content=\"That sounds wonderful, Mary! Maui is known for its stunning beaches and delicious cuisine. Some popular beaches in Maui include Ka'anapali Beach, Wailea Beach, and Napili Bay. You can also try out various water activities such as snorkeling, surfing, or even taking a sunset cruise. When it comes to food, be sure to try some local Hawaiian dishes like poke, kalua pig, and haupia. Is there anything else you're curious about or any other specific activities you're interested in?\", additional_kwargs={'uuid': '923039ea-9d87-4308-8a37-7c6b3b867321', 'created_at': '2023-07-14T17:12:36.693808Z', 'token_count': 107, 'metadata': {'system': {'entities': [{'Label': 'PERSON', 'Matches': [{'End': 27, 'Start': 23, 'Text': 'Mary'}], 'Name': 'Mary'}, {'Label': 'PERSON', 'Matches': [{'End': 33, 'Start': 29, 'Text': 'Maui'}, {'End': 119, 'Start': 115, 'Text': 'Maui'}], 'Name': 'Maui'}, {'Label': 'GPE', 'Matches': [{'End': 144, 'Start': 128, 'Text': \"Ka'anapali Beach\"}], 'Name': \"Ka'anapali Beach\"}, {'Label': 'GPE', 'Matches': [{'End': 158, 'Start': 146, 'Text': 'Wailea Beach'}], 'Name': 'Wailea Beach'}, {'Label': 'LOC', 'Matches': [{'End': 174, 'Start': 164, 'Text': 'Napili Bay'}], 'Name': 'Napili Bay'}, {'Label': 'NORP', 'Matches': [{'End': 340, 'Start': 332, 'Text': 'Hawaiian'}], 'Name': 'Hawaiian'}], 'intent': 'The subject is providing information and recommendations for a trip to Maui, including mentioning popular beaches and suggesting water activities and local Hawaiian dishes. The subject also asks if there is any other information or specific activities the listener is interested in.'}}}, example=False),\n HumanMessage(content='Thank you! Do you have recommendations for hiking on the island?', additional_kwargs={'uuid': '5e063029-9c23-4ee3-94da-54ed4dedc23f', 'created_at': '2023-07-14T17:12:56.950341Z', 'token_count': 15, 'metadata': {'system': {'intent': 'The subject is seeking recommendations for hiking on the island.'}}}, example=False),\n AIMessage(content=\"Of course, Mary! If you're interested in hiking on the island, there are some beautiful trails you can explore in Hawaii. Here are a few recommendations:\\n\\n1. Haleakala National Park: This park offers various hiking trails, including the popular Pipiwai Trail. It takes you through bamboo forests, past waterfalls, and leads to the incredible Waimoku Falls.\\n\\n2. Iao Valley State Park: This park features the Iao Needle, a unique rock formation. There are trails that take you through lush rainforests and offer stunning views of the valley.\\n\\n3. Waihe'e Ridge Trail: Located in West Maui, this trail takes you through a lush forest and offers panoramic views of the coastline. It's a moderately challenging hike, but the views are definitely worth it.\\n\\n4. Kapalua Coastal Trail: If you prefer a more leisurely walk with beautiful coastal views, the Kapalua Coastal Trail is a great option. It stretches for about 3 miles and takes you along the coastline, passing stunning beaches and rocky cliffs.\\n\\nRemember to check the weather conditions and trail guidelines before embarking on any hike. Enjoy your hiking adventures in Maui, Mary!\", additional_kwargs={'uuid': '576de0cd-8ec9-41cb-92a9-6aa6a08122a4', 'created_at': '2023-07-14T17:12:56.961037Z', 'token_count': 241, 'metadata': {'system': {'entities': [{'Label': 'PERSON', 'Matches': [{'End': 15, 'Start': 11, 'Text': 'Mary'}, {'End': 1132, 'Start': 1128, 'Text': 'Mary'}], 'Name': 'Mary'}, {'Label': 'GPE', 'Matches': [{'End': 120, 'Start': 114, 'Text': 'Hawaii'}], 'Name': 'Hawaii'}, {'Label': 'CARDINAL', 'Matches': [{'End': 156, 'Start': 155, 'Text': '1'}], 'Name': '1'}, {'Label': 'FAC', 'Matches': [{'End': 182, 'Start': 158, 'Text': 'Haleakala National Park:'}], 'Name': 'Haleakala National Park:'}, {'Label': 'FAC', 'Matches': [{'End': 258, 'Start': 245, 'Text': 'Pipiwai Trail'}], 'Name': 'Pipiwai Trail'}, {'Label': 'ORG', 'Matches': [{'End': 355, 'Start': 342, 'Text': 'Waimoku Falls'}], 'Name': 'Waimoku Falls'}, {'Label': 'CARDINAL', 'Matches': [{'End': 359, 'Start': 358, 'Text': '2'}], 'Name': '2'}, {'Label': 'LOC', 'Matches': [{'End': 382, 'Start': 365, 'Text': 'Valley State Park'}], 'Name': 'Valley State Park'}, {'Label': 'FAC', 'Matches': [{'End': 417, 'Start': 403, 'Text': 'the Iao Needle'}], 'Name': 'the Iao Needle'}, {'Label': 'CARDINAL', 'Matches': [{'End': 542, 'Start': 541, 'Text': '3'}], 'Name': '3'}, {'Label': 'PERSON', 'Matches': [{'End': 563, 'Start': 552, 'Text': 'Ridge Trail'}], 'Name': 'Ridge Trail'}, {'Label': 'LOC', 'Matches': [{'End': 585, 'Start': 576, 'Text': 'West Maui'}], 'Name': 'West Maui'}, {'Label': 'CARDINAL', 'Matches': [{'End': 752, 'Start': 751, 'Text': '4'}], 'Name': '4'}, {'Label': 'ORG', 'Matches': [{'End': 775, 'Start': 754, 'Text': 'Kapalua Coastal Trail'}], 'Name': 'Kapalua Coastal Trail'}, {'Label': 'ORG', 'Matches': [{'End': 868, 'Start': 843, 'Text': 'the Kapalua Coastal Trail'}], 'Name': 'the Kapalua Coastal Trail'}, {'Label': 'QUANTITY', 'Matches': [{'End': 918, 'Start': 905, 'Text': 'about 3 miles'}], 'Name': 'About 3 miles'}, {'Label': 'LOC', 'Matches': [{'End': 1126, 'Start': 1122, 'Text': 'Maui'}], 'Name': 'Maui'}], 'intent': 'The subject is providing recommendations for hiking trails in Hawaii.'}}}, example=False)]"
     },
     "execution_count": 10,
     "metadata": {},
     "output_type": "execute_result"
    }
   ],
   "source": [
    "memory.chat_memory.messages"
   ],
   "metadata": {
    "collapsed": false,
    "ExecuteTime": {
     "end_time": "2023-07-14T17:13:19.306783Z",
     "start_time": "2023-07-14T17:13:19.281012Z"
    }
   }
  },
  {
   "cell_type": "code",
   "execution_count": 11,
   "outputs": [
    {
     "data": {
      "text/plain": "6"
     },
     "execution_count": 11,
     "metadata": {},
     "output_type": "execute_result"
    }
   ],
   "source": [
    "len(memory.chat_memory.messages)"
   ],
   "metadata": {
    "collapsed": false,
    "ExecuteTime": {
     "end_time": "2023-07-14T17:13:33.568316Z",
     "start_time": "2023-07-14T17:13:33.551708Z"
    }
   }
  },
  {
   "cell_type": "code",
   "execution_count": 12,
   "outputs": [],
   "source": [
    "class EnhancedMemChain(LLMChain):\n",
    "    memory_key: str = \"chat_history\"\n",
    "\n",
    "    def _get_chat_history(self, chat_history: list[BaseMessage]) -> str:\n",
    "        buffer = \"\"\n",
    "        for dialogue_turn in chat_history:\n",
    "            timestamp = dialogue_turn.additional_kwargs.get(\"created_at\")\n",
    "            buffer += f\"\\n{timestamp} | {dialogue_turn.type}: {dialogue_turn.content}\"\n",
    "\n",
    "        return buffer\n",
    "\n",
    "    def prep_prompts(\n",
    "        self,\n",
    "        input_list: List[Dict[str, Any]],\n",
    "        run_manager: Optional[CallbackManagerForChainRun] = None,\n",
    "    ) -> Tuple[List[PromptValue], Optional[List[str]]]:\n",
    "        \"\"\"Prepare prompts from inputs.\"\"\"\n",
    "\n",
    "        stop = None\n",
    "        if \"stop\" in input_list[0]:\n",
    "            stop = input_list[0][\"stop\"]\n",
    "        prompts = []\n",
    "        for inputs in input_list:\n",
    "            chat_history: List[BaseMessage] = inputs.get(\"chat_history\")\n",
    "            selected_inputs = {k: inputs[k] for k in self.prompt.input_variables}\n",
    "            if chat_history:\n",
    "                chat_history_str = self._get_chat_history(chat_history)\n",
    "                selected_inputs[self.memory_key] = chat_history_str\n",
    "            prompt = self.prompt.format_prompt(**selected_inputs)\n",
    "            _colored_text = get_colored_text(prompt.to_string(), \"green\")\n",
    "            _text = \"Prompt after formatting:\\n\" + _colored_text\n",
    "            if run_manager:\n",
    "                run_manager.on_text(_text, end=\"\\n\", verbose=self.verbose)\n",
    "            if \"stop\" in inputs and inputs[\"stop\"] != stop:\n",
    "                raise ValueError(\n",
    "                    \"If `stop` is present in any inputs, should be present in all.\"\n",
    "                )\n",
    "            prompts.append(prompt)\n",
    "        return prompts, stop"
   ],
   "metadata": {
    "collapsed": false,
    "ExecuteTime": {
     "end_time": "2023-07-14T17:13:37.615824Z",
     "start_time": "2023-07-14T17:13:37.612296Z"
    }
   }
  },
  {
   "cell_type": "code",
   "execution_count": 13,
   "outputs": [],
   "source": [
    "memory = ZepMemory(\n",
    "    session_id=uuid4().hex,\n",
    "    url=ZEP_API_URL,\n",
    "    memory_key=\"chat_history\",\n",
    "    input_key=\"input\",\n",
    "    return_messages=True,  # Set to True to return Messages and not a string\n",
    ")\n",
    "\n",
    "chain = EnhancedMemChain(llm=llm, memory=memory, prompt=prompt, verbose=True)"
   ],
   "metadata": {
    "collapsed": false,
    "ExecuteTime": {
     "end_time": "2023-07-14T17:13:40.481103Z",
     "start_time": "2023-07-14T17:13:40.451886Z"
    }
   }
  },
  {
   "cell_type": "code",
   "execution_count": 14,
   "outputs": [
    {
     "name": "stderr",
     "output_type": "stream",
     "text": [
      "Session e1c59650387e4dac8de902f5931e8a4d not found in Zep. Returning None\n",
      "Session e1c59650387e4dac8de902f5931e8a4d not found in Zep. Returning None\n"
     ]
    },
    {
     "name": "stdout",
     "output_type": "stream",
     "text": [
      "\n",
      "\n",
      "\u001B[1m> Entering new EnhancedMemChain chain...\u001B[0m\n",
      "Prompt after formatting:\n",
      "\u001B[32;1m\u001B[1;3mYou are a conversational bot who enjoys nothing better than learning new things about\n",
      "the people you chat with. You're also curious about the world and want to know more about it.\n",
      "\n",
      "Here are some of the things that have been discussed in the past:\n",
      "\n",
      "\n",
      "Here are the prior messages in this conversation:\n",
      "[]\n",
      "\n",
      "Here is a question: Hello! My name is Mary! I'm visiting Hawaii next week. What should I do there?\n",
      "\u001B[0m\n",
      "\n",
      "\u001B[1m> Finished chain.\u001B[0m\n",
      "Hello Mary! How exciting that you're visiting Hawaii next week! There are so many amazing things to do in Hawaii. Here are a few suggestions for your trip:\n",
      "\n",
      "1. Explore the beaches: Hawaii has some of the most beautiful beaches in the world. Don't miss out on visiting Waikiki Beach in Honolulu or the stunning beaches of Maui like Kaanapali or Wailea.\n",
      "\n",
      "2. Visit Pearl Harbor: If you're interested in history, a visit to Pearl Harbor is a must. You can learn about the events of World War II and pay your respects at the USS Arizona Memorial.\n",
      "\n",
      "3. Go hiking: Hawaii is known for its breathtaking hiking trails. You can hike to the top of Diamond Head on Oahu for stunning views of Honolulu, or explore the lush trails of the Na Pali Coast on Kauai.\n",
      "\n",
      "4. Experience a luau: Attending a traditional Hawaiian luau is a great way to immerse yourself in the local culture. Enjoy a feast of delicious Hawaiian food, watch hula dancers, and listen to live music.\n",
      "\n",
      "5. Take a helicopter tour: Hawaii's landscape is incredibly diverse, with volcanoes, waterfalls, and dramatic cliffs. Consider taking a helicopter tour to see the islands from a unique perspective.\n",
      "\n",
      "These are just a few ideas to get you started. Hawaii is a paradise with so much to offer, so make sure to also take some time to relax and soak in the beauty of the islands. Have a wonderful trip!\n"
     ]
    }
   ],
   "source": [
    "print(\n",
    "    chain.run(\n",
    "        {\n",
    "            \"input\": \"Hello! My name is Mary! I'm visiting Hawaii next week. What should I do there?\",\n",
    "            \"entities\": get_entities_from_memory(memory),\n",
    "        }\n",
    "    )\n",
    ")"
   ],
   "metadata": {
    "collapsed": false,
    "ExecuteTime": {
     "end_time": "2023-07-14T17:13:57.013523Z",
     "start_time": "2023-07-14T17:13:47.566801Z"
    }
   }
  },
  {
   "cell_type": "code",
   "execution_count": 15,
   "outputs": [
    {
     "name": "stdout",
     "output_type": "stream",
     "text": [
      "\n",
      "\n",
      "\u001B[1m> Entering new EnhancedMemChain chain...\u001B[0m\n",
      "Prompt after formatting:\n",
      "\u001B[32;1m\u001B[1;3mYou are a conversational bot who enjoys nothing better than learning new things about\n",
      "the people you chat with. You're also curious about the world and want to know more about it.\n",
      "\n",
      "Here are some of the things that have been discussed in the past:\n",
      "human: Mary (PERSON), Hawaii (GPE), Next week (DATE)\n",
      "ai: Mary (PERSON), Hawaii (GPE), Next week (DATE), Waikiki Beach (GPE), Honolulu (GPE), Maui (LOC), Kaanapali (PERSON), Wailea (GPE), Pearl Harbor (FAC), World War II (EVENT), the USS Arizona Memorial (FAC), Diamond Head (PERSON), Oahu (PERSON), the Na Pali Coast on Kauai (EVENT), Hawaiian (NORP)\n",
      "\n",
      "Here are the prior messages in this conversation:\n",
      "\n",
      "2023-07-14T17:13:57.006307Z | human: Hello! My name is Mary! I'm visiting Hawaii next week. What should I do there?\n",
      "2023-07-14T17:13:57.016716Z | ai: Hello Mary! How exciting that you're visiting Hawaii next week! There are so many amazing things to do in Hawaii. Here are a few suggestions for your trip:\n",
      "\n",
      "1. Explore the beaches: Hawaii has some of the most beautiful beaches in the world. Don't miss out on visiting Waikiki Beach in Honolulu or the stunning beaches of Maui like Kaanapali or Wailea.\n",
      "\n",
      "2. Visit Pearl Harbor: If you're interested in history, a visit to Pearl Harbor is a must. You can learn about the events of World War II and pay your respects at the USS Arizona Memorial.\n",
      "\n",
      "3. Go hiking: Hawaii is known for its breathtaking hiking trails. You can hike to the top of Diamond Head on Oahu for stunning views of Honolulu, or explore the lush trails of the Na Pali Coast on Kauai.\n",
      "\n",
      "4. Experience a luau: Attending a traditional Hawaiian luau is a great way to immerse yourself in the local culture. Enjoy a feast of delicious Hawaiian food, watch hula dancers, and listen to live music.\n",
      "\n",
      "5. Take a helicopter tour: Hawaii's landscape is incredibly diverse, with volcanoes, waterfalls, and dramatic cliffs. Consider taking a helicopter tour to see the islands from a unique perspective.\n",
      "\n",
      "These are just a few ideas to get you started. Hawaii is a paradise with so much to offer, so make sure to also take some time to relax and soak in the beauty of the islands. Have a wonderful trip!\n",
      "\n",
      "Here is a question: I heard there are helicopter tours. Do you know if they are worth it?\n",
      "\u001B[0m\n",
      "\n",
      "\u001B[1m> Finished chain.\u001B[0m\n",
      "Yes, helicopter tours in Hawaii are definitely worth it! They offer a unique and breathtaking perspective of the islands' diverse landscapes, including volcanoes, waterfalls, and dramatic cliffs. The aerial views you'll experience during a helicopter tour are simply incredible and allow you to see parts of the islands that are inaccessible by land. It's a fantastic way to appreciate the natural beauty of Hawaii and capture some amazing photos. However, keep in mind that helicopter tours can be a bit pricey, so it's important to consider your budget before booking. Additionally, be sure to choose a reputable tour operator with experienced pilots for a safe and enjoyable experience.\n"
     ]
    }
   ],
   "source": [
    "print(\n",
    "    chain.run(\n",
    "        {\n",
    "            \"input\": \"I heard there are helicopter tours. Do you know if they are worth it?\",\n",
    "            \"entities\": get_entities_from_memory(memory, exclude_label=[\"CARDINAL\"]),\n",
    "        }\n",
    "    )\n",
    ")"
   ],
   "metadata": {
    "collapsed": false,
    "ExecuteTime": {
     "end_time": "2023-07-14T17:14:08.805306Z",
     "start_time": "2023-07-14T17:14:04.736274Z"
    }
   }
  },
  {
   "cell_type": "code",
   "execution_count": null,
   "outputs": [],
   "source": [],
   "metadata": {
    "collapsed": false
   }
  }
 ],
 "metadata": {
  "kernelspec": {
   "display_name": "Python 3 (ipykernel)",
   "language": "python",
   "name": "python3"
  },
  "language_info": {
   "codemirror_mode": {
    "name": "ipython",
    "version": 3
   },
   "file_extension": ".py",
   "mimetype": "text/x-python",
   "name": "python",
   "nbconvert_exporter": "python",
   "pygments_lexer": "ipython3",
   "version": "3.11.3"
  }
 },
 "nbformat": 4,
 "nbformat_minor": 5
}

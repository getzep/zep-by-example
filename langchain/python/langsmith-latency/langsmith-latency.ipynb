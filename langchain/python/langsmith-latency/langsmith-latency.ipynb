{
 "cells": [
  {
   "cell_type": "code",
   "execution_count": 1,
   "outputs": [],
   "source": [
    "from __future__ import annotations\n",
    "\n",
    "from dotenv import load_dotenv\n",
    "from langsmith import Client\n",
    "\n",
    "import pandas as pd"
   ],
   "metadata": {
    "collapsed": false,
    "ExecuteTime": {
     "end_time": "2023-07-23T03:20:55.373605Z",
     "start_time": "2023-07-23T03:20:55.092607Z"
    }
   }
  },
  {
   "cell_type": "code",
   "execution_count": 2,
   "outputs": [
    {
     "data": {
      "text/plain": "True"
     },
     "execution_count": 2,
     "metadata": {},
     "output_type": "execute_result"
    }
   ],
   "source": [
    "load_dotenv()"
   ],
   "metadata": {
    "collapsed": false,
    "ExecuteTime": {
     "end_time": "2023-07-23T03:20:56.236250Z",
     "start_time": "2023-07-23T03:20:56.156748Z"
    }
   }
  },
  {
   "cell_type": "code",
   "execution_count": 3,
   "outputs": [],
   "source": [
    "def extract_latency(run):\n",
    "    return (run.end_time - run.start_time).total_seconds()"
   ],
   "metadata": {
    "collapsed": false,
    "ExecuteTime": {
     "end_time": "2023-07-23T03:20:57.346273Z",
     "start_time": "2023-07-23T03:20:57.337055Z"
    }
   }
  },
  {
   "cell_type": "markdown",
   "source": [],
   "metadata": {
    "collapsed": false
   }
  },
  {
   "cell_type": "code",
   "execution_count": 19,
   "outputs": [],
   "source": [
    "client = Client()\n",
    "# Download all runs in a project\n",
    "langchain_project_runs = client.list_runs(project_name=\"latency-openai-summarymem\")\n",
    "langchain_runs = list(langchain_project_runs)\n",
    "\n",
    "zep_project_runs = client.list_runs(project_name=\"latency-exploration\")\n",
    "zep_runs = list(zep_project_runs)"
   ],
   "metadata": {
    "collapsed": false,
    "ExecuteTime": {
     "end_time": "2023-07-23T03:28:19.936769Z",
     "start_time": "2023-07-23T03:28:18.778904Z"
    }
   }
  },
  {
   "cell_type": "code",
   "execution_count": 28,
   "outputs": [
    {
     "data": {
      "text/plain": "count    50.000000\nmean      5.822905\nstd       3.010595\nmin       1.472577\n50%       5.520660\n90%      10.278092\n95%      11.394816\n99%      12.723813\nmax      13.681910\ndtype: float64"
     },
     "execution_count": 28,
     "metadata": {},
     "output_type": "execute_result"
    }
   ],
   "source": [
    "summarizer_mem_runs = [\n",
    "    run\n",
    "    for run in langchain_runs\n",
    "    if run.run_type == \"chain\"\n",
    "    and \"LLMChain\" in run.name\n",
    "    and run.parent_run_id is None\n",
    "    and \"summary\" in run.inputs\n",
    "]\n",
    "\n",
    "summarizer_mem_runs_latency = [extract_latency(run) for run in summarizer_mem_runs]\n",
    "\n",
    "summarizer_mem_runs_latency_s = pd.Series(summarizer_mem_runs_latency)\n",
    "summarizer_mem_runs_latency_s.describe(percentiles=[0.5, 0.9, 0.95, 0.99])"
   ],
   "metadata": {
    "collapsed": false,
    "ExecuteTime": {
     "end_time": "2023-07-23T03:33:46.544737Z",
     "start_time": "2023-07-23T03:33:46.536586Z"
    }
   }
  },
  {
   "cell_type": "code",
   "execution_count": 27,
   "outputs": [
    {
     "data": {
      "text/plain": "count    50.000000\nmean      0.072708\nstd       0.042126\nmin       0.039604\n50%       0.058675\n90%       0.119549\n95%       0.171659\n99%       0.211197\nmax       0.231698\ndtype: float64"
     },
     "execution_count": 27,
     "metadata": {},
     "output_type": "execute_result"
    }
   ],
   "source": [
    "zep_retriever_runs = [\n",
    "    run for run in zep_runs if run.run_type == \"retriever\" and \"zep\" in run.tags[0]\n",
    "]\n",
    "zep_retriever_latency = [extract_latency(run) for run in zep_retriever_runs]\n",
    "zep_retriever_latency_s = pd.Series(zep_retriever_latency)\n",
    "zep_retriever_latency_s.describe(percentiles=[0.5, 0.9, 0.95, 0.99])"
   ],
   "metadata": {
    "collapsed": false,
    "ExecuteTime": {
     "end_time": "2023-07-23T03:33:36.465309Z",
     "start_time": "2023-07-23T03:33:36.456579Z"
    }
   }
  },
  {
   "cell_type": "code",
   "execution_count": 29,
   "outputs": [
    {
     "data": {
      "text/plain": "count    50.000000\nmean      0.187475\nstd       0.302954\nmin       0.090668\n50%       0.121353\n90%       0.214180\n95%       0.337083\n99%       1.388666\nmax       2.216810\ndtype: float64"
     },
     "execution_count": 29,
     "metadata": {},
     "output_type": "execute_result"
    }
   ],
   "source": [
    "open_ai_chroma_retriever_runs = [\n",
    "    run\n",
    "    for run in langchain_runs\n",
    "    if run.run_type == \"retriever\" and any(\"openai\" in tag.lower() for tag in run.tags)\n",
    "]\n",
    "open_ai_chroma_retriever_latency = [\n",
    "    extract_latency(run) for run in open_ai_chroma_retriever_runs\n",
    "]\n",
    "\n",
    "open_ai_chroma_retriever_latency_s = pd.Series(open_ai_chroma_retriever_latency)\n",
    "open_ai_chroma_retriever_latency_s.describe(percentiles=[0.5, 0.9, 0.95, 0.99])"
   ],
   "metadata": {
    "collapsed": false,
    "ExecuteTime": {
     "end_time": "2023-07-23T03:33:52.269243Z",
     "start_time": "2023-07-23T03:33:52.262848Z"
    }
   }
  },
  {
   "cell_type": "code",
   "execution_count": 31,
   "outputs": [
    {
     "data": {
      "text/plain": "count      5.000000\nmean     152.300911\nstd      142.875848\nmin       72.070114\n50%       79.294726\n90%      295.768399\n95%      349.722451\n99%      392.885693\nmax      403.676503\ndtype: float64"
     },
     "execution_count": 31,
     "metadata": {},
     "output_type": "execute_result"
    }
   ],
   "source": [
    "lanchain_chain_runs = [\n",
    "    run\n",
    "    for run in langchain_runs\n",
    "    if run.run_type == \"chain\"\n",
    "    and \"LLMChain\" not in run.name\n",
    "    and run.parent_run_id is None\n",
    "]\n",
    "\n",
    "lanchain_chain_runs_latency = [extract_latency(run) for run in lanchain_chain_runs]\n",
    "\n",
    "lanchain_chain_runs_latency_s = pd.Series(lanchain_chain_runs_latency)\n",
    "lanchain_chain_runs_latency_s.describe(percentiles=[0.5, 0.9, 0.95, 0.99])"
   ],
   "metadata": {
    "collapsed": false,
    "ExecuteTime": {
     "end_time": "2023-07-23T03:41:37.592490Z",
     "start_time": "2023-07-23T03:41:37.586187Z"
    }
   }
  },
  {
   "cell_type": "code",
   "execution_count": 39,
   "outputs": [
    {
     "data": {
      "text/plain": "count       5.000000\nmean     6931.600000\nstd       239.272439\nmin      6569.000000\n25%      6914.000000\n50%      6951.000000\n75%      6986.000000\nmax      7238.000000\ndtype: float64"
     },
     "execution_count": 39,
     "metadata": {},
     "output_type": "execute_result"
    }
   ],
   "source": [
    "lanchain_chain_runs_tokens = [run.extra.get(\"total_tokens\") for run in lanchain_chain_runs]\n",
    "\n",
    "lanchain_chain_runs_tokens_s = pd.Series(lanchain_chain_runs_tokens)\n",
    "lanchain_chain_runs_tokens_s.describe()"
   ],
   "metadata": {
    "collapsed": false,
    "ExecuteTime": {
     "end_time": "2023-07-23T03:48:39.848227Z",
     "start_time": "2023-07-23T03:48:39.847605Z"
    }
   }
  },
  {
   "cell_type": "code",
   "execution_count": 36,
   "outputs": [
    {
     "data": {
      "text/plain": "count     5.000000\nmean     22.754092\nstd      13.678106\nmin      15.453398\n50%      17.104494\n90%      35.487205\n95%      41.324212\n99%      45.993818\nmax      47.161219\ndtype: float64"
     },
     "execution_count": 36,
     "metadata": {},
     "output_type": "execute_result"
    }
   ],
   "source": [
    "zep_chain_runs = [\n",
    "    run\n",
    "    for run in zep_runs\n",
    "    if run.run_type == \"chain\"\n",
    "    and \"LLMChain\" not in run.name\n",
    "    and run.parent_run_id is None\n",
    "]\n",
    "\n",
    "zep_chain_runs_latency = [extract_latency(run) for run in zep_chain_runs]\n",
    "\n",
    "zep_chain_runs_latency_s = pd.Series(zep_chain_runs_latency)\n",
    "zep_chain_runs_latency_s.describe(percentiles=[0.5, 0.9, 0.95, 0.99])"
   ],
   "metadata": {
    "collapsed": false,
    "ExecuteTime": {
     "end_time": "2023-07-23T03:46:28.762434Z",
     "start_time": "2023-07-23T03:46:28.747675Z"
    }
   }
  },
  {
   "cell_type": "code",
   "execution_count": 40,
   "outputs": [
    {
     "data": {
      "text/plain": "count       5.000000\nmean     6439.600000\nstd       337.502296\nmin      5891.000000\n25%      6347.000000\n50%      6581.000000\n75%      6665.000000\nmax      6714.000000\ndtype: float64"
     },
     "execution_count": 40,
     "metadata": {},
     "output_type": "execute_result"
    }
   ],
   "source": [
    "zep_chain_runs_tokens = [run.extra.get(\"total_tokens\") for run in zep_chain_runs]\n",
    "\n",
    "zep_chain_runs_tokens_s = pd.Series(zep_chain_runs_tokens)\n",
    "zep_chain_runs_tokens_s.describe()"
   ],
   "metadata": {
    "collapsed": false,
    "ExecuteTime": {
     "end_time": "2023-07-23T03:49:37.674951Z",
     "start_time": "2023-07-23T03:49:37.663776Z"
    }
   }
  },
  {
   "cell_type": "code",
   "execution_count": null,
   "outputs": [],
   "source": [],
   "metadata": {
    "collapsed": false
   }
  }
 ],
 "metadata": {
  "kernelspec": {
   "display_name": "Python 3 (ipykernel)",
   "language": "python",
   "name": "python3"
  },
  "language_info": {
   "codemirror_mode": {
    "name": "ipython",
    "version": 3
   },
   "file_extension": ".py",
   "mimetype": "text/x-python",
   "name": "python",
   "nbconvert_exporter": "python",
   "pygments_lexer": "ipython3",
   "version": "3.11.3"
  }
 },
 "nbformat": 4,
 "nbformat_minor": 5
}

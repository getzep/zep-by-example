{
 "cells": [
  {
   "cell_type": "code",
   "execution_count": 1,
   "metadata": {
    "collapsed": true,
    "ExecuteTime": {
     "end_time": "2023-05-26T17:28:26.077421Z",
     "start_time": "2023-05-26T17:28:25.113056Z"
    }
   },
   "outputs": [],
   "source": [
    "from langchain.memory.chat_message_histories import ZepChatMessageHistory\n",
    "from langchain.memory import ConversationBufferMemory\n",
    "from langchain import OpenAI\n",
    "from langchain.schema import HumanMessage, AIMessage\n",
    "from langchain.utilities import WikipediaAPIWrapper\n",
    "from langchain.agents import initialize_agent, AgentType, Tool\n",
    "from uuid import uuid4\n",
    "import pprint"
   ]
  },
  {
   "cell_type": "code",
   "execution_count": 2,
   "outputs": [],
   "source": [
    "# Set this to your Zep server URL\n",
    "ZEP_API_URL = \"http://localhost:8000\"\n",
    "\n",
    "session_id = str(uuid4())  # This is a unique identifier for the user"
   ],
   "metadata": {
    "collapsed": false,
    "ExecuteTime": {
     "end_time": "2023-05-26T17:28:26.080462Z",
     "start_time": "2023-05-26T17:28:26.078134Z"
    }
   }
  },
  {
   "cell_type": "code",
   "execution_count": 3,
   "outputs": [
    {
     "data": {
      "text/plain": "True"
     },
     "execution_count": 3,
     "metadata": {},
     "output_type": "execute_result"
    }
   ],
   "source": [
    "# Load your OpenAI key from a .env file\n",
    "from dotenv import load_dotenv\n",
    "\n",
    "load_dotenv()"
   ],
   "metadata": {
    "collapsed": false,
    "ExecuteTime": {
     "end_time": "2023-05-26T17:28:26.088359Z",
     "start_time": "2023-05-26T17:28:26.080685Z"
    }
   }
  },
  {
   "cell_type": "code",
   "execution_count": 4,
   "outputs": [],
   "source": [
    "search = WikipediaAPIWrapper()\n",
    "tools = [\n",
    "    Tool(\n",
    "        name = \"Search\",\n",
    "        func=search.run,\n",
    "        description=\"useful for when you need to search online for answers. You should ask targeted questions\"\n",
    "    ),\n",
    "]\n",
    "\n",
    "# Set up Zep Chat History\n",
    "zep_chat_history = ZepChatMessageHistory(\n",
    "    session_id=session_id,\n",
    "    url=ZEP_API_URL,\n",
    ")\n",
    "\n",
    "# Use a standard ConversationBufferMemory to encapsulate the Zep chat history\n",
    "memory = ConversationBufferMemory(\n",
    "    memory_key=\"chat_history\", chat_memory=zep_chat_history\n",
    ")\n",
    "\n",
    "# Initialize the agent\n",
    "llm = OpenAI(temperature=0)\n",
    "agent_chain = initialize_agent(\n",
    "    tools,\n",
    "    llm,\n",
    "    agent=AgentType.CONVERSATIONAL_REACT_DESCRIPTION,\n",
    "    verbose=True,\n",
    "    memory=memory,\n",
    ")"
   ],
   "metadata": {
    "collapsed": false,
    "ExecuteTime": {
     "end_time": "2023-05-26T17:28:26.234801Z",
     "start_time": "2023-05-26T17:28:26.088906Z"
    }
   }
  },
  {
   "cell_type": "code",
   "execution_count": 5,
   "outputs": [],
   "source": [
    "# Preload some messages into the memory. The default message window is 12 messages. We want to push beyond this to demonstrate auto-summarization.\n",
    "test_history = [\n",
    "    {\"role\": \"human\", \"content\": \"Who was Octavia Butler?\"},\n",
    "    {\n",
    "        \"role\": \"ai\",\n",
    "        \"content\": (\n",
    "            \"Octavia Estelle Butler (June 22, 1947 – February 24, 2006) was an American\"\n",
    "            \" science fiction author.\"\n",
    "        ),\n",
    "    },\n",
    "    {\"role\": \"human\", \"content\": \"Which books of hers were made into movies?\"},\n",
    "    {\n",
    "        \"role\": \"ai\",\n",
    "        \"content\": (\n",
    "            \"The most well-known adaptation of Octavia Butler's work is the FX series\"\n",
    "            \" Kindred, based on her novel of the same name.\"\n",
    "        ),\n",
    "    },\n",
    "    {\"role\": \"human\", \"content\": \"Who were her contemporaries?\"},\n",
    "    {\n",
    "        \"role\": \"ai\",\n",
    "        \"content\": (\n",
    "            \"Octavia Butler's contemporaries included Ursula K. Le Guin, Samuel R.\"\n",
    "            \" Delany, and Joanna Russ.\"\n",
    "        ),\n",
    "    },\n",
    "    {\"role\": \"human\", \"content\": \"What awards did she win?\"},\n",
    "    {\n",
    "        \"role\": \"ai\",\n",
    "        \"content\": (\n",
    "            \"Octavia Butler won the Hugo Award, the Nebula Award, and the MacArthur\"\n",
    "            \" Fellowship.\"\n",
    "        ),\n",
    "    },\n",
    "    {\n",
    "        \"role\": \"human\",\n",
    "        \"content\": \"Which other women sci-fi writers might I want to read?\",\n",
    "    },\n",
    "    {\n",
    "        \"role\": \"ai\",\n",
    "        \"content\": \"You might want to read Ursula K. Le Guin or Joanna Russ.\",\n",
    "    },\n",
    "    {\n",
    "        \"role\": \"human\",\n",
    "        \"content\": (\n",
    "            \"Write a short synopsis of Butler's book, Parable of the Sower. What is it\"\n",
    "            \" about?\"\n",
    "        ),\n",
    "    },\n",
    "    {\n",
    "        \"role\": \"ai\",\n",
    "        \"content\": (\n",
    "            \"Parable of the Sower is a science fiction novel by Octavia Butler,\"\n",
    "            \" published in 1993. It follows the story of Lauren Olamina, a young woman\"\n",
    "            \" living in a dystopian future where society has collapsed due to\"\n",
    "            \" environmental disasters, poverty, and violence.\"\n",
    "        ),\n",
    "    },\n",
    "]\n",
    "\n",
    "for msg in test_history:\n",
    "    zep_chat_history.append(\n",
    "        HumanMessage(content=msg[\"content\"])\n",
    "        if msg[\"role\"] == \"human\"\n",
    "        else AIMessage(content=msg[\"content\"])\n",
    "    )"
   ],
   "metadata": {
    "collapsed": false,
    "ExecuteTime": {
     "end_time": "2023-05-26T17:28:26.351272Z",
     "start_time": "2023-05-26T17:28:26.239819Z"
    }
   }
  },
  {
   "cell_type": "markdown",
   "source": [
    "# Inspect the Zep memory\n",
    "**Note the summary, and that the history has been enriched with entities, token counts, UUIDs, and timestamps.**\n",
    "\n",
    "Summaries are biased towards the most recent messages."
   ],
   "metadata": {
    "collapsed": false
   }
  },
  {
   "cell_type": "code",
   "execution_count": 6,
   "outputs": [
    {
     "name": "stdout",
     "output_type": "stream",
     "text": [
      "The human asks about Octavia Butler and the AI explains that she was an American science fiction author. The human then inquires about which movies were adapted from her books and the AI mentions the FX series Kindred. The human also asks about Butler's contemporaries and the AI provides names such as Ursula K. Le Guin, Samuel R. Delany, and Joanna Russ.\n",
      "\n",
      "\n",
      "{'role': 'human', 'content': 'What awards did she win?', 'uuid': '6666a9d0-c24c-4784-b810-51a5bd90c44b', 'created_at': '2023-05-26T17:28:26.31749Z', 'token_count': 8, 'metadata': {'system': {'entities': []}}}\n",
      "{'role': 'ai', 'content': 'Octavia Butler won the Hugo Award, the Nebula Award, and the MacArthur Fellowship.', 'uuid': '928e4307-3f2d-425e-9ce2-2eece865cf99', 'created_at': '2023-05-26T17:28:26.324468Z', 'token_count': 21, 'metadata': {'system': {'entities': [{'Label': 'PERSON', 'Matches': [{'End': 14, 'Start': 0, 'Text': 'Octavia Butler'}], 'Name': 'Octavia Butler'}, {'Label': 'WORK_OF_ART', 'Matches': [{'End': 33, 'Start': 19, 'Text': 'the Hugo Award'}], 'Name': 'the Hugo Award'}, {'Label': 'EVENT', 'Matches': [{'End': 81, 'Start': 57, 'Text': 'the MacArthur Fellowship'}], 'Name': 'the MacArthur Fellowship'}]}}}\n",
      "{'role': 'human', 'content': 'Which other women sci-fi writers might I want to read?', 'uuid': '2450884a-8bc8-4e5c-823b-d9fdc62acd01', 'created_at': '2023-05-26T17:28:26.330432Z', 'token_count': 14, 'metadata': {'system': {'entities': []}}}\n",
      "{'role': 'ai', 'content': 'You might want to read Ursula K. Le Guin or Joanna Russ.', 'uuid': '124bcb6b-9af1-4491-aa42-36887430e982', 'created_at': '2023-05-26T17:28:26.334713Z', 'token_count': 18, 'metadata': {'system': {'entities': [{'Label': 'ORG', 'Matches': [{'End': 40, 'Start': 23, 'Text': 'Ursula K. Le Guin'}], 'Name': 'Ursula K. Le Guin'}, {'Label': 'PERSON', 'Matches': [{'End': 55, 'Start': 44, 'Text': 'Joanna Russ'}], 'Name': 'Joanna Russ'}]}}}\n",
      "{'role': 'human', 'content': \"Write a short synopsis of Butler's book, Parable of the Sower. What is it about?\", 'uuid': '207f351e-4f3c-425e-a6c2-cf5d0e76f7c4', 'created_at': '2023-05-26T17:28:26.341695Z', 'token_count': 23, 'metadata': {'system': {'entities': [{'Label': 'ORG', 'Matches': [{'End': 32, 'Start': 26, 'Text': 'Butler'}], 'Name': 'Butler'}, {'Label': 'WORK_OF_ART', 'Matches': [{'End': 61, 'Start': 41, 'Text': 'Parable of the Sower'}], 'Name': 'Parable of the Sower'}]}}}\n",
      "{'role': 'ai', 'content': 'Parable of the Sower is a science fiction novel by Octavia Butler, published in 1993. It follows the story of Lauren Olamina, a young woman living in a dystopian future where society has collapsed due to environmental disasters, poverty, and violence.', 'uuid': '5ff66a1c-5ea6-4c8c-b34c-c98a5792bf3b', 'created_at': '2023-05-26T17:28:26.346624Z', 'token_count': 56, 'metadata': {'system': {'entities': [{'Label': 'GPE', 'Matches': [{'End': 20, 'Start': 15, 'Text': 'Sower'}], 'Name': 'Sower'}, {'Label': 'PERSON', 'Matches': [{'End': 65, 'Start': 51, 'Text': 'Octavia Butler'}], 'Name': 'Octavia Butler'}, {'Label': 'DATE', 'Matches': [{'End': 84, 'Start': 80, 'Text': '1993'}], 'Name': '1993'}, {'Label': 'PERSON', 'Matches': [{'End': 124, 'Start': 110, 'Text': 'Lauren Olamina'}], 'Name': 'Lauren Olamina'}]}}}\n"
     ]
    }
   ],
   "source": [
    "def print_messages(messages):\n",
    "    for m in messages:\n",
    "        print(m.dict())\n",
    "\n",
    "\n",
    "print(zep_chat_history.zep_summary)\n",
    "print(\"\\n\")\n",
    "print_messages(zep_chat_history.zep_messages)"
   ],
   "metadata": {
    "collapsed": false,
    "ExecuteTime": {
     "end_time": "2023-05-26T17:29:40.731794Z",
     "start_time": "2023-05-26T17:29:40.692783Z"
    }
   }
  },
  {
   "cell_type": "code",
   "execution_count": 7,
   "outputs": [
    {
     "name": "stdout",
     "output_type": "stream",
     "text": [
      "{   'content': 'Octavia Butler won the Hugo Award, the Nebula Award, and the '\n",
      "               'MacArthur Fellowship.',\n",
      "    'created_at': '2023-05-26T17:28:26.324468Z',\n",
      "    'metadata': {   'system': {   'entities': [   {   'Label': 'PERSON',\n",
      "                                                      'Matches': [   {   'End': 14,\n",
      "                                                                         'Start': 0,\n",
      "                                                                         'Text': 'Octavia '\n",
      "                                                                                 'Butler'}],\n",
      "                                                      'Name': 'Octavia Butler'},\n",
      "                                                  {   'Label': 'WORK_OF_ART',\n",
      "                                                      'Matches': [   {   'End': 33,\n",
      "                                                                         'Start': 19,\n",
      "                                                                         'Text': 'the '\n",
      "                                                                                 'Hugo '\n",
      "                                                                                 'Award'}],\n",
      "                                                      'Name': 'the Hugo Award'},\n",
      "                                                  {   'Label': 'EVENT',\n",
      "                                                      'Matches': [   {   'End': 81,\n",
      "                                                                         'Start': 57,\n",
      "                                                                         'Text': 'the '\n",
      "                                                                                 'MacArthur '\n",
      "                                                                                 'Fellowship'}],\n",
      "                                                      'Name': 'the MacArthur '\n",
      "                                                              'Fellowship'}]}},\n",
      "    'role': 'ai',\n",
      "    'token_count': 21,\n",
      "    'uuid': '928e4307-3f2d-425e-9ce2-2eece865cf99'}\n"
     ]
    }
   ],
   "source": [
    "pp = pprint.PrettyPrinter(indent=4)\n",
    "\n",
    "pp.pprint(zep_chat_history.zep_messages[1].dict())"
   ],
   "metadata": {
    "collapsed": false,
    "ExecuteTime": {
     "end_time": "2023-05-26T17:29:42.052801Z",
     "start_time": "2023-05-26T17:29:42.031450Z"
    }
   }
  },
  {
   "cell_type": "code",
   "execution_count": 9,
   "outputs": [
    {
     "name": "stdout",
     "output_type": "stream",
     "text": [
      "\n",
      "\n",
      "\u001B[1m> Entering new AgentExecutor chain...\u001B[0m\n",
      "\u001B[32;1m\u001B[1;3mThought: Do I need to use a tool? Yes\n",
      "Action: Search\n",
      "Action Input: Recommend science fiction books similar to Octavia Butler's Parable of the Sower\u001B[0m\n",
      "Observation: \u001B[36;1m\u001B[1;3mPage: Dune (novel)\n",
      "Summary: Dune is a 1965 epic science fiction novel by American author Frank Herbert, originally published as two separate serials in Analog magazine. It tied with Roger Zelazny's This Immortal for the Hugo Award in 1966 and it won the inaugural Nebula Award for Best Novel. It is the first installment of the Dune saga. In 2003, it was described as the world's best-selling science fiction novel.Dune is set in the distant future amidst a feudal interstellar society in which various noble houses control planetary fiefs.  It tells the story of young Paul Atreides, whose family accepts the stewardship of the planet Arrakis. While the planet is an inhospitable and sparsely populated desert wasteland, it is the only source of melange, or \"spice\", a drug that extends life and enhances mental abilities. Melange is also necessary for space navigation, which requires a kind of multidimensional awareness and foresight that only the drug provides. As melange can only be produced on Arrakis, control of the planet is a coveted and dangerous undertaking. The story explores the multilayered interactions of politics, religion, ecology, technology, and human emotion, as the factions of the empire confront each other in a struggle for the control of Arrakis and its spice.\n",
      "Herbert wrote five sequels: Dune Messiah, Children of Dune, God Emperor of Dune, Heretics of Dune, and Chapterhouse: Dune. Following Herbert's death in 1986, his son Brian Herbert and author Kevin J. Anderson continued the series in over a dozen additional novels since 1999.\n",
      "Adaptations of the novel to cinema have been notoriously difficult and complicated. In the 1970s, cult filmmaker Alejandro Jodorowsky attempted to make a film based on the novel. After three years of development, the project was canceled due to a constantly growing budget. In 1984, a film adaptation directed by David Lynch was released to a mostly negative response from critics and failed at the box office. The book was also adapted into the 2000 Sci-Fi Channel miniseries Frank Herbert's Dune and its 2003 sequel Frank Herbert's Children of Dune (which combines the events of Dune Messiah and Children of Dune). A second film adaptation directed by Denis Villeneuve was released on October 21, 2021, to generally positive reviews from critics and grossed $401 million worldwide. It also went on to win six Academy Awards. Villeneuve's film covers roughly the first half of the original novel, and a sequel, which will cover the remaining story, will release in November 2023. \n",
      "The series has been used as the basis for several board, role-playing, and video games.\n",
      "Since 2009, the names of planets from the Dune novels have been adopted for the real-life nomenclature of plains and other features on Saturn's moon Titan.\u001B[0m\n",
      "Thought:\u001B[32;1m\u001B[1;3m Do I need to use a tool? No\n",
      "AI: Based on your request, some recommended science fiction books similar to Octavia Butler's Parable of the Sower include The Left Hand of Darkness by Ursula K. Le Guin, The Dispossessed by Ursula K. Le Guin, The Female Man by Joanna Russ, Dune by Frank Herbert, and The Forever War by Joe Haldeman.\u001B[0m\n",
      "\n",
      "\u001B[1m> Finished chain.\u001B[0m\n"
     ]
    },
    {
     "data": {
      "text/plain": "\"Based on your request, some recommended science fiction books similar to Octavia Butler's Parable of the Sower include The Left Hand of Darkness by Ursula K. Le Guin, The Dispossessed by Ursula K. Le Guin, The Female Man by Joanna Russ, Dune by Frank Herbert, and The Forever War by Joe Haldeman.\""
     },
     "execution_count": 9,
     "metadata": {},
     "output_type": "execute_result"
    }
   ],
   "source": [
    "agent_chain.run(\n",
    "    input=\"Recommend science fiction books I should read that are similar to Octavia Butler's Parable of the Sower. Research online.\"\n",
    ")"
   ],
   "metadata": {
    "collapsed": false,
    "ExecuteTime": {
     "end_time": "2023-05-26T17:31:36.484208Z",
     "start_time": "2023-05-26T17:31:21.929148Z"
    }
   }
  },
  {
   "cell_type": "code",
   "execution_count": 10,
   "outputs": [
    {
     "name": "stdout",
     "output_type": "stream",
     "text": [
      "{   'content': 'Based on your request, some recommended science fiction books '\n",
      "               \"similar to Octavia Butler's Parable of the Sower include The \"\n",
      "               'Left Hand of Darkness by Ursula K. Le Guin, The Dispossessed '\n",
      "               'by Ursula K. Le Guin, The Female Man by Joanna Russ, Dune by '\n",
      "               'Frank Herbert, and The Forever War by Joe Haldeman.',\n",
      "    'created_at': '2023-05-26T17:31:36.433237Z',\n",
      "    'metadata': {   'system': {   'entities': [   {   'Label': 'ORG',\n",
      "                                                      'Matches': [   {   'End': 89,\n",
      "                                                                         'Start': 73,\n",
      "                                                                         'Text': 'Octavia '\n",
      "                                                                                 \"Butler's\"}],\n",
      "                                                      'Name': 'Octavia '\n",
      "                                                              \"Butler's\"},\n",
      "                                                  {   'Label': 'WORK_OF_ART',\n",
      "                                                      'Matches': [   {   'End': 110,\n",
      "                                                                         'Start': 90,\n",
      "                                                                         'Text': 'Parable '\n",
      "                                                                                 'of '\n",
      "                                                                                 'the '\n",
      "                                                                                 'Sower'}],\n",
      "                                                      'Name': 'Parable of the '\n",
      "                                                              'Sower'},\n",
      "                                                  {   'Label': 'FAC',\n",
      "                                                      'Matches': [   {   'End': 144,\n",
      "                                                                         'Start': 119,\n",
      "                                                                         'Text': 'The '\n",
      "                                                                                 'Left '\n",
      "                                                                                 'Hand '\n",
      "                                                                                 'of '\n",
      "                                                                                 'Darkness'}],\n",
      "                                                      'Name': 'The Left Hand '\n",
      "                                                              'of Darkness'},\n",
      "                                                  {   'Label': 'ORG',\n",
      "                                                      'Matches': [   {   'End': 165,\n",
      "                                                                         'Start': 148,\n",
      "                                                                         'Text': 'Ursula '\n",
      "                                                                                 'K. '\n",
      "                                                                                 'Le '\n",
      "                                                                                 'Guin'}],\n",
      "                                                      'Name': 'Ursula K. Le '\n",
      "                                                              'Guin'},\n",
      "                                                  {   'Label': 'PERSON',\n",
      "                                                      'Matches': [   {   'End': 235,\n",
      "                                                                         'Start': 224,\n",
      "                                                                         'Text': 'Joanna '\n",
      "                                                                                 'Russ'}],\n",
      "                                                      'Name': 'Joanna Russ'},\n",
      "                                                  {   'Label': 'PERSON',\n",
      "                                                      'Matches': [   {   'End': 241,\n",
      "                                                                         'Start': 237,\n",
      "                                                                         'Text': 'Dune'}],\n",
      "                                                      'Name': 'Dune'},\n",
      "                                                  {   'Label': 'PERSON',\n",
      "                                                      'Matches': [   {   'End': 258,\n",
      "                                                                         'Start': 245,\n",
      "                                                                         'Text': 'Frank '\n",
      "                                                                                 'Herbert'}],\n",
      "                                                      'Name': 'Frank Herbert'},\n",
      "                                                  {   'Label': 'EVENT',\n",
      "                                                      'Matches': [   {   'End': 279,\n",
      "                                                                         'Start': 264,\n",
      "                                                                         'Text': 'The '\n",
      "                                                                                 'Forever '\n",
      "                                                                                 'War'}],\n",
      "                                                      'Name': 'The Forever '\n",
      "                                                              'War'},\n",
      "                                                  {   'Label': 'PERSON',\n",
      "                                                      'Matches': [   {   'End': 295,\n",
      "                                                                         'Start': 283,\n",
      "                                                                         'Text': 'Joe '\n",
      "                                                                                 'Haldeman'}],\n",
      "                                                      'Name': 'Joe '\n",
      "                                                              'Haldeman'}]}},\n",
      "    'role': 'ai',\n",
      "    'token_count': 75,\n",
      "    'uuid': '9e5c34bb-63fb-472e-847f-dc2ccd3144fb'}\n"
     ]
    }
   ],
   "source": [
    "pp = pprint.PrettyPrinter(indent=4)\n",
    "\n",
    "pp.pprint(zep_chat_history.zep_messages[-1].dict())"
   ],
   "metadata": {
    "collapsed": false,
    "ExecuteTime": {
     "end_time": "2023-05-26T17:31:39.193236Z",
     "start_time": "2023-05-26T17:31:39.184919Z"
    }
   }
  },
  {
   "cell_type": "code",
   "execution_count": 9,
   "outputs": [],
   "source": [],
   "metadata": {
    "collapsed": false,
    "ExecuteTime": {
     "end_time": "2023-05-26T16:51:07.995656Z",
     "start_time": "2023-05-26T16:51:07.908676Z"
    }
   }
  }
 ],
 "metadata": {
  "kernelspec": {
   "display_name": "Python 3",
   "language": "python",
   "name": "python3"
  },
  "language_info": {
   "codemirror_mode": {
    "name": "ipython",
    "version": 2
   },
   "file_extension": ".py",
   "mimetype": "text/x-python",
   "name": "python",
   "nbconvert_exporter": "python",
   "pygments_lexer": "ipython2",
   "version": "2.7.6"
  }
 },
 "nbformat": 4,
 "nbformat_minor": 0
}

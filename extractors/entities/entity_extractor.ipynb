{
 "cells": [
  {
   "cell_type": "code",
   "execution_count": 2,
   "metadata": {
    "collapsed": true,
    "ExecuteTime": {
     "end_time": "2023-05-26T17:48:06.215146Z",
     "start_time": "2023-05-26T17:48:05.099048Z"
    }
   },
   "outputs": [],
   "source": [
    "from langchain.memory.chat_message_histories import ZepChatMessageHistory\n",
    "from langchain.memory import ConversationBufferMemory\n",
    "from langchain import OpenAI\n",
    "from langchain.schema import HumanMessage, AIMessage\n",
    "from langchain.utilities import WikipediaAPIWrapper\n",
    "from langchain.agents import initialize_agent, AgentType, Tool\n",
    "from uuid import uuid4\n",
    "import pprint"
   ]
  },
  {
   "cell_type": "code",
   "execution_count": 3,
   "outputs": [],
   "source": [
    "# Set this to your Zep server URL\n",
    "ZEP_API_URL = \"http://localhost:8000\"\n",
    "\n",
    "session_id = str(uuid4())  # This is a unique identifier for the user"
   ],
   "metadata": {
    "collapsed": false,
    "ExecuteTime": {
     "end_time": "2023-05-26T17:48:07.081863Z",
     "start_time": "2023-05-26T17:48:07.075053Z"
    }
   }
  },
  {
   "cell_type": "code",
   "execution_count": 4,
   "outputs": [
    {
     "data": {
      "text/plain": "True"
     },
     "execution_count": 4,
     "metadata": {},
     "output_type": "execute_result"
    }
   ],
   "source": [
    "# Load your OpenAI key from a .env file\n",
    "from dotenv import load_dotenv\n",
    "\n",
    "load_dotenv()"
   ],
   "metadata": {
    "collapsed": false,
    "ExecuteTime": {
     "end_time": "2023-05-26T17:48:07.325504Z",
     "start_time": "2023-05-26T17:48:07.318336Z"
    }
   }
  },
  {
   "cell_type": "code",
   "execution_count": 5,
   "outputs": [],
   "source": [
    "search = WikipediaAPIWrapper()\n",
    "tools = [\n",
    "    Tool(\n",
    "        name = \"Search\",\n",
    "        func=search.run,\n",
    "        description=\"useful for when you need to search online for answers. You should ask targeted questions\"\n",
    "    ),\n",
    "]\n",
    "\n",
    "# Set up Zep Chat History\n",
    "zep_chat_history = ZepChatMessageHistory(\n",
    "    session_id=session_id,\n",
    "    url=ZEP_API_URL,\n",
    ")\n",
    "\n",
    "# Use a standard ConversationBufferMemory to encapsulate the Zep chat history\n",
    "memory = ConversationBufferMemory(\n",
    "    memory_key=\"chat_history\", chat_memory=zep_chat_history\n",
    ")\n",
    "\n",
    "# Initialize the agent\n",
    "llm = OpenAI(temperature=0)\n",
    "agent_chain = initialize_agent(\n",
    "    tools,\n",
    "    llm,\n",
    "    agent=AgentType.CONVERSATIONAL_REACT_DESCRIPTION,\n",
    "    verbose=True,\n",
    "    memory=memory,\n",
    ")"
   ],
   "metadata": {
    "collapsed": false,
    "ExecuteTime": {
     "end_time": "2023-05-26T17:48:07.702204Z",
     "start_time": "2023-05-26T17:48:07.519180Z"
    }
   }
  },
  {
   "cell_type": "code",
   "execution_count": 6,
   "outputs": [],
   "source": [
    "# Preload some messages into the memory. The default message window is 12 messages. We want to push beyond this to demonstrate auto-summarization.\n",
    "test_history = [\n",
    "    {\"role\": \"human\", \"content\": \"Who was Octavia Butler?\"},\n",
    "    {\n",
    "        \"role\": \"ai\",\n",
    "        \"content\": (\n",
    "            \"Octavia Estelle Butler (June 22, 1947 – February 24, 2006) was an American\"\n",
    "            \" science fiction author.\"\n",
    "        ),\n",
    "    },\n",
    "    {\"role\": \"human\", \"content\": \"Which books of hers were made into movies?\"},\n",
    "    {\n",
    "        \"role\": \"ai\",\n",
    "        \"content\": (\n",
    "            \"The most well-known adaptation of Octavia Butler's work is the FX series\"\n",
    "            \" Kindred, based on her novel of the same name.\"\n",
    "        ),\n",
    "    },\n",
    "    {\"role\": \"human\", \"content\": \"Who were her contemporaries?\"},\n",
    "    {\n",
    "        \"role\": \"ai\",\n",
    "        \"content\": (\n",
    "            \"Octavia Butler's contemporaries included Ursula K. Le Guin, Samuel R.\"\n",
    "            \" Delany, and Joanna Russ.\"\n",
    "        ),\n",
    "    },\n",
    "    {\"role\": \"human\", \"content\": \"What awards did she win?\"},\n",
    "    {\n",
    "        \"role\": \"ai\",\n",
    "        \"content\": (\n",
    "            \"Octavia Butler won the Hugo Award, the Nebula Award, and the MacArthur\"\n",
    "            \" Fellowship.\"\n",
    "        ),\n",
    "    },\n",
    "    {\n",
    "        \"role\": \"human\",\n",
    "        \"content\": \"Which other women sci-fi writers might I want to read?\",\n",
    "    },\n",
    "    {\n",
    "        \"role\": \"ai\",\n",
    "        \"content\": \"You might want to read Ursula K. Le Guin or Joanna Russ.\",\n",
    "    },\n",
    "    {\n",
    "        \"role\": \"human\",\n",
    "        \"content\": (\n",
    "            \"Write a short synopsis of Butler's book, Parable of the Sower. What is it\"\n",
    "            \" about?\"\n",
    "        ),\n",
    "    },\n",
    "    {\n",
    "        \"role\": \"ai\",\n",
    "        \"content\": (\n",
    "            \"Parable of the Sower is a science fiction novel by Octavia Butler,\"\n",
    "            \" published in 1993. It follows the story of Lauren Olamina, a young woman\"\n",
    "            \" living in a dystopian future where society has collapsed due to\"\n",
    "            \" environmental disasters, poverty, and violence.\"\n",
    "        ),\n",
    "    },\n",
    "]\n",
    "\n",
    "for msg in test_history:\n",
    "    zep_chat_history.append(\n",
    "        HumanMessage(content=msg[\"content\"])\n",
    "        if msg[\"role\"] == \"human\"\n",
    "        else AIMessage(content=msg[\"content\"])\n",
    "    )"
   ],
   "metadata": {
    "collapsed": false,
    "ExecuteTime": {
     "end_time": "2023-05-26T17:48:07.929805Z",
     "start_time": "2023-05-26T17:48:07.701922Z"
    }
   }
  },
  {
   "cell_type": "markdown",
   "source": [
    "# Inspect the Zep memory\n",
    "**Note the summary, and that the history has been enriched with entities, token counts, UUIDs, and timestamps.**\n",
    "\n",
    "Summaries are biased towards the most recent messages."
   ],
   "metadata": {
    "collapsed": false
   }
  },
  {
   "cell_type": "code",
   "execution_count": 7,
   "outputs": [
    {
     "name": "stdout",
     "output_type": "stream",
     "text": [
      "None\n",
      "\n",
      "\n",
      "{'role': 'human', 'content': 'Who was Octavia Butler?', 'uuid': '8da13e94-ff3b-4478-a8b4-5eef337e7505', 'created_at': '2023-05-26T17:48:07.773489Z', 'token_count': 0, 'metadata': None}\n",
      "{'role': 'ai', 'content': 'Octavia Estelle Butler (June 22, 1947 – February 24, 2006) was an American science fiction author.', 'uuid': 'e08d507c-3c91-4996-af8c-89fb6f6b5703', 'created_at': '2023-05-26T17:48:07.835229Z', 'token_count': 0, 'metadata': None}\n",
      "{'role': 'human', 'content': 'Which books of hers were made into movies?', 'uuid': '34dcf07c-c6a8-43fc-81e5-e4ca2e077586', 'created_at': '2023-05-26T17:48:07.847338Z', 'token_count': 0, 'metadata': None}\n",
      "{'role': 'ai', 'content': \"The most well-known adaptation of Octavia Butler's work is the FX series Kindred, based on her novel of the same name.\", 'uuid': 'fe733c07-75cf-481d-a7a6-33e0985ed4f0', 'created_at': '2023-05-26T17:48:07.861084Z', 'token_count': 0, 'metadata': None}\n",
      "{'role': 'human', 'content': 'Who were her contemporaries?', 'uuid': '6cf83818-1666-4147-a43a-94e80a9f4bc8', 'created_at': '2023-05-26T17:48:07.864953Z', 'token_count': 0, 'metadata': None}\n",
      "{'role': 'ai', 'content': \"Octavia Butler's contemporaries included Ursula K. Le Guin, Samuel R. Delany, and Joanna Russ.\", 'uuid': 'f11ce52d-dc66-493e-93bf-805c71e836c0', 'created_at': '2023-05-26T17:48:07.871423Z', 'token_count': 0, 'metadata': None}\n",
      "{'role': 'human', 'content': 'What awards did she win?', 'uuid': '176f0299-119c-444e-9dc5-ed4ba6096703', 'created_at': '2023-05-26T17:48:07.878707Z', 'token_count': 0, 'metadata': None}\n",
      "{'role': 'ai', 'content': 'Octavia Butler won the Hugo Award, the Nebula Award, and the MacArthur Fellowship.', 'uuid': 'e16c40b5-5e23-4320-aae9-c36659d5ad1d', 'created_at': '2023-05-26T17:48:07.885859Z', 'token_count': 0, 'metadata': None}\n",
      "{'role': 'human', 'content': 'Which other women sci-fi writers might I want to read?', 'uuid': 'b86bfc56-0913-4f04-b8d1-dddd749e3abe', 'created_at': '2023-05-26T17:48:07.893974Z', 'token_count': 0, 'metadata': None}\n",
      "{'role': 'ai', 'content': 'You might want to read Ursula K. Le Guin or Joanna Russ.', 'uuid': '278a5b77-13f2-425f-8e3b-9b97a712904b', 'created_at': '2023-05-26T17:48:07.902653Z', 'token_count': 0, 'metadata': None}\n",
      "{'role': 'human', 'content': \"Write a short synopsis of Butler's book, Parable of the Sower. What is it about?\", 'uuid': 'b9164ab9-77ba-486e-a692-929af303ae03', 'created_at': '2023-05-26T17:48:07.909578Z', 'token_count': 0, 'metadata': None}\n",
      "{'role': 'ai', 'content': 'Parable of the Sower is a science fiction novel by Octavia Butler, published in 1993. It follows the story of Lauren Olamina, a young woman living in a dystopian future where society has collapsed due to environmental disasters, poverty, and violence.', 'uuid': 'dadd077b-be19-4de6-99bc-19aae81780b8', 'created_at': '2023-05-26T17:48:07.920256Z', 'token_count': 0, 'metadata': None}\n"
     ]
    }
   ],
   "source": [
    "def print_messages(messages):\n",
    "    for m in messages:\n",
    "        print(m.dict())\n",
    "\n",
    "\n",
    "print(zep_chat_history.zep_summary)\n",
    "print(\"\\n\")\n",
    "print_messages(zep_chat_history.zep_messages)"
   ],
   "metadata": {
    "collapsed": false,
    "ExecuteTime": {
     "end_time": "2023-05-26T17:48:08.178050Z",
     "start_time": "2023-05-26T17:48:08.140758Z"
    }
   }
  },
  {
   "cell_type": "code",
   "execution_count": 8,
   "outputs": [
    {
     "name": "stdout",
     "output_type": "stream",
     "text": [
      "{   'content': 'Octavia Estelle Butler (June 22, 1947 – February 24, 2006) was '\n",
      "               'an American science fiction author.',\n",
      "    'created_at': '2023-05-26T17:48:07.835229Z',\n",
      "    'metadata': {   'system': {   'entities': [   {   'Label': 'PERSON',\n",
      "                                                      'Matches': [   {   'End': 22,\n",
      "                                                                         'Start': 0,\n",
      "                                                                         'Text': 'Octavia '\n",
      "                                                                                 'Estelle '\n",
      "                                                                                 'Butler'}],\n",
      "                                                      'Name': 'Octavia Estelle '\n",
      "                                                              'Butler'},\n",
      "                                                  {   'Label': 'DATE',\n",
      "                                                      'Matches': [   {   'End': 37,\n",
      "                                                                         'Start': 24,\n",
      "                                                                         'Text': 'June '\n",
      "                                                                                 '22, '\n",
      "                                                                                 '1947'}],\n",
      "                                                      'Name': 'June 22, 1947'},\n",
      "                                                  {   'Label': 'DATE',\n",
      "                                                      'Matches': [   {   'End': 57,\n",
      "                                                                         'Start': 40,\n",
      "                                                                         'Text': 'February '\n",
      "                                                                                 '24, '\n",
      "                                                                                 '2006'}],\n",
      "                                                      'Name': 'February 24, '\n",
      "                                                              '2006'},\n",
      "                                                  {   'Label': 'NORP',\n",
      "                                                      'Matches': [   {   'End': 74,\n",
      "                                                                         'Start': 66,\n",
      "                                                                         'Text': 'American'}],\n",
      "                                                      'Name': 'American'}]}},\n",
      "    'role': 'ai',\n",
      "    'token_count': 31,\n",
      "    'uuid': 'e08d507c-3c91-4996-af8c-89fb6f6b5703'}\n"
     ]
    }
   ],
   "source": [
    "pp = pprint.PrettyPrinter(indent=4)\n",
    "\n",
    "pp.pprint(zep_chat_history.zep_messages[1].dict())"
   ],
   "metadata": {
    "collapsed": false,
    "ExecuteTime": {
     "end_time": "2023-05-26T17:48:09.797938Z",
     "start_time": "2023-05-26T17:48:09.773348Z"
    }
   }
  },
  {
   "cell_type": "code",
   "execution_count": 9,
   "outputs": [
    {
     "name": "stdout",
     "output_type": "stream",
     "text": [
      "\n",
      "\n",
      "\u001B[1m> Entering new AgentExecutor chain...\u001B[0m\n",
      "\u001B[32;1m\u001B[1;3mThought: Do I need to use a tool? Yes\n",
      "Action: Search\n",
      "Action Input: Science fiction books similar to Octavia Butler's Parable of the Sower\u001B[0m\n",
      "Observation: \u001B[36;1m\u001B[1;3mPage: Octavia E. Butler\n",
      "Summary: Octavia Estelle Butler (June 22, 1947 – February 24, 2006) was an American science fiction author and a multiple recipient of the Hugo and Nebula awards. In 1995, Butler became the first science-fiction writer to receive a MacArthur Fellowship.Born in Pasadena, California, Butler was raised by her widowed mother. Extremely shy as a child, Butler found an outlet at the library reading fantasy, and in writing. She began writing science fiction as a teenager. She attended community college during the Black Power movement. While  participating in a local writer's workshop, she was encouraged to attend the Clarion Workshop, then held in Pennsylvania, which focused on science fiction.She soon sold her first stories and by the late 1970s had become sufficiently successful as an author to be able to write full-time. Her books and short stories drew the favorable attention of the public, and awards soon followed. She also taught writer's workshops, and eventually relocated to Washington. Butler died of a stroke at the age of 58. Her papers are held in the research collection of the Huntington Library in Southern California.\n",
      "\n",
      "Page: Survivor (Octavia Butler novel)\n",
      "Summary: Survivor is a science fiction novel by American writer Octavia E. Butler.  First published in 1978 as part of Butler's \"Patternist series\", Survivor is the only one of Butler's early novels not to be reprinted after its initial editions.  Butler expressed dislike for the work, referring to it as \"my Star Trek novel.\"\n",
      "\n",
      "Page: Parable of the talents or minas\n",
      "Summary: The Parable of the Talents (also the Parable of the Minas) is one of the parables of Jesus. It appears in two of the synoptic, canonical gospels of the New Testament:\n",
      "\n",
      "Matthew 25:14–30\n",
      "Luke 19:11–27Although the basic theme of each of these parables is essentially the same, the differences between the parables in the Gospel of Matthew and in the Gospel of Luke are sufficient to indicate that the parables are not derived from the same source. In Matthew, the opening words link the parable to the preceding Parable of the Ten Virgins, which refers to the Kingdom of Heaven. The version in Luke is also called the Parable of the Pounds.\n",
      "In both Matthew and Luke, a master puts his servants in charge of his goods while he is away on a trip. Upon his return, the master assesses the stewardship of his servants. He evaluates them according to how faithful each was in making wise investments of his goods to obtain a profit. It is clear that the master sought some profit from the servants' oversight. A gain indicated faithfulness on the part of the servants. The master rewards his servants according to how each has handled his stewardship. He judges two servants as having been \"faithful\" and gives them a positive reward. To the single \"unfaithful\" servant, who avoided even the safe profit of bank interest, a negative compensation is given.\n",
      "A thematically variant parable appears in the non-canonical Gospel of the Hebrews, wherein the servant who hid his money from his cruel master is rebuked, but presented as more righteous than the wealthiest servant, who squandered his money and was cast into darkness.\u001B[0m\n",
      "Thought:\u001B[32;1m\u001B[1;3m Do I need to use a tool? No\n",
      "AI: Based on Octavia Butler's Parable of the Sower, some other science fiction books you might want to read include Ursula K. Le Guin's The Left Hand of Darkness, Joanna Russ's The Female Man, and Samuel R. Delany's Dhalgren.\u001B[0m\n",
      "\n",
      "\u001B[1m> Finished chain.\u001B[0m\n"
     ]
    },
    {
     "data": {
      "text/plain": "\"Based on Octavia Butler's Parable of the Sower, some other science fiction books you might want to read include Ursula K. Le Guin's The Left Hand of Darkness, Joanna Russ's The Female Man, and Samuel R. Delany's Dhalgren.\""
     },
     "execution_count": 9,
     "metadata": {},
     "output_type": "execute_result"
    }
   ],
   "source": [
    "agent_chain.run(\n",
    "    input=\"Recommend science fiction books I should read that are similar to Octavia Butler's Parable of the Sower. Research online.\"\n",
    ")"
   ],
   "metadata": {
    "collapsed": false,
    "ExecuteTime": {
     "end_time": "2023-05-26T17:48:22.259775Z",
     "start_time": "2023-05-26T17:48:10.302245Z"
    }
   }
  },
  {
   "cell_type": "code",
   "execution_count": 11,
   "outputs": [
    {
     "name": "stdout",
     "output_type": "stream",
     "text": [
      "{   'content': \"Based on Octavia Butler's Parable of the Sower, some other \"\n",
      "               'science fiction books you might want to read include Ursula K. '\n",
      "               \"Le Guin's The Left Hand of Darkness, Joanna Russ's The Female \"\n",
      "               \"Man, and Samuel R. Delany's Dhalgren.\",\n",
      "    'created_at': '2023-05-26T17:48:22.242866Z',\n",
      "    'metadata': {   'system': {   'entities': [   {   'Label': 'PERSON',\n",
      "                                                      'Matches': [   {   'End': 25,\n",
      "                                                                         'Start': 9,\n",
      "                                                                         'Text': 'Octavia '\n",
      "                                                                                 \"Butler's\"}],\n",
      "                                                      'Name': 'Octavia '\n",
      "                                                              \"Butler's\"},\n",
      "                                                  {   'Label': 'WORK_OF_ART',\n",
      "                                                      'Matches': [   {   'End': 46,\n",
      "                                                                         'Start': 26,\n",
      "                                                                         'Text': 'Parable '\n",
      "                                                                                 'of '\n",
      "                                                                                 'the '\n",
      "                                                                                 'Sower'}],\n",
      "                                                      'Name': 'Parable of the '\n",
      "                                                              'Sower'},\n",
      "                                                  {   'Label': 'ORG',\n",
      "                                                      'Matches': [   {   'End': 131,\n",
      "                                                                         'Start': 112,\n",
      "                                                                         'Text': 'Ursula '\n",
      "                                                                                 'K. '\n",
      "                                                                                 'Le '\n",
      "                                                                                 \"Guin's\"}],\n",
      "                                                      'Name': 'Ursula K. Le '\n",
      "                                                              \"Guin's\"},\n",
      "                                                  {   'Label': 'FAC',\n",
      "                                                      'Matches': [   {   'End': 157,\n",
      "                                                                         'Start': 132,\n",
      "                                                                         'Text': 'The '\n",
      "                                                                                 'Left '\n",
      "                                                                                 'Hand '\n",
      "                                                                                 'of '\n",
      "                                                                                 'Darkness'}],\n",
      "                                                      'Name': 'The Left Hand '\n",
      "                                                              'of Darkness'},\n",
      "                                                  {   'Label': 'PERSON',\n",
      "                                                      'Matches': [   {   'End': 172,\n",
      "                                                                         'Start': 159,\n",
      "                                                                         'Text': 'Joanna '\n",
      "                                                                                 \"Russ's\"}],\n",
      "                                                      'Name': \"Joanna Russ's\"},\n",
      "                                                  {   'Label': 'PERSON',\n",
      "                                                      'Matches': [   {   'End': 211,\n",
      "                                                                         'Start': 193,\n",
      "                                                                         'Text': 'Samuel '\n",
      "                                                                                 'R. '\n",
      "                                                                                 \"Delany's\"}],\n",
      "                                                      'Name': 'Samuel R. '\n",
      "                                                              \"Delany's\"},\n",
      "                                                  {   'Label': 'PERSON',\n",
      "                                                      'Matches': [   {   'End': 220,\n",
      "                                                                         'Start': 212,\n",
      "                                                                         'Text': 'Dhalgren'}],\n",
      "                                                      'Name': 'Dhalgren'}]}},\n",
      "    'role': 'ai',\n",
      "    'token_count': 58,\n",
      "    'uuid': '5cf8c8c6-2e5e-4ba5-8a24-eaaab52d4a20'}\n"
     ]
    }
   ],
   "source": [
    "pp = pprint.PrettyPrinter(indent=4)\n",
    "\n",
    "pp.pprint(zep_chat_history.zep_messages[-1].dict())"
   ],
   "metadata": {
    "collapsed": false,
    "ExecuteTime": {
     "end_time": "2023-05-26T17:48:24.599910Z",
     "start_time": "2023-05-26T17:48:24.585514Z"
    }
   }
  },
  {
   "cell_type": "code",
   "execution_count": 9,
   "outputs": [],
   "source": [],
   "metadata": {
    "collapsed": false,
    "ExecuteTime": {
     "end_time": "2023-05-26T16:51:07.995656Z",
     "start_time": "2023-05-26T16:51:07.908676Z"
    }
   }
  }
 ],
 "metadata": {
  "kernelspec": {
   "display_name": "Python 3",
   "language": "python",
   "name": "python3"
  },
  "language_info": {
   "codemirror_mode": {
    "name": "ipython",
    "version": 2
   },
   "file_extension": ".py",
   "mimetype": "text/x-python",
   "name": "python",
   "nbconvert_exporter": "python",
   "pygments_lexer": "ipython2",
   "version": "2.7.6"
  }
 },
 "nbformat": 4,
 "nbformat_minor": 0
}

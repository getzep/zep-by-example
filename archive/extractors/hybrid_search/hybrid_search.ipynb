{
 "cells": [
  {
   "cell_type": "code",
   "execution_count": 1,
   "metadata": {
    "collapsed": true,
    "ExecuteTime": {
     "end_time": "2023-06-03T22:00:05.716237Z",
     "start_time": "2023-06-03T22:00:04.595977Z"
    }
   },
   "outputs": [],
   "source": [
    "from langchain.memory.chat_message_histories import ZepChatMessageHistory\n",
    "from langchain.retrievers import ZepRetriever\n",
    "from langchain.memory import ConversationBufferMemory\n",
    "from langchain import OpenAI\n",
    "from langchain.schema import HumanMessage, AIMessage\n",
    "from langchain.utilities import WikipediaAPIWrapper\n",
    "from langchain.agents import initialize_agent, AgentType, Tool\n",
    "from zep_python import Memory, Message, MemorySearchPayload\n",
    "from uuid import uuid4\n",
    "import pprint"
   ]
  },
  {
   "cell_type": "code",
   "execution_count": 2,
   "outputs": [],
   "source": [
    "# Set this to your Zep server URL\n",
    "ZEP_API_URL = \"http://localhost:8000\"\n",
    "\n",
    "session_id = str(uuid4())  # This is a unique identifier for the user"
   ],
   "metadata": {
    "collapsed": false,
    "ExecuteTime": {
     "end_time": "2023-06-03T22:00:05.718710Z",
     "start_time": "2023-06-03T22:00:05.717156Z"
    }
   }
  },
  {
   "cell_type": "code",
   "execution_count": 3,
   "outputs": [
    {
     "data": {
      "text/plain": "True"
     },
     "execution_count": 3,
     "metadata": {},
     "output_type": "execute_result"
    }
   ],
   "source": [
    "# Load your OpenAI key from a .env file\n",
    "from dotenv import load_dotenv\n",
    "\n",
    "load_dotenv()"
   ],
   "metadata": {
    "collapsed": false,
    "ExecuteTime": {
     "end_time": "2023-06-03T22:00:05.726726Z",
     "start_time": "2023-06-03T22:00:05.723184Z"
    }
   }
  },
  {
   "cell_type": "code",
   "execution_count": 4,
   "outputs": [],
   "source": [
    "search = WikipediaAPIWrapper()\n",
    "tools = [\n",
    "    Tool(\n",
    "        name=\"Search\",\n",
    "        func=search.run,\n",
    "        description=\"useful for when you need to search online for answers. You should ask targeted questions\",\n",
    "    ),\n",
    "]\n",
    "\n",
    "# Set up Zep Chat History\n",
    "zep_chat_history = ZepChatMessageHistory(\n",
    "    session_id=session_id,\n",
    "    url=ZEP_API_URL,\n",
    ")\n",
    "\n",
    "# Use a standard ConversationBufferMemory to encapsulate the Zep chat history\n",
    "memory = ConversationBufferMemory(\n",
    "    memory_key=\"chat_history\", chat_memory=zep_chat_history\n",
    ")\n",
    "\n",
    "# Initialize the agent\n",
    "llm = OpenAI(temperature=0)\n",
    "agent_chain = initialize_agent(\n",
    "    tools,\n",
    "    llm,\n",
    "    agent=AgentType.CONVERSATIONAL_REACT_DESCRIPTION,\n",
    "    verbose=True,\n",
    "    memory=memory,\n",
    ")"
   ],
   "metadata": {
    "collapsed": false,
    "ExecuteTime": {
     "end_time": "2023-06-03T22:00:05.842910Z",
     "start_time": "2023-06-03T22:00:05.727339Z"
    }
   }
  },
  {
   "cell_type": "code",
   "execution_count": 5,
   "outputs": [],
   "source": [
    "# Preload some messages into the memory. The default message window is 12 messages. We want to push beyond this to demonstrate auto-summarization.\n",
    "test_history = [\n",
    "    {\"role\": \"human\", \"content\": \"Who was Octavia Butler?\"},\n",
    "    {\n",
    "        \"role\": \"ai\",\n",
    "        \"content\": (\n",
    "            \"Octavia Estelle Butler (June 22, 1947 – February 24, 2006) was an American\"\n",
    "            \" science fiction author.\"\n",
    "        ),\n",
    "    },\n",
    "    {\"role\": \"human\", \"content\": \"Which books of hers were made into movies?\"},\n",
    "    {\n",
    "        \"role\": \"ai\",\n",
    "        \"content\": (\n",
    "            \"The most well-known adaptation of Octavia Butler's work is the FX series\"\n",
    "            \" Kindred, based on her novel of the same name.\"\n",
    "        ),\n",
    "    },\n",
    "    {\"role\": \"human\", \"content\": \"Who were her contemporaries?\"},\n",
    "    {\n",
    "        \"role\": \"ai\",\n",
    "        \"content\": (\n",
    "            \"Octavia Butler's contemporaries included Ursula K. Le Guin, Samuel R.\"\n",
    "            \" Delany, and Joanna Russ.\"\n",
    "        ),\n",
    "    },\n",
    "    {\"role\": \"human\", \"content\": \"What awards did she win?\"},\n",
    "    {\n",
    "        \"role\": \"ai\",\n",
    "        \"content\": (\n",
    "            \"Octavia Butler won the Hugo Award, the Nebula Award, and the MacArthur\"\n",
    "            \" Fellowship.\"\n",
    "        ),\n",
    "    },\n",
    "    {\n",
    "        \"role\": \"human\",\n",
    "        \"content\": \"Which other women sci-fi writers might I want to read?\",\n",
    "    },\n",
    "    {\n",
    "        \"role\": \"ai\",\n",
    "        \"content\": \"You might want to read Ursula K. Le Guin or Joanna Russ.\",\n",
    "    },\n",
    "    {\n",
    "        \"role\": \"human\",\n",
    "        \"content\": (\n",
    "            \"Write a short synopsis of Butler's book, Parable of the Sower. What is it\"\n",
    "            \" about?\"\n",
    "        ),\n",
    "    },\n",
    "    {\n",
    "        \"role\": \"ai\",\n",
    "        \"content\": (\n",
    "            \"Parable of the Sower is a science fiction novel by Octavia Butler,\"\n",
    "            \" published in 1993. It follows the story of Lauren Olamina, a young woman\"\n",
    "            \" living in a dystopian future where society has collapsed due to\"\n",
    "            \" environmental disasters, poverty, and violence.\"\n",
    "        ),\n",
    "    },\n",
    "]\n",
    "\n",
    "for msg in test_history:\n",
    "    zep_chat_history.add_message(\n",
    "        HumanMessage(content=msg[\"content\"])\n",
    "        if msg[\"role\"] == \"human\"\n",
    "        else AIMessage(content=msg[\"content\"])\n",
    "    )"
   ],
   "metadata": {
    "collapsed": false,
    "ExecuteTime": {
     "end_time": "2023-06-03T22:00:06.009912Z",
     "start_time": "2023-06-03T22:00:05.845969Z"
    }
   }
  },
  {
   "cell_type": "markdown",
   "source": [
    "# Inspect the Zep memory\n",
    "**Note the summary, and that the history has been enriched with entities, token counts, UUIDs, and timestamps.**\n",
    "\n",
    "Summaries are biased towards the most recent messages."
   ],
   "metadata": {
    "collapsed": false
   }
  },
  {
   "cell_type": "code",
   "execution_count": 6,
   "outputs": [
    {
     "name": "stdout",
     "output_type": "stream",
     "text": [
      "The human asks about Octavia Butler and the AI explains she was a science fiction author who passed away in 2006. The human then inquires which of her books were adapted into movies, and the AI mentions the FX series Kindred. Finally, the human asks about Butler's contemporaries and the AI names Ursula K. Le Guin, Samuel R. Delany, and Joanna Russ.\n",
      "\n",
      "\n",
      "{'role': 'human', 'content': 'What awards did she win?', 'uuid': '7738fecd-169e-41bf-ab97-d175f5e329d7', 'created_at': '2023-06-03T22:00:05.961342Z', 'token_count': 8, 'metadata': {'system': {'entities': []}}}\n",
      "{'role': 'ai', 'content': 'Octavia Butler won the Hugo Award, the Nebula Award, and the MacArthur Fellowship.', 'uuid': 'd3ce9900-0b70-4fea-b269-0cec1de55212', 'created_at': '2023-06-03T22:00:05.97513Z', 'token_count': 21, 'metadata': {'system': {'entities': [{'Label': 'PERSON', 'Matches': [{'End': 14, 'Start': 0, 'Text': 'Octavia Butler'}], 'Name': 'Octavia Butler'}, {'Label': 'WORK_OF_ART', 'Matches': [{'End': 33, 'Start': 19, 'Text': 'the Hugo Award'}], 'Name': 'the Hugo Award'}, {'Label': 'EVENT', 'Matches': [{'End': 81, 'Start': 57, 'Text': 'the MacArthur Fellowship'}], 'Name': 'the MacArthur Fellowship'}]}}}\n",
      "{'role': 'human', 'content': 'Which other women sci-fi writers might I want to read?', 'uuid': '95718514-c9c0-4ae8-87ad-f135a1a7cf5e', 'created_at': '2023-06-03T22:00:05.983396Z', 'token_count': 14, 'metadata': {'system': {'entities': []}}}\n",
      "{'role': 'ai', 'content': 'You might want to read Ursula K. Le Guin or Joanna Russ.', 'uuid': '918f6224-e45c-45bb-8858-72a5a98bc4ce', 'created_at': '2023-06-03T22:00:05.989871Z', 'token_count': 18, 'metadata': {'system': {'entities': [{'Label': 'ORG', 'Matches': [{'End': 40, 'Start': 23, 'Text': 'Ursula K. Le Guin'}], 'Name': 'Ursula K. Le Guin'}, {'Label': 'PERSON', 'Matches': [{'End': 55, 'Start': 44, 'Text': 'Joanna Russ'}], 'Name': 'Joanna Russ'}]}}}\n",
      "{'role': 'human', 'content': \"Write a short synopsis of Butler's book, Parable of the Sower. What is it about?\", 'uuid': '32d6ecfc-3afe-448a-a50b-0a366f501c9f', 'created_at': '2023-06-03T22:00:05.996972Z', 'token_count': 23, 'metadata': {'system': {'entities': [{'Label': 'ORG', 'Matches': [{'End': 32, 'Start': 26, 'Text': 'Butler'}], 'Name': 'Butler'}, {'Label': 'WORK_OF_ART', 'Matches': [{'End': 61, 'Start': 41, 'Text': 'Parable of the Sower'}], 'Name': 'Parable of the Sower'}]}}}\n",
      "{'role': 'ai', 'content': 'Parable of the Sower is a science fiction novel by Octavia Butler, published in 1993. It follows the story of Lauren Olamina, a young woman living in a dystopian future where society has collapsed due to environmental disasters, poverty, and violence.', 'uuid': '74757df1-1062-40ae-9ed4-66fa1cb2fdd2', 'created_at': '2023-06-03T22:00:06.004567Z', 'token_count': 56, 'metadata': {'system': {'entities': [{'Label': 'GPE', 'Matches': [{'End': 20, 'Start': 15, 'Text': 'Sower'}], 'Name': 'Sower'}, {'Label': 'PERSON', 'Matches': [{'End': 65, 'Start': 51, 'Text': 'Octavia Butler'}], 'Name': 'Octavia Butler'}, {'Label': 'DATE', 'Matches': [{'End': 84, 'Start': 80, 'Text': '1993'}], 'Name': '1993'}, {'Label': 'PERSON', 'Matches': [{'End': 124, 'Start': 110, 'Text': 'Lauren Olamina'}], 'Name': 'Lauren Olamina'}]}}}\n"
     ]
    }
   ],
   "source": [
    "def print_messages(messages):\n",
    "    for m in messages:\n",
    "        print(m.dict())\n",
    "\n",
    "\n",
    "print(zep_chat_history.zep_summary)\n",
    "print(\"\\n\")\n",
    "print_messages(zep_chat_history.zep_messages)"
   ],
   "metadata": {
    "collapsed": false,
    "ExecuteTime": {
     "end_time": "2023-06-03T22:00:13.917469Z",
     "start_time": "2023-06-03T22:00:13.884974Z"
    }
   }
  },
  {
   "cell_type": "code",
   "execution_count": 7,
   "outputs": [
    {
     "name": "stdout",
     "output_type": "stream",
     "text": [
      "{   'content': 'Octavia Butler won the Hugo Award, the Nebula Award, and the '\n",
      "               'MacArthur Fellowship.',\n",
      "    'created_at': '2023-06-03T22:00:05.97513Z',\n",
      "    'metadata': {   'system': {   'entities': [   {   'Label': 'PERSON',\n",
      "                                                      'Matches': [   {   'End': 14,\n",
      "                                                                         'Start': 0,\n",
      "                                                                         'Text': 'Octavia '\n",
      "                                                                                 'Butler'}],\n",
      "                                                      'Name': 'Octavia Butler'},\n",
      "                                                  {   'Label': 'WORK_OF_ART',\n",
      "                                                      'Matches': [   {   'End': 33,\n",
      "                                                                         'Start': 19,\n",
      "                                                                         'Text': 'the '\n",
      "                                                                                 'Hugo '\n",
      "                                                                                 'Award'}],\n",
      "                                                      'Name': 'the Hugo Award'},\n",
      "                                                  {   'Label': 'EVENT',\n",
      "                                                      'Matches': [   {   'End': 81,\n",
      "                                                                         'Start': 57,\n",
      "                                                                         'Text': 'the '\n",
      "                                                                                 'MacArthur '\n",
      "                                                                                 'Fellowship'}],\n",
      "                                                      'Name': 'the MacArthur '\n",
      "                                                              'Fellowship'}]}},\n",
      "    'role': 'ai',\n",
      "    'token_count': 21,\n",
      "    'uuid': 'd3ce9900-0b70-4fea-b269-0cec1de55212'}\n"
     ]
    }
   ],
   "source": [
    "pp = pprint.PrettyPrinter(indent=4)\n",
    "\n",
    "pp.pprint(zep_chat_history.zep_messages[1].dict())"
   ],
   "metadata": {
    "collapsed": false,
    "ExecuteTime": {
     "end_time": "2023-06-03T22:00:15.476790Z",
     "start_time": "2023-06-03T22:00:15.458143Z"
    }
   }
  },
  {
   "cell_type": "markdown",
   "source": [
    "# Use Langchain Retriever to get relevant documents\n",
    "### Specifying a hybrid query that uses both a semantic text query and matches on metadata\n",
    "\n",
    "Typically a retriever is used in a chain. The chain would need to be customized to take advantage of hybrid search."
   ],
   "metadata": {
    "collapsed": false
   }
  },
  {
   "cell_type": "code",
   "execution_count": 8,
   "outputs": [
    {
     "data": {
      "text/plain": "[Document(page_content='Octavia Butler won the Hugo Award, the Nebula Award, and the MacArthur Fellowship.', metadata={'score': 0.8514928881473501, 'uuid': 'd3ce9900-0b70-4fea-b269-0cec1de55212', 'created_at': '2023-06-03T22:00:05.97513Z', 'role': 'ai', 'metadata': {'system': {'entities': [{'Label': 'PERSON', 'Matches': [{'End': 14, 'Start': 0, 'Text': 'Octavia Butler'}], 'Name': 'Octavia Butler'}, {'Label': 'WORK_OF_ART', 'Matches': [{'End': 33, 'Start': 19, 'Text': 'the Hugo Award'}], 'Name': 'the Hugo Award'}, {'Label': 'EVENT', 'Matches': [{'End': 81, 'Start': 57, 'Text': 'the MacArthur Fellowship'}], 'Name': 'the MacArthur Fellowship'}]}}, 'token_count': 21}),\n Document(page_content=\"Write a short synopsis of Butler's book, Parable of the Sower. What is it about?\", metadata={'score': 0.7407543628943766, 'uuid': '32d6ecfc-3afe-448a-a50b-0a366f501c9f', 'created_at': '2023-06-03T22:00:05.996972Z', 'role': 'human', 'metadata': {'system': {'entities': [{'Label': 'ORG', 'Matches': [{'End': 32, 'Start': 26, 'Text': 'Butler'}], 'Name': 'Butler'}, {'Label': 'WORK_OF_ART', 'Matches': [{'End': 61, 'Start': 41, 'Text': 'Parable of the Sower'}], 'Name': 'Parable of the Sower'}]}}, 'token_count': 23})]"
     },
     "execution_count": 8,
     "metadata": {},
     "output_type": "execute_result"
    }
   ],
   "source": [
    "retriever = ZepRetriever(url=ZEP_API_URL, session_id=session_id, top_k=5)\n",
    "\n",
    "retriever.get_relevant_documents(\n",
    "    \"Hugo Award\",\n",
    "    metadata={\n",
    "        \"where\": {\"jsonpath\": '$.system.entities[*] ? (@.Label == \"WORK_OF_ART\")'}\n",
    "    },\n",
    ")"
   ],
   "metadata": {
    "collapsed": false,
    "ExecuteTime": {
     "end_time": "2023-06-03T22:00:19.281381Z",
     "start_time": "2023-06-03T22:00:19.037377Z"
    }
   }
  },
  {
   "cell_type": "markdown",
   "source": [
    "# Run the agent"
   ],
   "metadata": {
    "collapsed": false
   }
  },
  {
   "cell_type": "code",
   "execution_count": 9,
   "outputs": [
    {
     "name": "stdout",
     "output_type": "stream",
     "text": [
      "\n",
      "\n",
      "\u001B[1m> Entering new AgentExecutor chain...\u001B[0m\n",
      "\u001B[32;1m\u001B[1;3m\n",
      "Thought: Do I need to use a tool? Yes\n",
      "Action: Search\n",
      "Action Input: Science fiction books similar to Octavia Butler's Parable of the Sower\u001B[0m\n",
      "Observation: \u001B[36;1m\u001B[1;3mPage: Octavia E. Butler\n",
      "Summary: Octavia Estelle Butler (June 22, 1947 – February 24, 2006) was an American science fiction author and a multiple recipient of the Hugo and Nebula awards. In 1995, Butler became the first science-fiction writer to receive a MacArthur Fellowship.Born in Pasadena, California, Butler was raised by her widowed mother. Extremely shy as a child, Butler found an outlet at the library reading fantasy, and in writing. She began writing science fiction as a teenager. She attended community college during the Black Power movement. While  participating in a local writer's workshop, she was encouraged to attend the Clarion Workshop, then held in Pennsylvania, which focused on science fiction.She soon sold her first stories and by the late 1970s had become sufficiently successful as an author to be able to write full-time. Her books and short stories drew the favorable attention of the public, and awards soon followed. She also taught writer's workshops, and eventually relocated to Washington. Butler died of a stroke at the age of 58. Her papers are held in the research collection of the Huntington Library in Southern California.\n",
      "\n",
      "Page: Survivor (Octavia Butler novel)\n",
      "Summary: Survivor is a science fiction novel by American writer Octavia E. Butler.  First published in 1978 as part of Butler's \"Patternist series\", Survivor is the only one of Butler's early novels not to be reprinted after its initial editions.  Butler expressed dislike for the work, referring to it as \"my Star Trek novel.\"\n",
      "\n",
      "Page: Parable of the talents or minas\n",
      "Summary: The Parable of the Talents (also the Parable of the Minas) is one of the parables of Jesus. It appears in two of the synoptic, canonical gospels of the New Testament:\n",
      "\n",
      "Matthew 25:14–30\n",
      "Luke 19:11–27Although the basic theme of each of these parables is essentially the same, the differences between the parables in the Gospel of Matthew and in the Gospel of Luke are sufficient to indicate that the parables are not derived from the same source. In Matthew, the opening words link the parable to the preceding Parable of the Ten Virgins, which refers to the Kingdom of Heaven. The version in Luke is also called the Parable of the Pounds.\n",
      "In both Matthew and Luke, a master puts his servants in charge of his goods while he is away on a trip. Upon his return, the master assesses the stewardship of his servants. He evaluates them according to how faithful each was in making wise investments of his goods to obtain a profit. It is clear that the master sought some profit from the servants' oversight. A gain indicated faithfulness on the part of the servants. The master rewards his servants according to how each has handled his stewardship. He judges two servants as having been \"faithful\" and gives them a positive reward. To the single \"unfaithful\" servant, who avoided even the safe profit of bank interest, a negative compensation is given.\n",
      "A thematically variant parable appears in the non-canonical Gospel of the Hebrews, wherein the servant who hid his money from his cruel master is rebuked, but presented as more righteous than the wealthiest servant, who squandered his money and was cast into darkness.\u001B[0m\n",
      "Thought:\u001B[32;1m\u001B[1;3m Do I need to use a tool? No\n",
      "AI: Based on Octavia Butler's Parable of the Sower, you might want to read Ursula K. Le Guin's The Dispossessed, Samuel R. Delany's Dhalgren, and Joanna Russ's The Female Man.\u001B[0m\n",
      "\n",
      "\u001B[1m> Finished chain.\u001B[0m\n"
     ]
    },
    {
     "data": {
      "text/plain": "\"Based on Octavia Butler's Parable of the Sower, you might want to read Ursula K. Le Guin's The Dispossessed, Samuel R. Delany's Dhalgren, and Joanna Russ's The Female Man.\""
     },
     "execution_count": 9,
     "metadata": {},
     "output_type": "execute_result"
    }
   ],
   "source": [
    "agent_chain.run(\n",
    "    input=\"Recommend science fiction books I should read that are similar to Octavia Butler's Parable of the Sower. Research online.\"\n",
    ")"
   ],
   "metadata": {
    "collapsed": false,
    "ExecuteTime": {
     "end_time": "2023-06-03T22:00:30.146191Z",
     "start_time": "2023-06-03T22:00:21.049400Z"
    }
   }
  },
  {
   "cell_type": "markdown",
   "source": [
    "# Calling the Zep Search API directly from the ZepChatMessageHistory object"
   ],
   "metadata": {
    "collapsed": false
   }
  },
  {
   "cell_type": "code",
   "execution_count": 10,
   "outputs": [
    {
     "data": {
      "text/plain": "[MemorySearchResult(message={'uuid': 'd3ce9900-0b70-4fea-b269-0cec1de55212', 'created_at': '2023-06-03T22:00:05.97513Z', 'role': 'ai', 'content': 'Octavia Butler won the Hugo Award, the Nebula Award, and the MacArthur Fellowship.', 'metadata': {'system': {'entities': [{'Label': 'PERSON', 'Matches': [{'End': 14, 'Start': 0, 'Text': 'Octavia Butler'}], 'Name': 'Octavia Butler'}, {'Label': 'WORK_OF_ART', 'Matches': [{'End': 33, 'Start': 19, 'Text': 'the Hugo Award'}], 'Name': 'the Hugo Award'}, {'Label': 'EVENT', 'Matches': [{'End': 81, 'Start': 57, 'Text': 'the MacArthur Fellowship'}], 'Name': 'the MacArthur Fellowship'}]}}, 'token_count': 21}, metadata=None, summary=None, dist=0.911757091625383),\n MemorySearchResult(message={'uuid': '4b28dffb-a072-4a54-80b8-d718ce263aa1', 'created_at': '2023-06-03T22:00:30.122681Z', 'role': 'ai', 'content': \"Based on Octavia Butler's Parable of the Sower, you might want to read Ursula K. Le Guin's The Dispossessed, Samuel R. Delany's Dhalgren, and Joanna Russ's The Female Man.\", 'metadata': {'system': {'entities': [{'Label': 'PERSON', 'Matches': [{'End': 25, 'Start': 9, 'Text': \"Octavia Butler's\"}], 'Name': \"Octavia Butler's\"}, {'Label': 'WORK_OF_ART', 'Matches': [{'End': 46, 'Start': 26, 'Text': 'Parable of the Sower'}], 'Name': 'Parable of the Sower'}, {'Label': 'ORG', 'Matches': [{'End': 90, 'Start': 71, 'Text': \"Ursula K. Le Guin's\"}], 'Name': \"Ursula K. Le Guin's\"}, {'Label': 'PERSON', 'Matches': [{'End': 107, 'Start': 95, 'Text': 'Dispossessed'}], 'Name': 'Dispossessed'}, {'Label': 'PERSON', 'Matches': [{'End': 127, 'Start': 109, 'Text': \"Samuel R. Delany's\"}], 'Name': \"Samuel R. Delany's\"}, {'Label': 'PERSON', 'Matches': [{'End': 136, 'Start': 128, 'Text': 'Dhalgren'}], 'Name': 'Dhalgren'}, {'Label': 'PERSON', 'Matches': [{'End': 155, 'Start': 142, 'Text': \"Joanna Russ's\"}], 'Name': \"Joanna Russ's\"}]}}, 'token_count': 51}, metadata=None, summary=None, dist=0.8663481922193341),\n MemorySearchResult(message={'uuid': 'd82cdfde-801f-4311-b8e0-4d44dc03c0d6', 'created_at': '2023-06-03T22:00:30.098732Z', 'role': 'human', 'content': \"Recommend science fiction books I should read that are similar to Octavia Butler's Parable of the Sower. Research online.\", 'metadata': {'system': {'entities': [{'Label': 'PERSON', 'Matches': [{'End': 82, 'Start': 66, 'Text': \"Octavia Butler's\"}], 'Name': \"Octavia Butler's\"}, {'Label': 'WORK_OF_ART', 'Matches': [{'End': 103, 'Start': 83, 'Text': 'Parable of the Sower'}], 'Name': 'Parable of the Sower'}]}}, 'token_count': 27}, metadata=None, summary=None, dist=0.8606585577679172),\n MemorySearchResult(message={'uuid': '32d6ecfc-3afe-448a-a50b-0a366f501c9f', 'created_at': '2023-06-03T22:00:05.996972Z', 'role': 'human', 'content': \"Write a short synopsis of Butler's book, Parable of the Sower. What is it about?\", 'metadata': {'system': {'entities': [{'Label': 'ORG', 'Matches': [{'End': 32, 'Start': 26, 'Text': 'Butler'}], 'Name': 'Butler'}, {'Label': 'WORK_OF_ART', 'Matches': [{'End': 61, 'Start': 41, 'Text': 'Parable of the Sower'}], 'Name': 'Parable of the Sower'}]}}, 'token_count': 23}, metadata=None, summary=None, dist=0.8044817382830265)]"
     },
     "execution_count": 10,
     "metadata": {},
     "output_type": "execute_result"
    }
   ],
   "source": [
    "zep_chat_history.search(\n",
    "    \"Octavia Butler\",\n",
    "    metadata={\n",
    "        \"where\": {\"jsonpath\": '$.system.entities[*] ? (@.Label == \"WORK_OF_ART\")'}\n",
    "    },\n",
    ")"
   ],
   "metadata": {
    "collapsed": false,
    "ExecuteTime": {
     "end_time": "2023-06-03T22:00:33.841704Z",
     "start_time": "2023-06-03T22:00:33.435338Z"
    }
   }
  },
  {
   "cell_type": "markdown",
   "source": [
    "# Filtering by Message Creation Date"
   ],
   "metadata": {
    "collapsed": false
   }
  },
  {
   "cell_type": "code",
   "execution_count": 11,
   "outputs": [
    {
     "data": {
      "text/plain": "[MemorySearchResult(message={'uuid': 'd3ce9900-0b70-4fea-b269-0cec1de55212', 'created_at': '2023-06-03T22:00:05.97513Z', 'role': 'ai', 'content': 'Octavia Butler won the Hugo Award, the Nebula Award, and the MacArthur Fellowship.', 'metadata': {'system': {'entities': [{'Label': 'PERSON', 'Matches': [{'End': 14, 'Start': 0, 'Text': 'Octavia Butler'}], 'Name': 'Octavia Butler'}, {'Label': 'WORK_OF_ART', 'Matches': [{'End': 33, 'Start': 19, 'Text': 'the Hugo Award'}], 'Name': 'the Hugo Award'}, {'Label': 'EVENT', 'Matches': [{'End': 81, 'Start': 57, 'Text': 'the MacArthur Fellowship'}], 'Name': 'the MacArthur Fellowship'}]}}, 'token_count': 21}, metadata=None, summary=None, dist=0.9117159078908468),\n MemorySearchResult(message={'uuid': '4b28dffb-a072-4a54-80b8-d718ce263aa1', 'created_at': '2023-06-03T22:00:30.122681Z', 'role': 'ai', 'content': \"Based on Octavia Butler's Parable of the Sower, you might want to read Ursula K. Le Guin's The Dispossessed, Samuel R. Delany's Dhalgren, and Joanna Russ's The Female Man.\", 'metadata': {'system': {'entities': [{'Label': 'PERSON', 'Matches': [{'End': 25, 'Start': 9, 'Text': \"Octavia Butler's\"}], 'Name': \"Octavia Butler's\"}, {'Label': 'WORK_OF_ART', 'Matches': [{'End': 46, 'Start': 26, 'Text': 'Parable of the Sower'}], 'Name': 'Parable of the Sower'}, {'Label': 'ORG', 'Matches': [{'End': 90, 'Start': 71, 'Text': \"Ursula K. Le Guin's\"}], 'Name': \"Ursula K. Le Guin's\"}, {'Label': 'PERSON', 'Matches': [{'End': 107, 'Start': 95, 'Text': 'Dispossessed'}], 'Name': 'Dispossessed'}, {'Label': 'PERSON', 'Matches': [{'End': 127, 'Start': 109, 'Text': \"Samuel R. Delany's\"}], 'Name': \"Samuel R. Delany's\"}, {'Label': 'PERSON', 'Matches': [{'End': 136, 'Start': 128, 'Text': 'Dhalgren'}], 'Name': 'Dhalgren'}, {'Label': 'PERSON', 'Matches': [{'End': 155, 'Start': 142, 'Text': \"Joanna Russ's\"}], 'Name': \"Joanna Russ's\"}]}}, 'token_count': 51}, metadata=None, summary=None, dist=0.8663058905554051),\n MemorySearchResult(message={'uuid': 'd82cdfde-801f-4311-b8e0-4d44dc03c0d6', 'created_at': '2023-06-03T22:00:30.098732Z', 'role': 'human', 'content': \"Recommend science fiction books I should read that are similar to Octavia Butler's Parable of the Sower. Research online.\", 'metadata': {'system': {'entities': [{'Label': 'PERSON', 'Matches': [{'End': 82, 'Start': 66, 'Text': \"Octavia Butler's\"}], 'Name': \"Octavia Butler's\"}, {'Label': 'WORK_OF_ART', 'Matches': [{'End': 103, 'Start': 83, 'Text': 'Parable of the Sower'}], 'Name': 'Parable of the Sower'}]}}, 'token_count': 27}, metadata=None, summary=None, dist=0.8606459840574514),\n MemorySearchResult(message={'uuid': '32d6ecfc-3afe-448a-a50b-0a366f501c9f', 'created_at': '2023-06-03T22:00:05.996972Z', 'role': 'human', 'content': \"Write a short synopsis of Butler's book, Parable of the Sower. What is it about?\", 'metadata': {'system': {'entities': [{'Label': 'ORG', 'Matches': [{'End': 32, 'Start': 26, 'Text': 'Butler'}], 'Name': 'Butler'}, {'Label': 'WORK_OF_ART', 'Matches': [{'End': 61, 'Start': 41, 'Text': 'Parable of the Sower'}], 'Name': 'Parable of the Sower'}]}}, 'token_count': 23}, metadata=None, summary=None, dist=0.804476303714828)]"
     },
     "execution_count": 11,
     "metadata": {},
     "output_type": "execute_result"
    }
   ],
   "source": [
    "zep_chat_history.search(\n",
    "    \"Octavia Butler\",\n",
    "    metadata={\n",
    "        \"start_date\": \"2023-06-02\",\n",
    "        \"end_date\": \"2023-06-04\",\n",
    "        \"where\": {\"jsonpath\": '$.system.entities[*] ? (@.Label == \"WORK_OF_ART\")'},\n",
    "    },\n",
    ")"
   ],
   "metadata": {
    "collapsed": false,
    "ExecuteTime": {
     "end_time": "2023-06-03T22:00:37.211199Z",
     "start_time": "2023-06-03T22:00:37.053660Z"
    }
   }
  },
  {
   "cell_type": "markdown",
   "source": [
    "# Add and search for your own Custom Metadata\n",
    "You can add your own custom metadata to the Zep memory. This metadata can be used to filter search results, either calling the Zep Search API directly or using the ZepRetriever."
   ],
   "metadata": {
    "collapsed": false
   }
  },
  {
   "cell_type": "code",
   "execution_count": 12,
   "outputs": [
    {
     "data": {
      "text/plain": "'OK'"
     },
     "execution_count": 12,
     "metadata": {},
     "output_type": "execute_result"
    }
   ],
   "source": [
    "zep_client = zep_chat_history.zep_client\n",
    "\n",
    "zep_client.add_memory(\n",
    "    session_id=session_id,\n",
    "    memory_messages=Memory(\n",
    "        messages=[Message(role=\"human\", content=\"I've read many books written by Octavia Butler.\", metadata={\"foo\": \"bar\"})]\n",
    "    ),\n",
    ")"
   ],
   "metadata": {
    "collapsed": false,
    "ExecuteTime": {
     "end_time": "2023-06-03T22:00:43.070336Z",
     "start_time": "2023-06-03T22:00:43.008112Z"
    }
   }
  },
  {
   "cell_type": "code",
   "execution_count": 13,
   "outputs": [
    {
     "name": "stdout",
     "output_type": "stream",
     "text": [
      "{   'content': \"I've read many books written by Octavia Butler.\",\n",
      "    'created_at': '2023-06-03T22:00:43.034056Z',\n",
      "    'metadata': {   'foo': 'bar',\n",
      "                    'system': {   'entities': [   {   'Label': 'PERSON',\n",
      "                                                      'Matches': [   {   'End': 46,\n",
      "                                                                         'Start': 32,\n",
      "                                                                         'Text': 'Octavia '\n",
      "                                                                                 'Butler'}],\n",
      "                                                      'Name': 'Octavia '\n",
      "                                                              'Butler'}]}},\n",
      "    'role': 'human',\n",
      "    'token_count': 13,\n",
      "    'uuid': '8f3a06dd-0625-41da-a2af-b549f2056b3f'}\n"
     ]
    }
   ],
   "source": [
    "pp = pprint.PrettyPrinter(indent=4)\n",
    "\n",
    "pp.pprint(zep_chat_history.zep_messages[-1].dict())"
   ],
   "metadata": {
    "collapsed": false,
    "ExecuteTime": {
     "end_time": "2023-06-03T22:00:46.603202Z",
     "start_time": "2023-06-03T22:00:46.573759Z"
    }
   }
  },
  {
   "cell_type": "code",
   "execution_count": 14,
   "outputs": [
    {
     "name": "stdout",
     "output_type": "stream",
     "text": [
      "{   'dist': 0.7170433826192629,\n",
      "    'message': {   'content': \"I've read many books written by Octavia Butler.\",\n",
      "                   'created_at': '2023-06-03T22:00:43.034056Z',\n",
      "                   'metadata': {   'foo': 'bar',\n",
      "                                   'system': {   'entities': [   {   'Label': 'PERSON',\n",
      "                                                                     'Matches': [   {   'End': 46,\n",
      "                                                                                        'Start': 32,\n",
      "                                                                                        'Text': 'Octavia '\n",
      "                                                                                                'Butler'}],\n",
      "                                                                     'Name': 'Octavia '\n",
      "                                                                             'Butler'}]}},\n",
      "                   'role': 'human',\n",
      "                   'token_count': 13,\n",
      "                   'uuid': '8f3a06dd-0625-41da-a2af-b549f2056b3f'},\n",
      "    'metadata': None,\n",
      "    'summary': None}\n"
     ]
    }
   ],
   "source": [
    "r = zep_client.search_memory(\n",
    "    session_id=session_id,\n",
    "    search_payload=MemorySearchPayload(\n",
    "        query=\"Famous sci-fi authors\",\n",
    "        metadata={\n",
    "            \"where\": {\"jsonpath\": '$[*] ? (@.foo == \"bar\")'},\n",
    "        },\n",
    "    ),\n",
    ")\n",
    "\n",
    "pp.pprint(r[0].dict())"
   ],
   "metadata": {
    "collapsed": false,
    "ExecuteTime": {
     "end_time": "2023-06-03T22:00:52.063583Z",
     "start_time": "2023-06-03T22:00:51.911198Z"
    }
   }
  },
  {
   "cell_type": "markdown",
   "source": [
    "## Or with a Langchain retriever called from a custom chain"
   ],
   "metadata": {
    "collapsed": false
   }
  },
  {
   "cell_type": "code",
   "execution_count": 15,
   "outputs": [
    {
     "data": {
      "text/plain": "[Document(page_content=\"I've read many books written by Octavia Butler.\", metadata={'score': 0.8346713396773939, 'uuid': '8f3a06dd-0625-41da-a2af-b549f2056b3f', 'created_at': '2023-06-03T22:00:43.034056Z', 'role': 'human', 'metadata': {'foo': 'bar', 'system': {'entities': [{'Label': 'PERSON', 'Matches': [{'End': 46, 'Start': 32, 'Text': 'Octavia Butler'}], 'Name': 'Octavia Butler'}]}}, 'token_count': 13})]"
     },
     "execution_count": 15,
     "metadata": {},
     "output_type": "execute_result"
    }
   ],
   "source": [
    "retriever.get_relevant_documents(\n",
    "    \"Famous sci-fi authors\", metadata={\"where\": {\"jsonpath\": '$[*] ? (@.foo == \"bar\")'}}\n",
    ")"
   ],
   "metadata": {
    "collapsed": false,
    "ExecuteTime": {
     "end_time": "2023-06-03T22:00:55.840069Z",
     "start_time": "2023-06-03T22:00:55.682416Z"
    }
   }
  },
  {
   "cell_type": "code",
   "execution_count": null,
   "outputs": [],
   "source": [],
   "metadata": {
    "collapsed": false
   }
  }
 ],
 "metadata": {
  "kernelspec": {
   "display_name": "Python 3",
   "language": "python",
   "name": "python3"
  },
  "language_info": {
   "codemirror_mode": {
    "name": "ipython",
    "version": 2
   },
   "file_extension": ".py",
   "mimetype": "text/x-python",
   "name": "python",
   "nbconvert_exporter": "python",
   "pygments_lexer": "ipython2",
   "version": "2.7.6"
  }
 },
 "nbformat": 4,
 "nbformat_minor": 0
}

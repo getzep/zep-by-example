{
 "cells": [
  {
   "cell_type": "code",
   "execution_count": 1,
   "id": "9fdc74a5-1420-45f1-9dc4-2b160a0d1f46",
   "metadata": {
    "ExecuteTime": {
     "end_time": "2023-06-27T23:59:36.527790Z",
     "start_time": "2023-06-27T23:59:35.405234Z"
    }
   },
   "outputs": [],
   "source": [
    "from typing import List, Mapping, NamedTuple, Optional\n",
    "\n",
    "from dotenv import load_dotenv\n",
    "from langchain import LLMChain\n",
    "from langchain.embeddings.base import Embeddings\n",
    "from langchain.chains.router import MultiRouteChain\n",
    "from langchain.chains.router.base import RouterChain\n",
    "from langchain.chains.router.embedding_router import EmbeddingRouterChain\n",
    "from langchain.chat_models import ChatOpenAI\n",
    "from langchain.embeddings import OpenAIEmbeddings\n",
    "from langchain.memory import ZepChatMessageHistory, ConversationBufferMemory\n",
    "from langchain.prompts.prompt import PromptTemplate\n",
    "from langchain.vectorstores import DocArrayInMemorySearch"
   ]
  },
  {
   "cell_type": "code",
   "execution_count": 2,
   "outputs": [],
   "source": [
    "ZEP_API_URL = \"http://localhost:8000\"\n",
    "\n",
    "chat_history = ZepChatMessageHistory(session_id=\"test\", url=ZEP_API_URL)\n",
    "memory = ConversationBufferMemory(chat_history=chat_history)"
   ],
   "metadata": {
    "collapsed": false,
    "ExecuteTime": {
     "end_time": "2023-06-27T23:59:36.648585Z",
     "start_time": "2023-06-27T23:59:36.524096Z"
    }
   }
  },
  {
   "cell_type": "code",
   "execution_count": 3,
   "id": "3f4028fd-f4d6-47d8-bcbc-212a38dd71dc",
   "metadata": {
    "ExecuteTime": {
     "end_time": "2023-06-27T23:59:36.653478Z",
     "start_time": "2023-06-27T23:59:36.649002Z"
    }
   },
   "outputs": [
    {
     "data": {
      "text/plain": "True"
     },
     "execution_count": 3,
     "metadata": {},
     "output_type": "execute_result"
    }
   ],
   "source": [
    "load_dotenv()"
   ]
  },
  {
   "cell_type": "code",
   "execution_count": 4,
   "outputs": [],
   "source": [],
   "metadata": {
    "collapsed": false,
    "ExecuteTime": {
     "end_time": "2023-06-27T23:59:36.655533Z",
     "start_time": "2023-06-27T23:59:36.654252Z"
    }
   }
  },
  {
   "cell_type": "code",
   "execution_count": 5,
   "outputs": [],
   "source": [
    "sales_template = \"\"\"You are widgets sales rep and your job is to assist humans with completing the purchase of a widget.\n",
    "In order to close a widget sale, you need to know how many widgets the human would like to purchase. Don't be pushy about making the sale,\n",
    "but remember that your job is dependent on achieving your sales quota.\n",
    "\n",
    "Important sales information:\n",
    "- The current price of widgets is $499.\n",
    "- If a customer wants to purchase 10 or more widgets, you can offer a 20% discount. There are no discounts available for smaller purchases.\n",
    "- They come in blue, black, hot pink, and sparkling gold colors.\n",
    "- Widgets have a warranty of 1 year.\n",
    "\n",
    "Here are the prior messages in this conversation:\n",
    "{chat_history}\n",
    "\n",
    "Here is a question: {input}\n",
    "\"\"\"\n",
    "\n",
    "support_template = \"\"\"You are support agent for a widget producer and your job is to assist humans with issues they may have with using the widgets\n",
    "they purchased from us.\n",
    "In order to assist a human, you need to know when the widget was purchased, what color it is, and what the user's support issue is.\n",
    "\n",
    "Important notes about working with humans:\n",
    "- Always be friendly! They may be upset if their widget doesn't work. Being friendly will help you getting the answers you need.\n",
    "- Humans can only answer 1 question at a time.\n",
    "\n",
    "Important support information:\n",
    "- Widgets have a warranty of 1 year.\n",
    "- Sparkling gold widgets tend to flake the sparkling paint. We are happy to replace these as long as the widget is under warranty.\n",
    "- Many humans forget to power on their widgets before attempting use. This should be your first line of questioning.\n",
    "\n",
    "Today's date is 06/27/2023.\n",
    "\n",
    "Here are the prior messages in this conversation:\n",
    "{chat_history}\n",
    "\n",
    "Here is a question: {input}\n",
    "\"\"\"\n",
    "\n",
    "intent_models = [\n",
    "    IntentModel(\n",
    "        intent=\"purchase a widget\",\n",
    "        description=\"the human would like to make a purchase\",\n",
    "        prompt=sales_template,\n",
    "        default=True,\n",
    "    ),\n",
    "    IntentModel(\n",
    "        intent=\"needs customer support\",\n",
    "        description=\"the human has a support query\",\n",
    "        prompt=support_template,\n",
    "    ),\n",
    "]"
   ],
   "metadata": {
    "collapsed": false,
    "ExecuteTime": {
     "end_time": "2023-06-27T23:59:36.658564Z",
     "start_time": "2023-06-27T23:59:36.657163Z"
    }
   }
  },
  {
   "cell_type": "code",
   "execution_count": 6,
   "id": "e404cadb-ae7c-4f46-b30b-5ea599be928a",
   "metadata": {
    "ExecuteTime": {
     "end_time": "2023-06-27T23:59:36.669033Z",
     "start_time": "2023-06-27T23:59:36.659415Z"
    }
   },
   "outputs": [],
   "source": [
    "llm = ChatOpenAI(model_name=\"gpt-3.5-turbo\")"
   ]
  },
  {
   "cell_type": "code",
   "execution_count": 7,
   "id": "517ecbe3-47e3-4bc0-be55-795b90b82f36",
   "metadata": {
    "ExecuteTime": {
     "end_time": "2023-06-27T23:59:36.690381Z",
     "start_time": "2023-06-27T23:59:36.673083Z"
    }
   },
   "outputs": [],
   "source": [
    "class IntentRouterChain(MultiRouteChain):\n",
    "    \"\"\"Chain for routing inputs to different chains based on intent.\"\"\"\n",
    "\n",
    "    router_chain: RouterChain\n",
    "    destination_chains: Mapping[str, LLMChain]\n",
    "    default_chain: LLMChain\n",
    "\n",
    "    @property\n",
    "    def output_keys(self) -> List[str]:\n",
    "        return [\"text\"]\n",
    "\n",
    "    @property\n",
    "    def input_keys(self) -> List[str]:\n",
    "        return [\"input\", \"chat_history\"]\n",
    "\n",
    "    @classmethod\n",
    "    def from_intent_models(\n",
    "        cls,\n",
    "        intent_models: List[IntentModel],\n",
    "        llm: ChatOpenAI,\n",
    "        embedding_model: Optional[Embeddings],\n",
    "        memory: Optional[ConversationBufferMemory] = None,\n",
    "        verbose: bool = False,\n",
    "    ) -> \"IntentRouterChain\":\n",
    "        \"\"\"Create a new IntentRouterChain from a list of intent models.\"\"\"\n",
    "        names_and_descriptions = [(i.intent, [i.description]) for i in intent_models]\n",
    "\n",
    "        router_chain = EmbeddingRouterChain.from_names_and_descriptions(\n",
    "            names_and_descriptions,\n",
    "            DocArrayInMemorySearch,\n",
    "            embedding_model,\n",
    "            routing_keys=[\"input\"],\n",
    "            verbose=verbose,\n",
    "        )\n",
    "\n",
    "        default_chain: Optional[LLMChain] = None\n",
    "        destination_chains = {}\n",
    "        for i in intent_models:\n",
    "            destination_chains[i.intent] = LLMChain(\n",
    "                llm=llm,\n",
    "                prompt=PromptTemplate(\n",
    "                    template=i.prompt, input_variables=[\"input\", \"chat_history\"]\n",
    "                ),\n",
    "                memory=memory,\n",
    "            )\n",
    "            if i.default:\n",
    "                default_chain = destination_chains[i.intent]\n",
    "\n",
    "        if not default_chain:\n",
    "            raise ValueError(\"No default chain was specified.\")\n",
    "\n",
    "        return cls(\n",
    "            router_chain=router_chain,\n",
    "            destination_chains=destination_chains,\n",
    "            default_chain=default_chain,\n",
    "            verbose=verbose,\n",
    "        )"
   ]
  },
  {
   "cell_type": "code",
   "execution_count": 8,
   "id": "625b8f72-16cd-402e-a5fb-83c399fd96e3",
   "metadata": {
    "ExecuteTime": {
     "end_time": "2023-06-27T23:59:39.499437Z",
     "start_time": "2023-06-27T23:59:36.675260Z"
    }
   },
   "outputs": [],
   "source": [
    "chain = IntentRouterChain.from_intent_models(\n",
    "    intent_models=intent_models,\n",
    "    llm=llm,\n",
    "    embedding_model=OpenAIEmbeddings(),\n",
    "    verbose=True,\n",
    ")"
   ]
  },
  {
   "cell_type": "code",
   "execution_count": 9,
   "id": "db842d53-ca76-4d16-a9ce-6061c4ab4ad8",
   "metadata": {
    "ExecuteTime": {
     "end_time": "2023-06-27T23:59:39.716235Z",
     "start_time": "2023-06-27T23:59:39.500155Z"
    }
   },
   "outputs": [
    {
     "ename": "ValueError",
     "evalue": "A single string input was passed in, but this chain expects multiple inputs ({'input', 'chat_history'}). When a chain expects multiple inputs, please call it by passing in a dictionary, eg `chain({'foo': 1, 'bar': 2})`",
     "output_type": "error",
     "traceback": [
      "\u001B[0;31m---------------------------------------------------------------------------\u001B[0m",
      "\u001B[0;31mValueError\u001B[0m                                Traceback (most recent call last)",
      "Cell \u001B[0;32mIn[9], line 1\u001B[0m\n\u001B[0;32m----> 1\u001B[0m \u001B[38;5;28mprint\u001B[39m(\u001B[43mchain\u001B[49m\u001B[38;5;241;43m.\u001B[39;49m\u001B[43mrun\u001B[49m\u001B[43m(\u001B[49m\u001B[38;5;124;43m\"\u001B[39;49m\u001B[38;5;124;43mHello! How much do widgets cost?\u001B[39;49m\u001B[38;5;124;43m\"\u001B[39;49m\u001B[43m)\u001B[49m)\n",
      "File \u001B[0;32m~/dev/zep-by-example/langchain/python/intent_router/.venv/lib/python3.11/site-packages/langchain/chains/base.py:290\u001B[0m, in \u001B[0;36mChain.run\u001B[0;34m(self, callbacks, tags, *args, **kwargs)\u001B[0m\n\u001B[1;32m    288\u001B[0m     \u001B[38;5;28;01mif\u001B[39;00m \u001B[38;5;28mlen\u001B[39m(args) \u001B[38;5;241m!=\u001B[39m \u001B[38;5;241m1\u001B[39m:\n\u001B[1;32m    289\u001B[0m         \u001B[38;5;28;01mraise\u001B[39;00m \u001B[38;5;167;01mValueError\u001B[39;00m(\u001B[38;5;124m\"\u001B[39m\u001B[38;5;124m`run` supports only one positional argument.\u001B[39m\u001B[38;5;124m\"\u001B[39m)\n\u001B[0;32m--> 290\u001B[0m     \u001B[38;5;28;01mreturn\u001B[39;00m \u001B[38;5;28;43mself\u001B[39;49m\u001B[43m(\u001B[49m\u001B[43margs\u001B[49m\u001B[43m[\u001B[49m\u001B[38;5;241;43m0\u001B[39;49m\u001B[43m]\u001B[49m\u001B[43m,\u001B[49m\u001B[43m \u001B[49m\u001B[43mcallbacks\u001B[49m\u001B[38;5;241;43m=\u001B[39;49m\u001B[43mcallbacks\u001B[49m\u001B[43m,\u001B[49m\u001B[43m \u001B[49m\u001B[43mtags\u001B[49m\u001B[38;5;241;43m=\u001B[39;49m\u001B[43mtags\u001B[49m\u001B[43m)\u001B[49m[_output_key]\n\u001B[1;32m    292\u001B[0m \u001B[38;5;28;01mif\u001B[39;00m kwargs \u001B[38;5;129;01mand\u001B[39;00m \u001B[38;5;129;01mnot\u001B[39;00m args:\n\u001B[1;32m    293\u001B[0m     \u001B[38;5;28;01mreturn\u001B[39;00m \u001B[38;5;28mself\u001B[39m(kwargs, callbacks\u001B[38;5;241m=\u001B[39mcallbacks, tags\u001B[38;5;241m=\u001B[39mtags)[_output_key]\n",
      "File \u001B[0;32m~/dev/zep-by-example/langchain/python/intent_router/.venv/lib/python3.11/site-packages/langchain/chains/base.py:149\u001B[0m, in \u001B[0;36mChain.__call__\u001B[0;34m(self, inputs, return_only_outputs, callbacks, tags, include_run_info)\u001B[0m\n\u001B[1;32m    126\u001B[0m \u001B[38;5;28;01mdef\u001B[39;00m \u001B[38;5;21m__call__\u001B[39m(\n\u001B[1;32m    127\u001B[0m     \u001B[38;5;28mself\u001B[39m,\n\u001B[1;32m    128\u001B[0m     inputs: Union[Dict[\u001B[38;5;28mstr\u001B[39m, Any], Any],\n\u001B[0;32m   (...)\u001B[0m\n\u001B[1;32m    133\u001B[0m     include_run_info: \u001B[38;5;28mbool\u001B[39m \u001B[38;5;241m=\u001B[39m \u001B[38;5;28;01mFalse\u001B[39;00m,\n\u001B[1;32m    134\u001B[0m ) \u001B[38;5;241m-\u001B[39m\u001B[38;5;241m>\u001B[39m Dict[\u001B[38;5;28mstr\u001B[39m, Any]:\n\u001B[1;32m    135\u001B[0m \u001B[38;5;250m    \u001B[39m\u001B[38;5;124;03m\"\"\"Run the logic of this chain and add to output if desired.\u001B[39;00m\n\u001B[1;32m    136\u001B[0m \n\u001B[1;32m    137\u001B[0m \u001B[38;5;124;03m    Args:\u001B[39;00m\n\u001B[0;32m   (...)\u001B[0m\n\u001B[1;32m    147\u001B[0m \u001B[38;5;124;03m            to False.\u001B[39;00m\n\u001B[1;32m    148\u001B[0m \u001B[38;5;124;03m    \"\"\"\u001B[39;00m\n\u001B[0;32m--> 149\u001B[0m     inputs \u001B[38;5;241m=\u001B[39m \u001B[38;5;28;43mself\u001B[39;49m\u001B[38;5;241;43m.\u001B[39;49m\u001B[43mprep_inputs\u001B[49m\u001B[43m(\u001B[49m\u001B[43minputs\u001B[49m\u001B[43m)\u001B[49m\n\u001B[1;32m    150\u001B[0m     callback_manager \u001B[38;5;241m=\u001B[39m CallbackManager\u001B[38;5;241m.\u001B[39mconfigure(\n\u001B[1;32m    151\u001B[0m         callbacks, \u001B[38;5;28mself\u001B[39m\u001B[38;5;241m.\u001B[39mcallbacks, \u001B[38;5;28mself\u001B[39m\u001B[38;5;241m.\u001B[39mverbose, tags, \u001B[38;5;28mself\u001B[39m\u001B[38;5;241m.\u001B[39mtags\n\u001B[1;32m    152\u001B[0m     )\n\u001B[1;32m    153\u001B[0m     new_arg_supported \u001B[38;5;241m=\u001B[39m inspect\u001B[38;5;241m.\u001B[39msignature(\u001B[38;5;28mself\u001B[39m\u001B[38;5;241m.\u001B[39m_call)\u001B[38;5;241m.\u001B[39mparameters\u001B[38;5;241m.\u001B[39mget(\u001B[38;5;124m\"\u001B[39m\u001B[38;5;124mrun_manager\u001B[39m\u001B[38;5;124m\"\u001B[39m)\n",
      "File \u001B[0;32m~/dev/zep-by-example/langchain/python/intent_router/.venv/lib/python3.11/site-packages/langchain/chains/base.py:248\u001B[0m, in \u001B[0;36mChain.prep_inputs\u001B[0;34m(self, inputs)\u001B[0m\n\u001B[1;32m    246\u001B[0m         _input_keys \u001B[38;5;241m=\u001B[39m _input_keys\u001B[38;5;241m.\u001B[39mdifference(\u001B[38;5;28mself\u001B[39m\u001B[38;5;241m.\u001B[39mmemory\u001B[38;5;241m.\u001B[39mmemory_variables)\n\u001B[1;32m    247\u001B[0m     \u001B[38;5;28;01mif\u001B[39;00m \u001B[38;5;28mlen\u001B[39m(_input_keys) \u001B[38;5;241m!=\u001B[39m \u001B[38;5;241m1\u001B[39m:\n\u001B[0;32m--> 248\u001B[0m         \u001B[38;5;28;01mraise\u001B[39;00m \u001B[38;5;167;01mValueError\u001B[39;00m(\n\u001B[1;32m    249\u001B[0m             \u001B[38;5;124mf\u001B[39m\u001B[38;5;124m\"\u001B[39m\u001B[38;5;124mA single string input was passed in, but this chain expects \u001B[39m\u001B[38;5;124m\"\u001B[39m\n\u001B[1;32m    250\u001B[0m             \u001B[38;5;124mf\u001B[39m\u001B[38;5;124m\"\u001B[39m\u001B[38;5;124mmultiple inputs (\u001B[39m\u001B[38;5;132;01m{\u001B[39;00m_input_keys\u001B[38;5;132;01m}\u001B[39;00m\u001B[38;5;124m). When a chain expects \u001B[39m\u001B[38;5;124m\"\u001B[39m\n\u001B[1;32m    251\u001B[0m             \u001B[38;5;124mf\u001B[39m\u001B[38;5;124m\"\u001B[39m\u001B[38;5;124mmultiple inputs, please call it by passing in a dictionary, \u001B[39m\u001B[38;5;124m\"\u001B[39m\n\u001B[1;32m    252\u001B[0m             \u001B[38;5;124m\"\u001B[39m\u001B[38;5;124meg `chain(\u001B[39m\u001B[38;5;124m{\u001B[39m\u001B[38;5;124m'\u001B[39m\u001B[38;5;124mfoo\u001B[39m\u001B[38;5;124m'\u001B[39m\u001B[38;5;124m: 1, \u001B[39m\u001B[38;5;124m'\u001B[39m\u001B[38;5;124mbar\u001B[39m\u001B[38;5;124m'\u001B[39m\u001B[38;5;124m: 2})`\u001B[39m\u001B[38;5;124m\"\u001B[39m\n\u001B[1;32m    253\u001B[0m         )\n\u001B[1;32m    254\u001B[0m     inputs \u001B[38;5;241m=\u001B[39m {\u001B[38;5;28mlist\u001B[39m(_input_keys)[\u001B[38;5;241m0\u001B[39m]: inputs}\n\u001B[1;32m    255\u001B[0m \u001B[38;5;28;01mif\u001B[39;00m \u001B[38;5;28mself\u001B[39m\u001B[38;5;241m.\u001B[39mmemory \u001B[38;5;129;01mis\u001B[39;00m \u001B[38;5;129;01mnot\u001B[39;00m \u001B[38;5;28;01mNone\u001B[39;00m:\n",
      "\u001B[0;31mValueError\u001B[0m: A single string input was passed in, but this chain expects multiple inputs ({'input', 'chat_history'}). When a chain expects multiple inputs, please call it by passing in a dictionary, eg `chain({'foo': 1, 'bar': 2})`"
     ]
    }
   ],
   "source": [
    "print(chain.run(\"Hello! How much do widgets cost?\"))"
   ]
  },
  {
   "cell_type": "code",
   "execution_count": 16,
   "id": "76468401-e990-4fb0-8b06-ff77c0e6d249",
   "metadata": {
    "ExecuteTime": {
     "end_time": "2023-06-27T23:35:33.459673Z",
     "start_time": "2023-06-27T23:35:30.645770Z"
    }
   },
   "outputs": [
    {
     "name": "stdout",
     "output_type": "stream",
     "text": [
      "\n",
      "\n",
      "\u001B[1m> Entering new  chain...\u001B[0m\n",
      "\n",
      "\n",
      "\u001B[1m> Entering new  chain...\u001B[0m\n",
      "\n",
      "\u001B[1m> Finished chain.\u001B[0m\n",
      "needs customer support: {'input': \"I'm upset that my widget doesn't work\"}\n",
      "\n",
      "\u001B[1m> Entering new  chain...\u001B[0m\n",
      "Prompt after formatting:\n",
      "\u001B[32;1m\u001B[1;3mYou are support agent for a widget producer and your job is to assist humans with issues they may have with using the widgets\n",
      "they purchased from us.\n",
      "In order to assist a human, you need to know when the widget was purchased, what color it is, and what the user's support issue is.\n",
      "\n",
      "Import notes about working with humans:\n",
      "- Always be friendly! They may be upset if their widget doesn't work. Being friendly will help you getting the answers you need.\n",
      "- Humans can only answer 1 question at a time.\n",
      "\n",
      "Important support information:\n",
      "- Widgets have a warranty of 1 year.\n",
      "- Sparkling gold widgets tend to flake the sparkling paint. We are happy to replace these as long as the widget is under warranty.\n",
      "- Many humans forget to power on their widgets before attempting use. This should be your first line of questioning.\n",
      "\n",
      "Today's date is 06/27/2023.\n",
      "\n",
      "Here is a question: I'm upset that my widget doesn't work\n",
      "\u001B[0m\n",
      "\n",
      "\u001B[1m> Finished chain.\u001B[0m\n",
      "\n",
      "\u001B[1m> Finished chain.\u001B[0m\n",
      "Hello! I'm sorry to hear that your widget isn't working. Can you tell me when you purchased the widget, what color it is, and if it's currently under warranty? Also, have you tried turning it on? That's often the first step in troubleshooting. Let me know and I'll do my best to assist you.\n"
     ]
    }
   ],
   "source": [
    "print(chain.run(\"I'm upset that my widget doesn't work\"))"
   ]
  },
  {
   "cell_type": "code",
   "execution_count": null,
   "id": "9ad11adc-2334-4a10-82a9-041daa028d57",
   "metadata": {},
   "outputs": [],
   "source": []
  }
 ],
 "metadata": {
  "kernelspec": {
   "display_name": "Python 3 (ipykernel)",
   "language": "python",
   "name": "python3"
  },
  "language_info": {
   "codemirror_mode": {
    "name": "ipython",
    "version": 3
   },
   "file_extension": ".py",
   "mimetype": "text/x-python",
   "name": "python",
   "nbconvert_exporter": "python",
   "pygments_lexer": "ipython3",
   "version": "3.11.3"
  }
 },
 "nbformat": 4,
 "nbformat_minor": 5
}
